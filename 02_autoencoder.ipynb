{
  "nbformat": 4,
  "nbformat_minor": 0,
  "metadata": {
    "colab": {
      "provenance": [],
      "authorship_tag": "ABX9TyPi3hnvl1SBzQRRTPZuZx8u",
      "include_colab_link": true
    },
    "kernelspec": {
      "name": "python3",
      "display_name": "Python 3"
    },
    "language_info": {
      "name": "python"
    },
    "accelerator": "GPU"
  },
  "cells": [
    {
      "cell_type": "markdown",
      "metadata": {
        "id": "view-in-github",
        "colab_type": "text"
      },
      "source": [
        "<a href=\"https://colab.research.google.com/github/R0bk/ml_replications/blob/main/02_autoencoder.ipynb\" target=\"_parent\"><img src=\"https://colab.research.google.com/assets/colab-badge.svg\" alt=\"Open In Colab\"/></a>"
      ]
    },
    {
      "cell_type": "code",
      "metadata": {
        "id": "tLyt1RtWEeaU",
        "colab": {
          "base_uri": "https://localhost:8080/"
        },
        "outputId": "58db3f76-64ac-4d37-92c1-c3437174a3b4"
      },
      "source": [
        "!pip install torch torchvision\n",
        "!pip install numpy tqdm"
      ],
      "execution_count": null,
      "outputs": [
        {
          "output_type": "stream",
          "name": "stdout",
          "text": [
            "Requirement already satisfied: torch in /usr/local/lib/python3.7/dist-packages (1.9.0+cu111)\n",
            "Requirement already satisfied: torchvision in /usr/local/lib/python3.7/dist-packages (0.10.0+cu111)\n",
            "Requirement already satisfied: typing-extensions in /usr/local/lib/python3.7/dist-packages (from torch) (3.7.4.3)\n",
            "Requirement already satisfied: pillow>=5.3.0 in /usr/local/lib/python3.7/dist-packages (from torchvision) (7.1.2)\n",
            "Requirement already satisfied: numpy in /usr/local/lib/python3.7/dist-packages (from torchvision) (1.19.5)\n",
            "Requirement already satisfied: numpy in /usr/local/lib/python3.7/dist-packages (1.19.5)\n",
            "Requirement already satisfied: tqdm in /usr/local/lib/python3.7/dist-packages (4.62.3)\n"
          ]
        }
      ]
    },
    {
      "cell_type": "code",
      "metadata": {
        "id": "deDJDu0jEdnW"
      },
      "source": [
        "import torch\n",
        "from torch import nn\n",
        "from torch.utils.data import DataLoader\n",
        "from torchvision import datasets\n",
        "from torchvision.transforms import ToTensor, Lambda, Compose\n",
        "import matplotlib.pyplot as plt"
      ],
      "execution_count": null,
      "outputs": []
    },
    {
      "cell_type": "code",
      "metadata": {
        "colab": {
          "base_uri": "https://localhost:8080/"
        },
        "id": "E_tKp9TGGKuo",
        "outputId": "7960b244-4d23-42e8-b829-2b9f2ec56afa"
      },
      "source": [
        "# Download training data from open datasets.\n",
        "training_data = datasets.FashionMNIST(\n",
        "    root=\"data\",\n",
        "    train=True,\n",
        "    download=True,\n",
        "    transform=ToTensor(),\n",
        ")\n",
        "\n",
        "# Download test data from open datasets.\n",
        "test_data = datasets.FashionMNIST(\n",
        "    root=\"data\",\n",
        "    train=False,\n",
        "    download=True,\n",
        "    transform=ToTensor(),\n",
        ")"
      ],
      "execution_count": null,
      "outputs": [
        {
          "output_type": "stream",
          "name": "stderr",
          "text": [
            "/usr/local/lib/python3.7/dist-packages/torchvision/datasets/mnist.py:498: UserWarning: The given NumPy array is not writeable, and PyTorch does not support non-writeable tensors. This means you can write to the underlying (supposedly non-writeable) NumPy array using the tensor. You may want to copy the array to protect its data or make it writeable before converting it to a tensor. This type of warning will be suppressed for the rest of this program. (Triggered internally at  /pytorch/torch/csrc/utils/tensor_numpy.cpp:180.)\n",
            "  return torch.from_numpy(parsed.astype(m[2], copy=False)).view(*s)\n"
          ]
        }
      ]
    },
    {
      "cell_type": "code",
      "metadata": {
        "colab": {
          "base_uri": "https://localhost:8080/"
        },
        "id": "6tXX_TBcGSRH",
        "outputId": "3b8030ff-cfb8-4613-adac-5af5b3d95128"
      },
      "source": [
        "batch_size = 128\n",
        "\n",
        "# Create data loaders.\n",
        "train_dataloader = DataLoader(training_data, batch_size=batch_size)\n",
        "test_dataloader = DataLoader(test_data, batch_size=batch_size)\n",
        "\n",
        "for X, y in test_dataloader:\n",
        "    print(\"Shape of X [N, C, H, W]: \", X.shape)\n",
        "    print(\"Shape of y: \", y.shape, y.dtype)\n",
        "    break"
      ],
      "execution_count": null,
      "outputs": [
        {
          "output_type": "stream",
          "name": "stdout",
          "text": [
            "Shape of X [N, C, H, W]:  torch.Size([128, 1, 28, 28])\n",
            "Shape of y:  torch.Size([128]) torch.int64\n"
          ]
        }
      ]
    },
    {
      "cell_type": "code",
      "metadata": {
        "colab": {
          "base_uri": "https://localhost:8080/"
        },
        "id": "1qzLAYPHGYUH",
        "outputId": "c01f2698-7f87-4fc3-f5a6-cad68e9f0b0d"
      },
      "source": [
        "# Get cpu or gpu device for training.\n",
        "device = \"cuda\" if torch.cuda.is_available() else \"cpu\"\n",
        "print(\"Using {} device\".format(device))\n",
        "\n",
        "class NeuralNetwork(nn.Module):\n",
        "  def __init__(self):\n",
        "    super(NeuralNetwork, self).__init__()\n",
        "    self.flatten = nn.Flatten()\n",
        "\n",
        "    self.encoder = nn.Sequential(\n",
        "        nn.Linear(28*28, 128),\n",
        "        nn.ReLU(),\n",
        "        nn.Linear(128, 64),\n",
        "        nn.ReLU(),\n",
        "        nn.Linear(64, 10),\n",
        "        nn.ReLU()\n",
        "    )\n",
        "    self.decoder = nn.Sequential(\n",
        "        nn.Linear(10, 64),\n",
        "        nn.ReLU(),\n",
        "        nn.Linear(64, 128),\n",
        "        nn.ReLU(),\n",
        "        nn.Linear(128, 28*28),\n",
        "    )\n",
        "    # self.unflatten = nn.Unflatten(1, torch.Size([28, 28]))\n",
        "\n",
        "  def forward(self, x):\n",
        "    x = self.flatten(x)\n",
        "    x = self.encoder(x)\n",
        "    x = self.decoder(x)\n",
        "    # x = self.unflatten(x)\n",
        "    return x\n",
        "\n",
        "model = NeuralNetwork().to(device)\n",
        "print(model)"
      ],
      "execution_count": null,
      "outputs": [
        {
          "output_type": "stream",
          "name": "stdout",
          "text": [
            "Using cuda device\n",
            "NeuralNetwork(\n",
            "  (flatten): Flatten(start_dim=1, end_dim=-1)\n",
            "  (encoder): Sequential(\n",
            "    (0): Linear(in_features=784, out_features=128, bias=True)\n",
            "    (1): ReLU()\n",
            "    (2): Linear(in_features=128, out_features=64, bias=True)\n",
            "    (3): ReLU()\n",
            "    (4): Linear(in_features=64, out_features=10, bias=True)\n",
            "    (5): ReLU()\n",
            "  )\n",
            "  (decoder): Sequential(\n",
            "    (0): Linear(in_features=10, out_features=64, bias=True)\n",
            "    (1): ReLU()\n",
            "    (2): Linear(in_features=64, out_features=128, bias=True)\n",
            "    (3): ReLU()\n",
            "    (4): Linear(in_features=128, out_features=784, bias=True)\n",
            "  )\n",
            ")\n"
          ]
        }
      ]
    },
    {
      "cell_type": "code",
      "metadata": {
        "id": "tSrh075GHWZQ"
      },
      "source": [
        "loss_fn = nn.MSELoss()\n",
        "optimiser = torch.optim.Adam(model.parameters(), lr=1e-3, weight_decay=1e-5)"
      ],
      "execution_count": null,
      "outputs": []
    },
    {
      "cell_type": "code",
      "metadata": {
        "id": "8OLZjO6xH1iX"
      },
      "source": [
        "def train(dataloader, model, loss_fn, optimiser):\n",
        "  size = len(train_dataloader.dataset)\n",
        "\n",
        "  model.train()\n",
        "  for batch, (X, y) in enumerate(dataloader):\n",
        "    X, y = X.to(device), y.to(device)\n",
        "    # print('hi')\n",
        "    pred = model(X)\n",
        "    # print(pred.shape)\n",
        "    # print(X.squeeze().flatten(1).shape)\n",
        "    loss = loss_fn(pred, X.squeeze().flatten(1))\n",
        "    \n",
        "\n",
        "    optimiser.zero_grad()\n",
        "    loss.backward()\n",
        "    optimiser.step()\n",
        "\n",
        "    if batch % 100 == 0:\n",
        "      loss, current = loss.item(), batch * len(X)\n",
        "      print(f\"loss: {loss:>7f}  [{current:>5d}/{size:>5d}]\")"
      ],
      "execution_count": null,
      "outputs": []
    },
    {
      "cell_type": "code",
      "metadata": {
        "id": "WpM50IVDIl0A"
      },
      "source": [
        "def test(dataloader, model, loss_fn):\n",
        "    size = len(dataloader.dataset)\n",
        "    num_batches = len(dataloader)\n",
        "    model.eval()\n",
        "    test_loss, correct = 0, 0\n",
        "    with torch.no_grad():\n",
        "        for X, y in dataloader:\n",
        "            X, y = X.to(device), y.to(device)\n",
        "            pred = model(X)\n",
        "            test_loss += loss_fn(pred, y).item()\n",
        "            correct += (pred.argmax(1) == y).type(torch.float).sum().item()\n",
        "    test_loss /= num_batches\n",
        "    correct /= size\n",
        "    print(f\"Test Error: \\n Accuracy: {(100*correct):>0.1f}%, Avg loss: {test_loss:>8f} \\n\")"
      ],
      "execution_count": null,
      "outputs": []
    },
    {
      "cell_type": "code",
      "metadata": {
        "colab": {
          "base_uri": "https://localhost:8080/"
        },
        "id": "6_d-pp-4IzHv",
        "outputId": "c856817d-f701-4725-bc76-97162f1274cf"
      },
      "source": [
        "epochs = 20\n",
        "for t in range(epochs):\n",
        "    print(f\"Epoch {t+1}\\n-------------------------------\")\n",
        "    train(train_dataloader, model, loss_fn, optimiser)\n",
        "    # test(test_dataloader, model, loss_fn)\n",
        "print(\"Done!\")"
      ],
      "execution_count": null,
      "outputs": [
        {
          "output_type": "stream",
          "name": "stdout",
          "text": [
            "Epoch 1\n",
            "-------------------------------\n",
            "loss: 0.018287  [    0/60000]\n",
            "loss: 0.016943  [12800/60000]\n",
            "loss: 0.017641  [25600/60000]\n",
            "loss: 0.017229  [38400/60000]\n",
            "loss: 0.017243  [51200/60000]\n",
            "Epoch 2\n",
            "-------------------------------\n",
            "loss: 0.018304  [    0/60000]\n",
            "loss: 0.016857  [12800/60000]\n",
            "loss: 0.017627  [25600/60000]\n",
            "loss: 0.017192  [38400/60000]\n",
            "loss: 0.017225  [51200/60000]\n",
            "Epoch 3\n",
            "-------------------------------\n",
            "loss: 0.018290  [    0/60000]\n",
            "loss: 0.016791  [12800/60000]\n",
            "loss: 0.017538  [25600/60000]\n",
            "loss: 0.017143  [38400/60000]\n",
            "loss: 0.017183  [51200/60000]\n",
            "Epoch 4\n",
            "-------------------------------\n",
            "loss: 0.018275  [    0/60000]\n",
            "loss: 0.016762  [12800/60000]\n",
            "loss: 0.017503  [25600/60000]\n",
            "loss: 0.017098  [38400/60000]\n",
            "loss: 0.017096  [51200/60000]\n",
            "Epoch 5\n",
            "-------------------------------\n",
            "loss: 0.018301  [    0/60000]\n",
            "loss: 0.016717  [12800/60000]\n",
            "loss: 0.017497  [25600/60000]\n",
            "loss: 0.017063  [38400/60000]\n",
            "loss: 0.017072  [51200/60000]\n",
            "Epoch 6\n",
            "-------------------------------\n",
            "loss: 0.018285  [    0/60000]\n",
            "loss: 0.016682  [12800/60000]\n",
            "loss: 0.017513  [25600/60000]\n",
            "loss: 0.017051  [38400/60000]\n",
            "loss: 0.017031  [51200/60000]\n",
            "Epoch 7\n",
            "-------------------------------\n",
            "loss: 0.018260  [    0/60000]\n",
            "loss: 0.016651  [12800/60000]\n",
            "loss: 0.017463  [25600/60000]\n",
            "loss: 0.017046  [38400/60000]\n",
            "loss: 0.016999  [51200/60000]\n",
            "Epoch 8\n",
            "-------------------------------\n",
            "loss: 0.018222  [    0/60000]\n",
            "loss: 0.016607  [12800/60000]\n",
            "loss: 0.017443  [25600/60000]\n",
            "loss: 0.017057  [38400/60000]\n",
            "loss: 0.016947  [51200/60000]\n",
            "Epoch 9\n",
            "-------------------------------\n",
            "loss: 0.018231  [    0/60000]\n",
            "loss: 0.016548  [12800/60000]\n",
            "loss: 0.017431  [25600/60000]\n",
            "loss: 0.016979  [38400/60000]\n",
            "loss: 0.016910  [51200/60000]\n",
            "Epoch 10\n",
            "-------------------------------\n",
            "loss: 0.018157  [    0/60000]\n",
            "loss: 0.016522  [12800/60000]\n",
            "loss: 0.017449  [25600/60000]\n",
            "loss: 0.016943  [38400/60000]\n",
            "loss: 0.016889  [51200/60000]\n",
            "Epoch 11\n",
            "-------------------------------\n",
            "loss: 0.018142  [    0/60000]\n",
            "loss: 0.016519  [12800/60000]\n",
            "loss: 0.017401  [25600/60000]\n",
            "loss: 0.016907  [38400/60000]\n",
            "loss: 0.016867  [51200/60000]\n",
            "Epoch 12\n",
            "-------------------------------\n",
            "loss: 0.018110  [    0/60000]\n",
            "loss: 0.016489  [12800/60000]\n",
            "loss: 0.017376  [25600/60000]\n",
            "loss: 0.016880  [38400/60000]\n",
            "loss: 0.016825  [51200/60000]\n",
            "Epoch 13\n",
            "-------------------------------\n",
            "loss: 0.018047  [    0/60000]\n",
            "loss: 0.016459  [12800/60000]\n",
            "loss: 0.017354  [25600/60000]\n",
            "loss: 0.016855  [38400/60000]\n",
            "loss: 0.016815  [51200/60000]\n",
            "Epoch 14\n",
            "-------------------------------\n",
            "loss: 0.018054  [    0/60000]\n",
            "loss: 0.016416  [12800/60000]\n",
            "loss: 0.017332  [25600/60000]\n",
            "loss: 0.016827  [38400/60000]\n",
            "loss: 0.016797  [51200/60000]\n",
            "Epoch 15\n",
            "-------------------------------\n",
            "loss: 0.018048  [    0/60000]\n",
            "loss: 0.016360  [12800/60000]\n",
            "loss: 0.017310  [25600/60000]\n",
            "loss: 0.016795  [38400/60000]\n",
            "loss: 0.016784  [51200/60000]\n",
            "Epoch 16\n",
            "-------------------------------\n",
            "loss: 0.018025  [    0/60000]\n",
            "loss: 0.016337  [12800/60000]\n",
            "loss: 0.017213  [25600/60000]\n",
            "loss: 0.016747  [38400/60000]\n",
            "loss: 0.016760  [51200/60000]\n",
            "Epoch 17\n",
            "-------------------------------\n",
            "loss: 0.018014  [    0/60000]\n",
            "loss: 0.016298  [12800/60000]\n",
            "loss: 0.017241  [25600/60000]\n",
            "loss: 0.016754  [38400/60000]\n",
            "loss: 0.016747  [51200/60000]\n",
            "Epoch 18\n",
            "-------------------------------\n",
            "loss: 0.017956  [    0/60000]\n",
            "loss: 0.016252  [12800/60000]\n",
            "loss: 0.017215  [25600/60000]\n",
            "loss: 0.016724  [38400/60000]\n",
            "loss: 0.016734  [51200/60000]\n",
            "Epoch 19\n",
            "-------------------------------\n",
            "loss: 0.017948  [    0/60000]\n",
            "loss: 0.016241  [12800/60000]\n",
            "loss: 0.017189  [25600/60000]\n",
            "loss: 0.016704  [38400/60000]\n",
            "loss: 0.016738  [51200/60000]\n",
            "Epoch 20\n",
            "-------------------------------\n",
            "loss: 0.017908  [    0/60000]\n",
            "loss: 0.016207  [12800/60000]\n",
            "loss: 0.017161  [25600/60000]\n",
            "loss: 0.016668  [38400/60000]\n",
            "loss: 0.016734  [51200/60000]\n",
            "Done!\n"
          ]
        }
      ]
    },
    {
      "cell_type": "code",
      "metadata": {
        "id": "SxqyxNgVI3yP",
        "colab": {
          "base_uri": "https://localhost:8080/",
          "height": 1000
        },
        "outputId": "293a11af-692f-40f8-c06e-b65d59a6f9fb"
      },
      "source": [
        "def plot(dataloader, model, loss_fn):\n",
        "    size = len(dataloader.dataset)\n",
        "    num_batches = len(dataloader)\n",
        "    model.eval()\n",
        "    test_loss, correct = 0, 0\n",
        "    with torch.no_grad():\n",
        "        for X, y in dataloader:\n",
        "            print(X)\n",
        "            X, y = X.to(device), y.to(device)\n",
        "            pred = model(X)\n",
        "            print(pred)\n",
        "            plt.figure()\n",
        "            plt.imshow(  X.cpu()[0].squeeze()  )\n",
        "            plt.imshow(  pred.cpu().unflatten(1, torch.Size([28, 28]))[0]  )\n",
        "            break\n",
        "plot(test_dataloader, model, loss_fn)"
      ],
      "execution_count": null,
      "outputs": [
        {
          "output_type": "stream",
          "name": "stdout",
          "text": [
            "tensor([[[[0.0000, 0.0000, 0.0000,  ..., 0.0000, 0.0000, 0.0000],\n",
            "          [0.0000, 0.0000, 0.0000,  ..., 0.0000, 0.0000, 0.0000],\n",
            "          [0.0000, 0.0000, 0.0000,  ..., 0.0000, 0.0000, 0.0000],\n",
            "          ...,\n",
            "          [0.0000, 0.0000, 0.0000,  ..., 0.0000, 0.0000, 0.0000],\n",
            "          [0.0000, 0.0000, 0.0000,  ..., 0.0000, 0.0000, 0.0000],\n",
            "          [0.0000, 0.0000, 0.0000,  ..., 0.0000, 0.0000, 0.0000]]],\n",
            "\n",
            "\n",
            "        [[[0.0000, 0.0000, 0.0000,  ..., 0.0000, 0.0000, 0.0000],\n",
            "          [0.0000, 0.0000, 0.0000,  ..., 0.0000, 0.0000, 0.0000],\n",
            "          [0.0000, 0.0000, 0.0000,  ..., 0.0000, 0.0000, 0.0000],\n",
            "          ...,\n",
            "          [0.0000, 0.0000, 0.0000,  ..., 0.0000, 0.0000, 0.0000],\n",
            "          [0.0000, 0.0000, 0.0000,  ..., 0.0000, 0.0000, 0.0000],\n",
            "          [0.0000, 0.0000, 0.0000,  ..., 0.0000, 0.0000, 0.0000]]],\n",
            "\n",
            "\n",
            "        [[[0.0000, 0.0000, 0.0000,  ..., 0.0000, 0.0000, 0.0000],\n",
            "          [0.0000, 0.0000, 0.0000,  ..., 0.0000, 0.0000, 0.0000],\n",
            "          [0.0000, 0.0000, 0.0000,  ..., 0.0000, 0.0000, 0.0000],\n",
            "          ...,\n",
            "          [0.0000, 0.0000, 0.0000,  ..., 0.0000, 0.0000, 0.0000],\n",
            "          [0.0000, 0.0000, 0.0000,  ..., 0.0000, 0.0000, 0.0000],\n",
            "          [0.0000, 0.0000, 0.0000,  ..., 0.0000, 0.0000, 0.0000]]],\n",
            "\n",
            "\n",
            "        ...,\n",
            "\n",
            "\n",
            "        [[[0.0000, 0.0000, 0.0000,  ..., 0.0000, 0.0000, 0.0000],\n",
            "          [0.0000, 0.0000, 0.0000,  ..., 0.0000, 0.0000, 0.0000],\n",
            "          [0.0000, 0.0000, 0.0000,  ..., 0.0000, 0.0000, 0.0000],\n",
            "          ...,\n",
            "          [0.0000, 0.0000, 0.0000,  ..., 0.0000, 0.0000, 0.0000],\n",
            "          [0.0000, 0.0000, 0.0000,  ..., 0.0000, 0.0000, 0.0000],\n",
            "          [0.0000, 0.0000, 0.0000,  ..., 0.0000, 0.0000, 0.0000]]],\n",
            "\n",
            "\n",
            "        [[[0.0000, 0.0000, 0.0000,  ..., 0.0000, 0.0000, 0.0000],\n",
            "          [0.0000, 0.0000, 0.0000,  ..., 0.0000, 0.0000, 0.0000],\n",
            "          [0.0000, 0.0000, 0.0000,  ..., 0.0000, 0.0000, 0.0000],\n",
            "          ...,\n",
            "          [0.0078, 0.0000, 0.0000,  ..., 0.7216, 0.5922, 0.0000],\n",
            "          [0.0039, 0.0000, 0.0000,  ..., 0.0431, 0.0000, 0.0000],\n",
            "          [0.0000, 0.0039, 0.0000,  ..., 0.0000, 0.0431, 0.0000]]],\n",
            "\n",
            "\n",
            "        [[[0.0000, 0.0000, 0.0000,  ..., 0.0000, 0.0000, 0.0000],\n",
            "          [0.0000, 0.0000, 0.0000,  ..., 0.0000, 0.0000, 0.0000],\n",
            "          [0.0000, 0.0000, 0.0000,  ..., 0.0000, 0.0000, 0.0000],\n",
            "          ...,\n",
            "          [0.0000, 0.0000, 0.0000,  ..., 0.0000, 0.0000, 0.0000],\n",
            "          [0.0000, 0.0000, 0.0000,  ..., 0.0000, 0.0000, 0.0000],\n",
            "          [0.0000, 0.0000, 0.0000,  ..., 0.0000, 0.0000, 0.0000]]]])\n",
            "tensor([[ 3.4536e-05, -5.6478e-04, -6.0970e-04,  ..., -9.0478e-03,\n",
            "          1.4795e-03, -5.5808e-04],\n",
            "        [-7.1118e-04, -9.2831e-04, -8.6860e-04,  ...,  2.4340e-02,\n",
            "         -9.7003e-03,  3.3457e-04],\n",
            "        [-1.6197e-04, -7.3128e-04, -4.8704e-04,  ...,  8.5507e-03,\n",
            "          5.3656e-04, -4.5257e-04],\n",
            "        ...,\n",
            "        [-4.4205e-04, -7.2051e-04,  2.0479e-04,  ...,  6.6493e-03,\n",
            "          6.0730e-03, -1.0780e-03],\n",
            "        [-2.2698e-04, -5.9096e-04, -1.0468e-03,  ...,  7.6876e-02,\n",
            "          3.5984e-02,  1.8164e-03],\n",
            "        [-4.3102e-04, -9.2094e-04, -1.0985e-03,  ...,  1.9644e-02,\n",
            "          9.1759e-03, -4.1101e-03]], device='cuda:0')\n"
          ]
        },
        {
          "output_type": "display_data",
          "data": {
            "image/png": "[encoded data removed]",
            "text/plain": [
              "<Figure size 432x288 with 1 Axes>"
            ]
          },
          "metadata": {
            "needs_background": "light"
          }
        }
      ]
    },
    {
      "cell_type": "code",
      "metadata": {
        "colab": {
          "base_uri": "https://localhost:8080/"
        },
        "id": "BGO1q-UKQTMa",
        "outputId": "162643d9-41c8-4ac3-bdf2-459ad53b148d"
      },
      "source": [
        "!nvidia-smi -L\n"
      ],
      "execution_count": null,
      "outputs": [
        {
          "output_type": "stream",
          "name": "stdout",
          "text": [
            "GPU 0: Tesla K80 (UUID: GPU-11f2e784-507f-748a-6855-e8d6b3bd7cab)\n"
          ]
        }
      ]
    },
    {
      "cell_type": "code",
      "metadata": {
        "id": "JgqmLVufRjKy"
      },
      "source": [],
      "execution_count": null,
      "outputs": []
    }
  ]
}