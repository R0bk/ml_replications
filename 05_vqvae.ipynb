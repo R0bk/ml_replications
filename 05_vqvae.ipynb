{
  "cells": [
    {
      "cell_type": "markdown",
      "metadata": {
        "id": "view-in-github",
        "colab_type": "text"
      },
      "source": [
        "<a href=\"https://colab.research.google.com/github/R0bk/ml_replications/blob/main/05_vqvae.ipynb\" target=\"_parent\"><img src=\"https://colab.research.google.com/assets/colab-badge.svg\" alt=\"Open In Colab\"/></a>"
      ]
    },
    {
      "cell_type": "markdown",
      "metadata": {
        "id": "NCEdmWMDtbLd"
      },
      "source": [
        "#VQVAE"
      ]
    },
    {
      "cell_type": "code",
      "execution_count": null,
      "metadata": {
        "colab": {
          "base_uri": "https://localhost:8080/"
        },
        "id": "tLyt1RtWEeaU",
        "outputId": "58db3f76-64ac-4d37-92c1-c3437174a3b4"
      },
      "outputs": [
        {
          "name": "stdout",
          "output_type": "stream",
          "text": [
            "Requirement already satisfied: torch in /usr/local/lib/python3.7/dist-packages (1.9.0+cu111)\n",
            "Requirement already satisfied: torchvision in /usr/local/lib/python3.7/dist-packages (0.10.0+cu111)\n",
            "Requirement already satisfied: typing-extensions in /usr/local/lib/python3.7/dist-packages (from torch) (3.7.4.3)\n",
            "Requirement already satisfied: pillow>=5.3.0 in /usr/local/lib/python3.7/dist-packages (from torchvision) (7.1.2)\n",
            "Requirement already satisfied: numpy in /usr/local/lib/python3.7/dist-packages (from torchvision) (1.19.5)\n",
            "Requirement already satisfied: numpy in /usr/local/lib/python3.7/dist-packages (1.19.5)\n",
            "Requirement already satisfied: tqdm in /usr/local/lib/python3.7/dist-packages (4.62.3)\n"
          ]
        }
      ],
      "source": [
        "!pip install torch torchvision\n",
        "!pip install numpy tqdm"
      ]
    },
    {
      "cell_type": "code",
      "execution_count": null,
      "metadata": {
        "id": "deDJDu0jEdnW"
      },
      "outputs": [],
      "source": [
        "import torch\n",
        "from torch import nn\n",
        "from torch.utils.data import DataLoader\n",
        "import torch.nn.functional as F\n",
        "from torchvision import datasets\n",
        "from torchvision.transforms import ToTensor, Lambda, Compose, Resize\n",
        "import matplotlib.pyplot as plt\n",
        "import numpy as np"
      ]
    },
    {
      "cell_type": "code",
      "execution_count": null,
      "metadata": {
        "colab": {
          "base_uri": "https://localhost:8080/",
          "height": 471,
          "referenced_widgets": [
            "2d6a5b4c0fe246aa9ed4071c0c1c8517",
            "1645a7ca7ec54405910271bb44d1fed7",
            "a301125b28234843b39159a74cb6550d",
            "b291d306517544b58d892201a9f7c212",
            "bf0588c0322945019f81893a37b2d668",
            "11f362dd24824b4089a98f8c0aea2b37",
            "5600b32f9d9d42a4a4a6e38c15e85b9b",
            "85605d9a875749559aec06ae02c108ea",
            "1c7289ea6ea0466b9cf1e18fbd3bf285",
            "d277813362a04616a06bde9119d0ea10",
            "d1f21653e1874d11ad286b5af760037a",
            "dae7f00907d64dcb847fe9c692ff0a73",
            "9e627f8449d44e17926ee2369349523a",
            "243b0b9c88564e6aafadb1c7cc33189d",
            "777034e8c7ce4e2380def1094f19c7e1",
            "ca9fbbc3b95f4b1d9e4c47c28efa7fca",
            "a1ed304c23d14b7aae8aab35f0d570f2",
            "866d912a51bf483c8bfb5b64b42e42b7",
            "6dd40c83d50147f49ec2a16b6d4862b8",
            "b5ed4956f4b2456a8ed037720dafb330",
            "af010894241d439487f6945110acbfe7",
            "02986a7c8c9047638fccac9cc6d1e8e2",
            "b8159f41613c401fbe50eb2329259ed8",
            "db9c35fc015d4d68b036a98a07d1cde9",
            "d3e3fec060534cf3b5dfa37549024f4d",
            "61f069807b8542b1ae4ccb3f9d9e2436",
            "a6a2b9f64009421d9cf6f9831138b419",
            "190f4249480a44ef9fd6babdb6272394",
            "25e73e0a56eb49f0841b4a066046e670",
            "609a2dd96967481c956babc68c809cc8",
            "c7688e9d0c2c4d77993ba34fa76ddc65",
            "2d0f9f10518b4e5ea95783044d9fcb44",
            "05aa6d2a7ffe43c8b16914cd93263b1d",
            "586b94d26984498c8a25ed6d528c4294",
            "65b99912d65a4badb9e02d06b864b73e",
            "c5817d8ba420421fa257921bb1c14e1c",
            "d1890906668d4263b64c51c1e2db79f6",
            "3cc70b4ebd43496b817f7ba6c518ee5d",
            "03daeb7a53b64423b86e25f89c63c48c",
            "c954ed4bfc494ba892fa87fa1bb6f505",
            "11083decace148beafa6b63082327368",
            "d000578a40fc449cbe6898c7d36ebd0d",
            "ff84cc59f61a48dfa79eb8edde06740f",
            "3f753206fcb84dc1b279a599061cf6a3"
          ]
        },
        "id": "E_tKp9TGGKuo",
        "outputId": "b3b8fe2b-be7d-4890-846b-199da5d66c1b"
      },
      "outputs": [
        {
          "name": "stdout",
          "output_type": "stream",
          "text": [
            "Downloading http://fashion-mnist.s3-website.eu-central-1.amazonaws.com/train-images-idx3-ubyte.gz\n",
            "Downloading http://fashion-mnist.s3-website.eu-central-1.amazonaws.com/train-images-idx3-ubyte.gz to data/FashionMNIST/raw/train-images-idx3-ubyte.gz\n"
          ]
        },
        {
          "data": {
            "application/vnd.jupyter.widget-view+json": {
              "model_id": "2d6a5b4c0fe246aa9ed4071c0c1c8517",
              "version_major": 2,
              "version_minor": 0
            },
            "text/plain": [
              "  0%|          | 0/26421880 [00:00<?, ?it/s]"
            ]
          },
          "metadata": {},
          "output_type": "display_data"
        },
        {
          "name": "stdout",
          "output_type": "stream",
          "text": [
            "Extracting data/FashionMNIST/raw/train-images-idx3-ubyte.gz to data/FashionMNIST/raw\n",
            "\n",
            "Downloading http://fashion-mnist.s3-website.eu-central-1.amazonaws.com/train-labels-idx1-ubyte.gz\n",
            "Downloading http://fashion-mnist.s3-website.eu-central-1.amazonaws.com/train-labels-idx1-ubyte.gz to data/FashionMNIST/raw/train-labels-idx1-ubyte.gz\n"
          ]
        },
        {
          "data": {
            "application/vnd.jupyter.widget-view+json": {
              "model_id": "dae7f00907d64dcb847fe9c692ff0a73",
              "version_major": 2,
              "version_minor": 0
            },
            "text/plain": [
              "  0%|          | 0/29515 [00:00<?, ?it/s]"
            ]
          },
          "metadata": {},
          "output_type": "display_data"
        },
        {
          "name": "stdout",
          "output_type": "stream",
          "text": [
            "Extracting data/FashionMNIST/raw/train-labels-idx1-ubyte.gz to data/FashionMNIST/raw\n",
            "\n",
            "Downloading http://fashion-mnist.s3-website.eu-central-1.amazonaws.com/t10k-images-idx3-ubyte.gz\n",
            "Downloading http://fashion-mnist.s3-website.eu-central-1.amazonaws.com/t10k-images-idx3-ubyte.gz to data/FashionMNIST/raw/t10k-images-idx3-ubyte.gz\n"
          ]
        },
        {
          "data": {
            "application/vnd.jupyter.widget-view+json": {
              "model_id": "b8159f41613c401fbe50eb2329259ed8",
              "version_major": 2,
              "version_minor": 0
            },
            "text/plain": [
              "  0%|          | 0/4422102 [00:00<?, ?it/s]"
            ]
          },
          "metadata": {},
          "output_type": "display_data"
        },
        {
          "name": "stdout",
          "output_type": "stream",
          "text": [
            "Extracting data/FashionMNIST/raw/t10k-images-idx3-ubyte.gz to data/FashionMNIST/raw\n",
            "\n",
            "Downloading http://fashion-mnist.s3-website.eu-central-1.amazonaws.com/t10k-labels-idx1-ubyte.gz\n",
            "Downloading http://fashion-mnist.s3-website.eu-central-1.amazonaws.com/t10k-labels-idx1-ubyte.gz to data/FashionMNIST/raw/t10k-labels-idx1-ubyte.gz\n"
          ]
        },
        {
          "data": {
            "application/vnd.jupyter.widget-view+json": {
              "model_id": "586b94d26984498c8a25ed6d528c4294",
              "version_major": 2,
              "version_minor": 0
            },
            "text/plain": [
              "  0%|          | 0/5148 [00:00<?, ?it/s]"
            ]
          },
          "metadata": {},
          "output_type": "display_data"
        },
        {
          "name": "stdout",
          "output_type": "stream",
          "text": [
            "Extracting data/FashionMNIST/raw/t10k-labels-idx1-ubyte.gz to data/FashionMNIST/raw\n",
            "\n"
          ]
        },
        {
          "name": "stderr",
          "output_type": "stream",
          "text": [
            "/usr/local/lib/python3.7/dist-packages/torchvision/datasets/mnist.py:498: UserWarning: The given NumPy array is not writeable, and PyTorch does not support non-writeable tensors. This means you can write to the underlying (supposedly non-writeable) NumPy array using the tensor. You may want to copy the array to protect its data or make it writeable before converting it to a tensor. This type of warning will be suppressed for the rest of this program. (Triggered internally at  /pytorch/torch/csrc/utils/tensor_numpy.cpp:180.)\n",
            "  return torch.from_numpy(parsed.astype(m[2], copy=False)).view(*s)\n"
          ]
        }
      ],
      "source": [
        "# Download training data from open datasets.\n",
        "training_data = datasets.FashionMNIST(\n",
        "    root=\"data\",\n",
        "    train=True,\n",
        "    download=True,\n",
        "    transform=ToTensor()#Compose([ToTensor(), Resize((32, 32))])\n",
        ")\n",
        "\n",
        "# Download test data from open datasets.\n",
        "test_data = datasets.FashionMNIST(\n",
        "    root=\"data\",\n",
        "    train=False,\n",
        "    download=True,\n",
        "    transform=ToTensor(),\n",
        ")"
      ]
    },
    {
      "cell_type": "code",
      "execution_count": null,
      "metadata": {
        "colab": {
          "base_uri": "https://localhost:8080/"
        },
        "id": "6tXX_TBcGSRH",
        "outputId": "39b89154-f2ad-4b38-bcbd-1eff718c3cd9"
      },
      "outputs": [
        {
          "name": "stdout",
          "output_type": "stream",
          "text": [
            "Shape of X [N, C, H, W]:  torch.Size([128, 1, 28, 28])\n",
            "Shape of y:  torch.Size([128]) torch.int64\n"
          ]
        }
      ],
      "source": [
        "batch_size = 128\n",
        "\n",
        "# Create data loaders.\n",
        "train_dataloader = DataLoader(training_data, batch_size=batch_size)\n",
        "test_dataloader = DataLoader(test_data, batch_size=batch_size)\n",
        "\n",
        "for X, y in test_dataloader:\n",
        "    print(\"Shape of X [N, C, H, W]: \", X.shape)\n",
        "    print(\"Shape of y: \", y.shape, y.dtype)\n",
        "    break"
      ]
    },
    {
      "cell_type": "code",
      "execution_count": null,
      "metadata": {
        "colab": {
          "base_uri": "https://localhost:8080/"
        },
        "id": "oUZMEdI-ht_S",
        "outputId": "db865010-b8c8-40e5-cae5-82f512238b57"
      },
      "outputs": [
        {
          "name": "stdout",
          "output_type": "stream",
          "text": [
            "tensor(0.1246)\n"
          ]
        }
      ],
      "source": [
        "data_variance = torch.var(training_data.data / 255.0)\n",
        "print(data_variance)"
      ]
    },
    {
      "cell_type": "code",
      "execution_count": null,
      "metadata": {
        "id": "qwgh9MOFijzt"
      },
      "outputs": [],
      "source": [
        "class VectorQuantizerEMA(nn.Module):\n",
        "  def __init__(self, n_embed, embed_dim, decay=0.99, eps=1e-5, beta=0.25):\n",
        "    super(VectorQuantizerEMA, self).__init__()\n",
        "    self.n_embed = n_embed\n",
        "    self.embed_dim = embed_dim\n",
        "    self.decay = decay\n",
        "    self.eps = eps\n",
        "    self.commitment_cost = beta\n",
        "\n",
        "    self.register_buffer('embeddings', torch.rand(embed_dim, n_embed))\n",
        "    self.register_buffer('cluster_size', torch.zeros(n_embed))\n",
        "    self.register_buffer('embed_avg', self.embeddings.clone())\n",
        "\n",
        "  def forward(self, x):\n",
        "    # convert inputs from N*X_1*X_2...X_n -> -1*EmbedDim\n",
        "    x = x.permute(0, 2, 3, 1).contiguous()\n",
        "    flat_inputs = x.view(-1, self.embed_dim)\n",
        "\n",
        "    distances = (\n",
        "        flat_inputs.pow(2).sum(1, keepdims=True) -\n",
        "        2 * flat_inputs.mm(self.embeddings) +\n",
        "        self.embeddings.pow(2).sum(0, keepdims=True))\n",
        "\n",
        "    encoding_indices = torch.argmin(distances, 1)\n",
        "    encoding = F.one_hot(encoding_indices, self.n_embed)\n",
        "\n",
        "    encoding_indices = encoding_indices.view(x.shape[:-1])\n",
        "    quantized = self.embeddings.t().index_select(0, encoding_indices.view(-1)).view(x.shape)\n",
        "\n",
        "    latent_loss = F.mse_loss(quantized.detach(), x)\n",
        "    commitment_loss = latent_loss * self.commitment_cost\n",
        "\n",
        "    if self.training:\n",
        "      self.cluster_size.data.mul_(self.decay).add_(1 - self.decay, encoding.sum(0))\n",
        "      \n",
        "      n = self.cluster_size.data.sum()\n",
        "      cluster_size = (\n",
        "          (self.cluster_size + self.eps) / (n + self.n_embed * self.eps) * n\n",
        "      )\n",
        "\n",
        "      # Goal here is to calculate the average of the inputs w.r.t each encoding\n",
        "      embed_sum = flat_inputs.t() @ encoding.type_as(x)\n",
        "      self.embed_avg.data.mul_(self.decay).add_(1 - self.decay, embed_sum)\n",
        "      self.embeddings.data = self.embed_avg / cluster_size.unsqueeze(0)\n",
        "\n",
        "    # pass through grad to encoder\n",
        "    quantized = x + quantized.detach() - x.detach()\n",
        "\n",
        "    avg_probs = encoding.type_as(flat_inputs).mean(0)\n",
        "    perplexity = (-(avg_probs * avg_probs.add(1e-10).log()).sum()).exp()\n",
        "    return quantized.permute(0, 3, 1, 2), commitment_loss, perplexity"
      ]
    },
    {
      "cell_type": "code",
      "execution_count": null,
      "metadata": {
        "colab": {
          "base_uri": "https://localhost:8080/"
        },
        "id": "1qzLAYPHGYUH",
        "outputId": "5cbe067a-284b-46aa-997d-0d339fde4267"
      },
      "outputs": [
        {
          "name": "stdout",
          "output_type": "stream",
          "text": [
            "Using cuda device\n",
            "NeuralNetwork(\n",
            "  (flatten): Flatten(start_dim=1, end_dim=-1)\n",
            "  (encoder): Sequential(\n",
            "    (0): Linear(in_features=784, out_features=400, bias=True)\n",
            "    (1): ReLU()\n",
            "    (2): Linear(in_features=400, out_features=64, bias=True)\n",
            "    (3): ReLU()\n",
            "    (4): Linear(in_features=64, out_features=40, bias=True)\n",
            "  )\n",
            "  (ema): VectorQuantizerEMA()\n",
            "  (decoder): Sequential(\n",
            "    (0): Linear(in_features=40, out_features=64, bias=True)\n",
            "    (1): ReLU()\n",
            "    (2): Linear(in_features=64, out_features=400, bias=True)\n",
            "    (3): ReLU()\n",
            "    (4): Linear(in_features=400, out_features=784, bias=True)\n",
            "    (5): ReLU()\n",
            "  )\n",
            ")\n"
          ]
        }
      ],
      "source": [
        "# Get cpu or gpu device for training.\n",
        "device = \"cuda\" if torch.cuda.is_available() else \"cpu\"\n",
        "print(\"Using {} device\".format(device))\n",
        "\n",
        "\n",
        "class NeuralNetwork(nn.Module):\n",
        "  def __init__(self, latent_size=40, embed_size=30, embed_dim=40):\n",
        "    super(NeuralNetwork, self).__init__()\n",
        "    self.latent_size = latent_size\n",
        "    self.embed_size = embed_size\n",
        "    self.embed_dim = embed_dim\n",
        "    self.flatten = nn.Flatten()\n",
        "\n",
        "    self.encoder = nn.Sequential(\n",
        "        nn.Linear(28*28, 400),\n",
        "        nn.ReLU(),\n",
        "        nn.Linear(400, 64),\n",
        "        nn.ReLU(),\n",
        "        nn.Linear(64, latent_size),\n",
        "    )\n",
        "    self.ema = VectorQuantizerEMA(embed_size, embed_dim)\n",
        "    self.decoder = nn.Sequential(\n",
        "        nn.Linear(latent_size, 64),\n",
        "        nn.ReLU(),\n",
        "        nn.Linear(64, 400),\n",
        "        nn.ReLU(),\n",
        "        nn.Linear(400, 28*28),\n",
        "        nn.ReLU()\n",
        "    )\n",
        "\n",
        "  def calculate_loss(self, x, com_loss, z_e, z_q, recon_x):\n",
        "    vq_loss = F.mse_loss(z_q, z_e.detach())\n",
        "    recon_loss = F.mse_loss(x, recon_x)\n",
        "    # print(z_e, z_q)\n",
        "    # print(recon_loss, vq_loss, com_loss)\n",
        "    return recon_loss + com_loss\n",
        "\n",
        "  def forward(self, x):\n",
        "    x = self.flatten(x)\n",
        "    z_e = self.encoder(x)\n",
        "    z_q, com_loss = self.ema(z_e)\n",
        "    recon_x = self.decoder(z_q)\n",
        "    loss = self.calculate_loss(x, com_loss, z_e, z_q, recon_x)\n",
        "    return recon_x, loss\n",
        "\n",
        "model = NeuralNetwork().to(device)\n",
        "print(model)"
      ]
    },
    {
      "cell_type": "code",
      "execution_count": null,
      "metadata": {
        "id": "jQwunPymPftZ"
      },
      "outputs": [],
      "source": [
        "class ResidualStack(nn.Module):\n",
        "  def __init__(self, in_channels, num_hidden, num_residual_layers, num_residual_hidden):\n",
        "    super(ResidualStack, self).__init__()\n",
        "    self.in_channels = in_channels\n",
        "    self.num_hidden = num_hidden\n",
        "    self.num_residual_layers = num_residual_layers\n",
        "    self.num_residual_hidden = num_residual_hidden\n",
        "\n",
        "    self.layers = nn.ModuleList([nn.Sequential(\n",
        "      nn.ReLU(),\n",
        "      nn.Conv2d(in_channels=in_channels, out_channels=num_residual_hidden, kernel_size=3, stride=1, padding=1,),\n",
        "      nn.ReLU(),\n",
        "      nn.Conv2d(in_channels=num_residual_hidden, out_channels=num_hidden, kernel_size=1, stride=1)\n",
        "    ) for i in range(self.num_residual_layers)])\n",
        "\n",
        "  def forward(self, h):\n",
        "    for res in self.layers:\n",
        "      h = h + res(h)\n",
        "    return F.relu(h)"
      ]
    },
    {
      "cell_type": "code",
      "execution_count": null,
      "metadata": {
        "colab": {
          "base_uri": "https://localhost:8080/"
        },
        "id": "Y3tLxhSRVFnp",
        "outputId": "6c280250-b603-4e96-e54c-c61825580d0a"
      },
      "outputs": [
        {
          "name": "stdout",
          "output_type": "stream",
          "text": [
            "VQVAE(\n",
            "  (encoder): Sequential(\n",
            "    (0): Conv2d(1, 64, kernel_size=(4, 4), stride=(2, 2))\n",
            "    (1): ReLU()\n",
            "    (2): Conv2d(64, 128, kernel_size=(4, 4), stride=(2, 2))\n",
            "    (3): ReLU()\n",
            "    (4): Conv2d(128, 128, kernel_size=(3, 3), stride=(1, 1), padding=(1, 1))\n",
            "    (5): ReLU()\n",
            "    (6): ResidualStack(\n",
            "      (layers): ModuleList(\n",
            "        (0): Sequential(\n",
            "          (0): ReLU()\n",
            "          (1): Conv2d(128, 32, kernel_size=(3, 3), stride=(1, 1), padding=(1, 1))\n",
            "          (2): ReLU()\n",
            "          (3): Conv2d(32, 128, kernel_size=(1, 1), stride=(1, 1))\n",
            "        )\n",
            "        (1): Sequential(\n",
            "          (0): ReLU()\n",
            "          (1): Conv2d(128, 32, kernel_size=(3, 3), stride=(1, 1), padding=(1, 1))\n",
            "          (2): ReLU()\n",
            "          (3): Conv2d(32, 128, kernel_size=(1, 1), stride=(1, 1))\n",
            "        )\n",
            "      )\n",
            "    )\n",
            "  )\n",
            "  (pre_vq): Conv2d(128, 64, kernel_size=(1, 1), stride=(1, 1))\n",
            "  (vq_ema): VectorQuantizerEMA()\n",
            "  (decoder): Sequential(\n",
            "    (0): Conv2d(64, 128, kernel_size=(1, 1), stride=(1, 1))\n",
            "    (1): ResidualStack(\n",
            "      (layers): ModuleList(\n",
            "        (0): Sequential(\n",
            "          (0): ReLU()\n",
            "          (1): Conv2d(128, 32, kernel_size=(3, 3), stride=(1, 1), padding=(1, 1))\n",
            "          (2): ReLU()\n",
            "          (3): Conv2d(32, 128, kernel_size=(1, 1), stride=(1, 1))\n",
            "        )\n",
            "        (1): Sequential(\n",
            "          (0): ReLU()\n",
            "          (1): Conv2d(128, 32, kernel_size=(3, 3), stride=(1, 1), padding=(1, 1))\n",
            "          (2): ReLU()\n",
            "          (3): Conv2d(32, 128, kernel_size=(1, 1), stride=(1, 1))\n",
            "        )\n",
            "      )\n",
            "    )\n",
            "    (2): ConvTranspose2d(128, 64, kernel_size=(4, 4), stride=(2, 2))\n",
            "    (3): ReLU()\n",
            "    (4): ConvTranspose2d(64, 1, kernel_size=(6, 6), stride=(2, 2))\n",
            "  )\n",
            ")\n"
          ]
        }
      ],
      "source": [
        "class VQVAE(nn.Module):\n",
        "    def __init__(self, embed_size=512, embed_dim=64, num_hidden=128, num_residual_layers=2, num_residual_hidden=32, data_variance=1.):\n",
        "        super(VQVAE, self).__init__()\n",
        "        self.embed_size = embed_size\n",
        "        self.embed_dim = embed_dim\n",
        "        self.num_hidden = num_hidden\n",
        "        self.num_residual_layers = num_residual_layers\n",
        "        self.num_residual_hidden = num_residual_hidden\n",
        "\n",
        "        self._data_variance = data_variance\n",
        "\n",
        "\n",
        "        self.encoder = nn.Sequential(\n",
        "            nn.Conv2d(in_channels=1, out_channels=num_hidden//2, kernel_size=4, stride=2),\n",
        "            nn.ReLU(),\n",
        "            nn.Conv2d(in_channels=num_hidden//2, out_channels=num_hidden, kernel_size=4, stride=2),\n",
        "            nn.ReLU(),\n",
        "            nn.Conv2d(in_channels=num_hidden, out_channels=num_hidden, kernel_size=3, stride=1, padding=1),\n",
        "            nn.ReLU(),\n",
        "            ResidualStack(num_hidden, num_hidden, num_residual_layers, num_residual_hidden)\n",
        "        )\n",
        "\n",
        "        self.pre_vq = nn.Conv2d(in_channels=num_hidden, out_channels=embed_dim, kernel_size=1, stride=1)\n",
        "\n",
        "        self.vq_ema = VectorQuantizerEMA(embed_size, embed_dim)\n",
        "        \n",
        "        self.decoder = nn.Sequential(\n",
        "            nn.Conv2d(in_channels=embed_dim, out_channels=num_hidden, kernel_size=1, stride=1),\n",
        "            ResidualStack(num_hidden, num_hidden, num_residual_layers, num_residual_hidden),\n",
        "            nn.ConvTranspose2d(in_channels=num_hidden, out_channels=num_hidden//2, kernel_size=4, stride=2),\n",
        "            nn.ReLU(),\n",
        "            nn.ConvTranspose2d(in_channels=num_hidden//2, out_channels=1, kernel_size=6, stride=2)\n",
        "        )\n",
        "\n",
        "    def calculate_loss(self, x, com_loss, z_e, z_q, recon_x):\n",
        "        vq_loss = F.mse_loss(z_q, z_e.detach())\n",
        "        recon_loss = F.mse_loss(x, recon_x) / self._data_variance\n",
        "        # print(z_e, z_q)\n",
        "        # print(recon_loss, vq_loss, com_loss)\n",
        "        return recon_loss + com_loss\n",
        "\n",
        "    def forward(self, x):\n",
        "        z_e = self.pre_vq(self.encoder(x))\n",
        "        z_q, com_loss, perplexity = self.vq_ema(z_e)\n",
        "        recon_x = self.decoder(z_q)\n",
        "        loss = self.calculate_loss(x, com_loss, z_e, z_q, recon_x)\n",
        "        return recon_x, loss, perplexity\n",
        "\n",
        "model = VQVAE(data_variance=data_variance).to(device)\n",
        "print(model)"
      ]
    },
    {
      "cell_type": "code",
      "execution_count": null,
      "metadata": {
        "id": "S8mf3Cn44jmS"
      },
      "outputs": [],
      "source": [
        "optimiser = torch.optim.Adam(model.parameters(), lr=1e-3)"
      ]
    },
    {
      "cell_type": "code",
      "execution_count": null,
      "metadata": {
        "id": "yzhz9PiJV_I0"
      },
      "outputs": [],
      "source": [
        "def plot_grad_flow(named_parameters):\n",
        "    ave_grads = []\n",
        "    layers = []\n",
        "    for n, p in named_parameters:\n",
        "        # print(n, p)\n",
        "        if(p.requires_grad) and (\"bias\" not in n):\n",
        "            layers.append(n)\n",
        "            ave_grads.append(p.grad.abs().mean())\n",
        "    plt.plot(ave_grads, alpha=0.3, color=\"b\")\n",
        "    plt.hlines(0, 0, len(ave_grads)+1, linewidth=1, color=\"k\" )\n",
        "    plt.xticks(range(0,len(ave_grads), 1), layers, rotation=\"vertical\")\n",
        "    plt.xlim(xmin=0, xmax=len(ave_grads))\n",
        "    plt.xlabel(\"Layers\")\n",
        "    plt.ylabel(\"average gradient\")\n",
        "    plt.title(\"Gradient flow\")\n",
        "    plt.grid(True)"
      ]
    },
    {
      "cell_type": "code",
      "execution_count": null,
      "metadata": {
        "id": "8OLZjO6xH1iX"
      },
      "outputs": [],
      "source": [
        "def train(dataloader, model, optimiser):\n",
        "  size = len(train_dataloader.dataset)\n",
        "\n",
        "  model.train()\n",
        "  for batch, (X, y) in enumerate(dataloader):\n",
        "    X, y = X.to(device), y.to(device)\n",
        "    pred, loss, perplexity = model(X)\n",
        "    # print(pred)\n",
        "    # print(loss)\n",
        "    # print(perplexity)\n",
        "\n",
        "    optimiser.zero_grad()\n",
        "    loss.backward()\n",
        "    # plot_grad_flow(model.named_parameters())\n",
        "    optimiser.step()\n",
        "\n",
        "    if batch % 100 == 0:\n",
        "      loss, current = loss.item(), batch * len(X)\n",
        "      print(f\"loss: {loss:>7f} perplexity: {perplexity:>7f} [{current:>5d}/{size:>5d}]\")\n",
        "    # break"
      ]
    },
    {
      "cell_type": "code",
      "execution_count": null,
      "metadata": {
        "colab": {
          "background_save": true,
          "base_uri": "https://localhost:8080/"
        },
        "id": "6_d-pp-4IzHv",
        "outputId": "04084aa9-c00f-4bfd-91a5-b001a291939d"
      },
      "outputs": [
        {
          "name": "stdout",
          "output_type": "stream",
          "text": [
            "Epoch 1\n",
            "-------------------------------\n"
          ]
        },
        {
          "name": "stderr",
          "output_type": "stream",
          "text": [
            "/usr/local/lib/python3.7/dist-packages/ipykernel_launcher.py:35: UserWarning: This overload of add_ is deprecated:\n",
            "\tadd_(Number alpha, Tensor other)\n",
            "Consider using one of the following signatures instead:\n",
            "\tadd_(Tensor other, *, Number alpha) (Triggered internally at  /pytorch/torch/csrc/utils/python_arg_parser.cpp:1025.)\n"
          ]
        },
        {
          "name": "stdout",
          "output_type": "stream",
          "text": [
            "loss: 0.315461 perplexity: 1.999436 [    0/60000]\n",
            "loss: 0.053992 perplexity: 1.814628 [12800/60000]\n",
            "loss: 0.060387 perplexity: 1.645085 [25600/60000]\n",
            "loss: 0.068367 perplexity: 1.394549 [38400/60000]\n",
            "loss: 0.079325 perplexity: 1.255867 [51200/60000]\n",
            "Epoch 2\n",
            "-------------------------------\n",
            "loss: 0.071450 perplexity: 1.354267 [    0/60000]\n",
            "loss: 0.062066 perplexity: 1.431541 [12800/60000]\n",
            "loss: 0.079861 perplexity: 1.337516 [25600/60000]\n",
            "loss: 0.074025 perplexity: 1.304211 [38400/60000]\n",
            "loss: 0.133104 perplexity: 1.250463 [51200/60000]\n",
            "Epoch 3\n",
            "-------------------------------\n",
            "loss: 0.089776 perplexity: 1.344446 [    0/60000]\n",
            "loss: 0.080185 perplexity: 1.243937 [12800/60000]\n",
            "loss: 0.068397 perplexity: 1.558607 [25600/60000]\n",
            "loss: 0.034854 perplexity: 2.576520 [38400/60000]\n",
            "loss: 0.027267 perplexity: 4.746062 [51200/60000]\n",
            "Epoch 4\n",
            "-------------------------------\n",
            "loss: 0.024575 perplexity: 8.165730 [    0/60000]\n",
            "loss: 0.020874 perplexity: 11.970277 [12800/60000]\n",
            "loss: 0.020138 perplexity: 12.938466 [25600/60000]\n",
            "loss: 0.018753 perplexity: 13.876428 [38400/60000]\n",
            "loss: 0.017838 perplexity: 14.161325 [51200/60000]\n",
            "Epoch 5\n",
            "-------------------------------\n",
            "loss: 0.018075 perplexity: 14.385478 [    0/60000]\n",
            "loss: 0.016628 perplexity: 15.066778 [12800/60000]\n",
            "loss: 0.016726 perplexity: 15.751721 [25600/60000]\n",
            "loss: 0.016461 perplexity: 16.807661 [38400/60000]\n",
            "loss: 0.016051 perplexity: 16.986282 [51200/60000]\n",
            "Epoch 6\n",
            "-------------------------------\n",
            "loss: 0.016944 perplexity: 16.877596 [    0/60000]\n",
            "loss: 0.015321 perplexity: 17.155708 [12800/60000]\n",
            "loss: 0.015882 perplexity: 16.994001 [25600/60000]\n",
            "loss: 0.015333 perplexity: 17.196060 [38400/60000]\n",
            "loss: 0.015622 perplexity: 17.110668 [51200/60000]\n",
            "Epoch 7\n",
            "-------------------------------\n",
            "loss: 0.015556 perplexity: 17.303793 [    0/60000]\n",
            "loss: 0.014376 perplexity: 17.366829 [12800/60000]\n",
            "loss: 0.014904 perplexity: 17.004698 [25600/60000]\n",
            "loss: 0.014876 perplexity: 17.040625 [38400/60000]\n",
            "loss: 0.014922 perplexity: 17.069717 [51200/60000]\n",
            "Epoch 8\n",
            "-------------------------------\n",
            "loss: 0.014936 perplexity: 17.325020 [    0/60000]\n",
            "loss: 0.013730 perplexity: 18.224598 [12800/60000]\n",
            "loss: 0.014562 perplexity: 17.861704 [25600/60000]\n",
            "loss: 0.014803 perplexity: 18.116293 [38400/60000]\n",
            "loss: 0.014445 perplexity: 17.962215 [51200/60000]\n",
            "Epoch 9\n",
            "-------------------------------\n",
            "loss: 0.014445 perplexity: 19.015688 [    0/60000]\n",
            "loss: 0.013255 perplexity: 19.801077 [12800/60000]\n",
            "loss: 0.014172 perplexity: 19.608242 [25600/60000]\n",
            "loss: 0.013758 perplexity: 20.022520 [38400/60000]\n",
            "loss: 0.013950 perplexity: 19.800365 [51200/60000]\n",
            "Epoch 10\n",
            "-------------------------------\n",
            "loss: 0.013650 perplexity: 20.062464 [    0/60000]\n",
            "loss: 0.012708 perplexity: 20.064919 [12800/60000]\n",
            "loss: 0.013669 perplexity: 19.671738 [25600/60000]\n",
            "loss: 0.013560 perplexity: 20.085365 [38400/60000]\n",
            "loss: 0.013650 perplexity: 19.748854 [51200/60000]\n",
            "Epoch 11\n",
            "-------------------------------\n",
            "loss: 0.013603 perplexity: 20.011826 [    0/60000]\n",
            "loss: 0.012521 perplexity: 20.124540 [12800/60000]\n",
            "loss: 0.012932 perplexity: 19.744019 [25600/60000]\n",
            "loss: 0.013436 perplexity: 19.921106 [38400/60000]\n",
            "loss: 0.013558 perplexity: 19.808849 [51200/60000]\n",
            "Epoch 12\n",
            "-------------------------------\n",
            "loss: 0.013191 perplexity: 20.012650 [    0/60000]\n",
            "loss: 0.012299 perplexity: 20.191099 [12800/60000]\n",
            "loss: 0.012785 perplexity: 19.656689 [25600/60000]\n",
            "loss: 0.013233 perplexity: 19.985506 [38400/60000]\n",
            "loss: 0.013213 perplexity: 19.851614 [51200/60000]\n",
            "Epoch 13\n",
            "-------------------------------\n",
            "loss: 0.013067 perplexity: 20.059149 [    0/60000]\n",
            "loss: 0.012173 perplexity: 20.209921 [12800/60000]\n",
            "loss: 0.012689 perplexity: 19.802197 [25600/60000]\n",
            "loss: 0.013004 perplexity: 19.926968 [38400/60000]\n",
            "loss: 0.015134 perplexity: 19.628420 [51200/60000]\n",
            "Epoch 14\n",
            "-------------------------------\n",
            "loss: 0.013079 perplexity: 20.035442 [    0/60000]\n",
            "loss: 0.012047 perplexity: 20.170053 [12800/60000]\n",
            "loss: 0.012578 perplexity: 19.735184 [25600/60000]\n",
            "loss: 0.012984 perplexity: 19.897989 [38400/60000]\n",
            "loss: 0.013059 perplexity: 19.814831 [51200/60000]\n",
            "Epoch 15\n",
            "-------------------------------\n",
            "loss: 0.012856 perplexity: 20.993994 [    0/60000]\n",
            "loss: 0.012007 perplexity: 21.036564 [12800/60000]\n",
            "loss: 0.012279 perplexity: 20.685461 [25600/60000]\n",
            "loss: 0.012803 perplexity: 20.869476 [38400/60000]\n",
            "loss: 0.012853 perplexity: 20.685053 [51200/60000]\n",
            "Epoch 16\n",
            "-------------------------------\n",
            "loss: 0.012738 perplexity: 21.184698 [    0/60000]\n",
            "loss: 0.011843 perplexity: 21.190897 [12800/60000]\n"
          ]
        }
      ],
      "source": [
        "epochs = 40\n",
        "for t in range(epochs):\n",
        "    print(f\"Epoch {t+1}\\n-------------------------------\")\n",
        "    train(train_dataloader, model, optimiser)\n",
        "    # test(test_dataloader, model, loss_fn)\n",
        "print(\"Done!\")"
      ]
    },
    {
      "cell_type": "code",
      "execution_count": null,
      "metadata": {
        "colab": {
          "base_uri": "https://localhost:8080/",
          "height": 1000
        },
        "id": "610HFzCStB_H",
        "outputId": "bd34bf06-1f71-4cfc-f7f3-89373ff2f342"
      },
      "outputs": [
        {
          "name": "stderr",
          "output_type": "stream",
          "text": [
            "/usr/local/lib/python3.7/dist-packages/ipykernel_launcher.py:14: RuntimeWarning: More than 20 figures have been opened. Figures created through the pyplot interface (`matplotlib.pyplot.figure`) are retained until explicitly closed and may consume too much memory. (To control this warning, see the rcParam `figure.max_open_warning`).\n",
            "  \n",
            "/usr/local/lib/python3.7/dist-packages/ipykernel_launcher.py:16: RuntimeWarning: More than 20 figures have been opened. Figures created through the pyplot interface (`matplotlib.pyplot.figure`) are retained until explicitly closed and may consume too much memory. (To control this warning, see the rcParam `figure.max_open_warning`).\n",
            "  app.launch_new_instance()\n"
          ]
        },
        {
          "data": {
            "image/png": "[encoded data removed]",
            "text/plain": [
              "<Figure size 432x288 with 1 Axes>"
            ]
          },
          "metadata": {},
          "output_type": "display_data"
        },
        {
          "data": {
            "image/png": "[encoded data removed]",
            "text/plain": [
              "<Figure size 432x288 with 1 Axes>"
            ]
          },
          "metadata": {},
          "output_type": "display_data"
        },
        {
          "data": {
            "image/png": "[encoded data removed]",
            "text/plain": [
              "<Figure size 432x288 with 1 Axes>"
            ]
          },
          "metadata": {},
          "output_type": "display_data"
        },
        {
          "data": {
            "image/png": "[encoded data removed]",
            "text/plain": [
              "<Figure size 432x288 with 1 Axes>"
            ]
          },
          "metadata": {},
          "output_type": "display_data"
        },
        {
          "data": {
            "image/png": "[encoded data removed]",
            "text/plain": [
              "<Figure size 432x288 with 1 Axes>"
            ]
          },
          "metadata": {},
          "output_type": "display_data"
        },
        {
          "data": {
            "image/png": "[encoded data removed]",
            "text/plain": [
              "<Figure size 432x288 with 1 Axes>"
            ]
          },
          "metadata": {},
          "output_type": "display_data"
        },
        {
          "data": {
            "image/png": "[encoded data removed]",
            "text/plain": [
              "<Figure size 432x288 with 1 Axes>"
            ]
          },
          "metadata": {},
          "output_type": "display_data"
        },
        {
          "data": {
            "image/png": "[encoded data removed]",
            "text/plain": [
              "<Figure size 432x288 with 1 Axes>"
            ]
          },
          "metadata": {},
          "output_type": "display_data"
        },
        {
          "data": {
            "image/png": "[encoded data removed]",
            "text/plain": [
              "<Figure size 432x288 with 1 Axes>"
            ]
          },
          "metadata": {},
          "output_type": "display_data"
        },
        {
          "data": {
            "image/png": "[encoded data removed]",
            "text/plain": [
              "<Figure size 432x288 with 1 Axes>"
            ]
          },
          "metadata": {},
          "output_type": "display_data"
        },
        {
          "data": {
            "image/png": "[encoded data removed]",
            "text/plain": [
              "<Figure size 432x288 with 1 Axes>"
            ]
          },
          "metadata": {},
          "output_type": "display_data"
        },
        {
          "data": {
            "image/png": "[encoded data removed]",
            "text/plain": [
              "<Figure size 432x288 with 1 Axes>"
            ]
          },
          "metadata": {},
          "output_type": "display_data"
        },
        {
          "data": {
            "image/png": "[encoded data removed]",
            "text/plain": [
              "<Figure size 432x288 with 1 Axes>"
            ]
          },
          "metadata": {},
          "output_type": "display_data"
        },
        {
          "data": {
            "image/png": "[encoded data removed]",
            "text/plain": [
              "<Figure size 432x288 with 1 Axes>"
            ]
          },
          "metadata": {},
          "output_type": "display_data"
        },
        {
          "data": {
            "image/png": "[encoded data removed]",
            "text/plain": [
              "<Figure size 432x288 with 1 Axes>"
            ]
          },
          "metadata": {},
          "output_type": "display_data"
        },
        {
          "data": {
            "image/png": "[encoded data removed]",
            "text/plain": [
              "<Figure size 432x288 with 1 Axes>"
            ]
          },
          "metadata": {},
          "output_type": "display_data"
        },
        {
          "data": {
            "image/png": "[encoded data removed]",
            "text/plain": [
              "<Figure size 432x288 with 1 Axes>"
            ]
          },
          "metadata": {},
          "output_type": "display_data"
        },
        {
          "data": {
            "image/png": "[encoded data removed]",
            "text/plain": [
              "<Figure size 432x288 with 1 Axes>"
            ]
          },
          "metadata": {},
          "output_type": "display_data"
        },
        {
          "data": {
            "image/png": "[encoded data removed]",
            "text/plain": [
              "<Figure size 432x288 with 1 Axes>"
            ]
          },
          "metadata": {},
          "output_type": "display_data"
        },
        {
          "data": {
            "image/png": "[encoded data removed]",
            "text/plain": [
              "<Figure size 432x288 with 1 Axes>"
            ]
          },
          "metadata": {},
          "output_type": "display_data"
        },
        {
          "data": {
            "image/png": "[encoded data removed]",
            "text/plain": [
              "<Figure size 432x288 with 1 Axes>"
            ]
          },
          "metadata": {},
          "output_type": "display_data"
        },
        {
          "data": {
            "image/png": "[encoded data removed]",
            "text/plain": [
              "<Figure size 432x288 with 1 Axes>"
            ]
          },
          "metadata": {},
          "output_type": "display_data"
        }
      ],
      "source": [
        "def plot(dataloader, model):\n",
        "    i = 0\n",
        "    size = len(dataloader.dataset)\n",
        "    num_batches = len(dataloader)\n",
        "    model.eval()\n",
        "    test_loss, correct = 0, 0\n",
        "    with torch.no_grad():\n",
        "        for X, y in dataloader:\n",
        "            i += 1\n",
        "            # print(X)\n",
        "            X, y = X.to(device), y.to(device)\n",
        "            pred, loss, perplexity = model(X)\n",
        "            # print(pred)\n",
        "            plt.figure()\n",
        "            plt.imshow(  X.cpu()[0].squeeze()  )\n",
        "            plt.figure()\n",
        "            plt.imshow(  pred.cpu()[0][0]  )\n",
        "            if i > 10:\n",
        "              break\n",
        "plot(test_dataloader, model)"
      ]
    },
    {
      "cell_type": "code",
      "execution_count": null,
      "metadata": {
        "id": "WpM50IVDIl0A"
      },
      "outputs": [],
      "source": [
        "def test(dataloader, model, loss_fn):\n",
        "    size = len(dataloader.dataset)\n",
        "    num_batches = len(dataloader)\n",
        "    model.eval()\n",
        "    test_loss, correct = 0, 0\n",
        "    with torch.no_grad():\n",
        "        for X, y in dataloader:\n",
        "            X, y = X.to(device), y.to(device)\n",
        "            pred = model(X)\n",
        "            test_loss += loss_fn(pred, y).item()\n",
        "            correct += (pred.argmax(1) == y).type(torch.float).sum().item()\n",
        "    test_loss /= num_batches\n",
        "    correct /= size\n",
        "    print(f\"Test Error: \\n Accuracy: {(100*correct):>0.1f}%, Avg loss: {test_loss:>8f} \\n\")"
      ]
    },
    {
      "cell_type": "code",
      "execution_count": null,
      "metadata": {
        "id": "fne_9vHn_Vns"
      },
      "outputs": [],
      "source": [
        "|!pip install -U git+https://github.com/szagoruyko/pytorchviz.git@master\n"
      ]
    },
    {
      "cell_type": "code",
      "execution_count": null,
      "metadata": {
        "colab": {
          "base_uri": "https://localhost:8080/",
          "height": 1000
        },
        "id": "e8b8rZ8M_FaV",
        "outputId": "a991bd52-01ed-4bb2-d5f3-551b267a40fe"
      },
      "outputs": [
        {
          "name": "stdout",
          "output_type": "stream",
          "text": [
            "tensor([[0., 0., 0.,  ..., 0., 0., 0.],\n",
            "        [0., 0., 0.,  ..., 0., 0., 0.],\n",
            "        [0., 0., 0.,  ..., 0., 0., 0.],\n",
            "        ...,\n",
            "        [0., 0., 0.,  ..., 0., 0., 0.],\n",
            "        [0., 0., 0.,  ..., 0., 0., 0.],\n",
            "        [0., 0., 0.,  ..., 0., 0., 0.]], device='cuda:0',\n",
            "       grad_fn=<ReluBackward0>)\n"
          ]
        },
        {
          "data": {
            "image/svg+xml": "<?xml version=\"1.0\" encoding=\"UTF-8\" standalone=\"no\"?>\n<!DOCTYPE svg PUBLIC \"-//W3C//DTD SVG 1.1//EN\"\n \"http://www.w3.org/Graphics/SVG/1.1/DTD/svg11.dtd\">\n<!-- Generated by graphviz version 2.40.1 (20161225.0304)\n -->\n<!-- Title: %3 Pages: 1 -->\n<svg width=\"465pt\" height=\"864pt\"\n viewBox=\"0.00 0.00 465.39 864.00\" xmlns=\"http://www.w3.org/2000/svg\" xmlns:xlink=\"http://www.w3.org/1999/xlink\">\n<g id=\"graph0\" class=\"graph\" transform=\"scale(.7105 .7105) rotate(0) translate(4 1212)\">\n<title>%3</title>\n<polygon fill=\"#ffffff\" stroke=\"transparent\" points=\"-4,4 -4,-1212 651,-1212 651,4 -4,4\"/>\n<!-- 140010052714976 -->\n<g id=\"node1\" class=\"node\">\n<title>140010052714976</title>\n<polygon fill=\"#caff70\" stroke=\"#000000\" points=\"430.5,-31 376.5,-31 376.5,0 430.5,0 430.5,-31\"/>\n<text text-anchor=\"middle\" x=\"403.5\" y=\"-7\" font-family=\"monospace\" font-size=\"10.00\" fill=\"#000000\"> ()</text>\n</g>\n<!-- 140009681840208 -->\n<g id=\"node2\" class=\"node\">\n<title>140009681840208</title>\n<polygon fill=\"#d3d3d3\" stroke=\"#000000\" points=\"448,-108 359,-108 359,-67 448,-67 448,-108\"/>\n<text text-anchor=\"middle\" x=\"403.5\" y=\"-96\" font-family=\"monospace\" font-size=\"10.00\" fill=\"#000000\">AddBackward0</text>\n<text text-anchor=\"middle\" x=\"403.5\" y=\"-85\" font-family=\"monospace\" font-size=\"10.00\" fill=\"#000000\">&#45;&#45;&#45;&#45;&#45;&#45;&#45;&#45;&#45;&#45;&#45;&#45;</text>\n<text text-anchor=\"middle\" x=\"403.5\" y=\"-74\" font-family=\"monospace\" font-size=\"10.00\" fill=\"#000000\">alpha: 1</text>\n</g>\n<!-- 140009681840208&#45;&gt;140010052714976 -->\n<g id=\"edge39\" class=\"edge\">\n<title>140009681840208&#45;&gt;140010052714976</title>\n<path fill=\"none\" stroke=\"#000000\" d=\"M403.5,-66.6746C403.5,-58.8199 403.5,-49.7855 403.5,-41.5146\"/>\n<polygon fill=\"#000000\" stroke=\"#000000\" points=\"407.0001,-41.245 403.5,-31.2451 400.0001,-41.2451 407.0001,-41.245\"/>\n</g>\n<!-- 140009720845520 -->\n<g id=\"node3\" class=\"node\">\n<title>140009720845520</title>\n<polygon fill=\"#d3d3d3\" stroke=\"#000000\" points=\"230,-207 63,-207 63,-144 230,-144 230,-207\"/>\n<text text-anchor=\"middle\" x=\"146.5\" y=\"-195\" font-family=\"monospace\" font-size=\"10.00\" fill=\"#000000\">MseLossBackward</text>\n<text text-anchor=\"middle\" x=\"146.5\" y=\"-184\" font-family=\"monospace\" font-size=\"10.00\" fill=\"#000000\">&#45;&#45;&#45;&#45;&#45;&#45;&#45;&#45;&#45;&#45;&#45;&#45;&#45;&#45;&#45;&#45;&#45;&#45;&#45;&#45;&#45;&#45;&#45;&#45;&#45;</text>\n<text text-anchor=\"middle\" x=\"146.5\" y=\"-173\" font-family=\"monospace\" font-size=\"10.00\" fill=\"#000000\">reduction: &#160;&#160;&#160;&#160;&#160;&#160;&#160;&#160;&#160;&#160;&#160;&#160;&#160;1</text>\n<text text-anchor=\"middle\" x=\"146.5\" y=\"-162\" font-family=\"monospace\" font-size=\"10.00\" fill=\"#000000\">self &#160;&#160;&#160;&#160;: [saved tensor]</text>\n<text text-anchor=\"middle\" x=\"146.5\" y=\"-151\" font-family=\"monospace\" font-size=\"10.00\" fill=\"#000000\">target &#160;&#160;: [saved tensor]</text>\n</g>\n<!-- 140009720845520&#45;&gt;140009681840208 -->\n<g id=\"edge1\" class=\"edge\">\n<title>140009720845520&#45;&gt;140009681840208</title>\n<path fill=\"none\" stroke=\"#000000\" d=\"M230.2958,-146.8073C269.2251,-133.4774 314.4077,-118.0063 348.8628,-106.2085\"/>\n<polygon fill=\"#000000\" stroke=\"#000000\" points=\"350.4094,-109.3785 358.7363,-102.8276 348.1417,-102.7559 350.4094,-109.3785\"/>\n</g>\n<!-- 140010052715216 -->\n<g id=\"node4\" class=\"node\">\n<title>140010052715216</title>\n<polygon fill=\"#ffa500\" stroke=\"#000000\" points=\"179,-102.5 102,-102.5 102,-72.5 179,-72.5 179,-102.5\"/>\n<text text-anchor=\"middle\" x=\"140.5\" y=\"-90.5\" font-family=\"monospace\" font-size=\"10.00\" fill=\"#000000\">self</text>\n<text text-anchor=\"middle\" x=\"140.5\" y=\"-79.5\" font-family=\"monospace\" font-size=\"10.00\" fill=\"#000000\"> (128, 64)</text>\n</g>\n<!-- 140009720845520&#45;&gt;140010052715216 -->\n<g id=\"edge2\" class=\"edge\">\n<title>140009720845520&#45;&gt;140010052715216</title>\n<path fill=\"none\" stroke=\"#000000\" d=\"M144.3339,-143.73C143.3806,-129.7482 142.3052,-113.9767 141.5366,-102.7029\"/>\n</g>\n<!-- 140010051363056 -->\n<g id=\"node5\" class=\"node\">\n<title>140010051363056</title>\n<polygon fill=\"#ffa500\" stroke=\"#000000\" points=\"274,-102.5 197,-102.5 197,-72.5 274,-72.5 274,-102.5\"/>\n<text text-anchor=\"middle\" x=\"235.5\" y=\"-90.5\" font-family=\"monospace\" font-size=\"10.00\" fill=\"#000000\">target</text>\n<text text-anchor=\"middle\" x=\"235.5\" y=\"-79.5\" font-family=\"monospace\" font-size=\"10.00\" fill=\"#000000\"> (128, 64)</text>\n</g>\n<!-- 140009720845520&#45;&gt;140010051363056 -->\n<g id=\"edge3\" class=\"edge\">\n<title>140009720845520&#45;&gt;140010051363056</title>\n<path fill=\"none\" stroke=\"#000000\" d=\"M178.3797,-143.9785C192.545,-129.9723 208.5704,-114.127 220.0339,-102.7923\"/>\n</g>\n<!-- 140010072520016 -->\n<g id=\"node6\" class=\"node\">\n<title>140010072520016</title>\n<polygon fill=\"#d3d3d3\" stroke=\"#000000\" points=\"156,-289.5 67,-289.5 67,-248.5 156,-248.5 156,-289.5\"/>\n<text text-anchor=\"middle\" x=\"111.5\" y=\"-277.5\" font-family=\"monospace\" font-size=\"10.00\" fill=\"#000000\">SubBackward0</text>\n<text text-anchor=\"middle\" x=\"111.5\" y=\"-266.5\" font-family=\"monospace\" font-size=\"10.00\" fill=\"#000000\">&#45;&#45;&#45;&#45;&#45;&#45;&#45;&#45;&#45;&#45;&#45;&#45;</text>\n<text text-anchor=\"middle\" x=\"111.5\" y=\"-255.5\" font-family=\"monospace\" font-size=\"10.00\" fill=\"#000000\">alpha: 1</text>\n</g>\n<!-- 140010072520016&#45;&gt;140009720845520 -->\n<g id=\"edge4\" class=\"edge\">\n<title>140010072520016&#45;&gt;140009720845520</title>\n<path fill=\"none\" stroke=\"#000000\" d=\"M119.2676,-248.2493C122.7568,-238.9284 127.0027,-227.5856 131.0938,-216.6566\"/>\n<polygon fill=\"#000000\" stroke=\"#000000\" points=\"134.3982,-217.8124 134.6262,-207.2201 127.8425,-215.3584 134.3982,-217.8124\"/>\n</g>\n<!-- 140009680128464 -->\n<g id=\"node7\" class=\"node\">\n<title>140009680128464</title>\n<polygon fill=\"#d3d3d3\" stroke=\"#000000\" points=\"89,-383 0,-383 0,-342 89,-342 89,-383\"/>\n<text text-anchor=\"middle\" x=\"44.5\" y=\"-371\" font-family=\"monospace\" font-size=\"10.00\" fill=\"#000000\">AddBackward0</text>\n<text text-anchor=\"middle\" x=\"44.5\" y=\"-360\" font-family=\"monospace\" font-size=\"10.00\" fill=\"#000000\">&#45;&#45;&#45;&#45;&#45;&#45;&#45;&#45;&#45;&#45;&#45;&#45;</text>\n<text text-anchor=\"middle\" x=\"44.5\" y=\"-349\" font-family=\"monospace\" font-size=\"10.00\" fill=\"#000000\">alpha: 1</text>\n</g>\n<!-- 140009680128464&#45;&gt;140010072520016 -->\n<g id=\"edge5\" class=\"edge\">\n<title>140009680128464&#45;&gt;140010072520016</title>\n<path fill=\"none\" stroke=\"#000000\" d=\"M59.3695,-341.7493C68.5642,-328.9179 80.5045,-312.255 90.6373,-298.1144\"/>\n<polygon fill=\"#000000\" stroke=\"#000000\" points=\"93.6923,-299.8599 96.6721,-289.6927 88.0024,-295.7825 93.6923,-299.8599\"/>\n</g>\n<!-- 140009681377488 -->\n<g id=\"node8\" class=\"node\">\n<title>140009681377488</title>\n<polygon fill=\"#d3d3d3\" stroke=\"#000000\" points=\"284,-548 99,-548 99,-430 284,-430 284,-548\"/>\n<text text-anchor=\"middle\" x=\"191.5\" y=\"-536\" font-family=\"monospace\" font-size=\"10.00\" fill=\"#000000\">AddmmBackward</text>\n<text text-anchor=\"middle\" x=\"191.5\" y=\"-525\" font-family=\"monospace\" font-size=\"10.00\" fill=\"#000000\">&#45;&#45;&#45;&#45;&#45;&#45;&#45;&#45;&#45;&#45;&#45;&#45;&#45;&#45;&#45;&#45;&#45;&#45;&#45;&#45;&#45;&#45;&#45;&#45;&#45;&#45;&#45;&#45;</text>\n<text text-anchor=\"middle\" x=\"191.5\" y=\"-514\" font-family=\"monospace\" font-size=\"10.00\" fill=\"#000000\">alpha &#160;&#160;&#160;&#160;&#160;&#160;: &#160;&#160;&#160;&#160;&#160;&#160;&#160;&#160;&#160;&#160;&#160;&#160;&#160;1</text>\n<text text-anchor=\"middle\" x=\"191.5\" y=\"-503\" font-family=\"monospace\" font-size=\"10.00\" fill=\"#000000\">beta &#160;&#160;&#160;&#160;&#160;&#160;&#160;: &#160;&#160;&#160;&#160;&#160;&#160;&#160;&#160;&#160;&#160;&#160;&#160;&#160;1</text>\n<text text-anchor=\"middle\" x=\"191.5\" y=\"-492\" font-family=\"monospace\" font-size=\"10.00\" fill=\"#000000\">mat1 &#160;&#160;&#160;&#160;&#160;&#160;&#160;: [saved tensor]</text>\n<text text-anchor=\"middle\" x=\"191.5\" y=\"-481\" font-family=\"monospace\" font-size=\"10.00\" fill=\"#000000\">mat1_sizes &#160;: &#160;&#160;&#160;&#160;&#160;(128, 64)</text>\n<text text-anchor=\"middle\" x=\"191.5\" y=\"-470\" font-family=\"monospace\" font-size=\"10.00\" fill=\"#000000\">mat1_strides: &#160;&#160;&#160;&#160;&#160;&#160;&#160;(64, 1)</text>\n<text text-anchor=\"middle\" x=\"191.5\" y=\"-459\" font-family=\"monospace\" font-size=\"10.00\" fill=\"#000000\">mat2 &#160;&#160;&#160;&#160;&#160;&#160;&#160;: [saved tensor]</text>\n<text text-anchor=\"middle\" x=\"191.5\" y=\"-448\" font-family=\"monospace\" font-size=\"10.00\" fill=\"#000000\">mat2_sizes &#160;: &#160;&#160;&#160;&#160;&#160;&#160;(64, 64)</text>\n<text text-anchor=\"middle\" x=\"191.5\" y=\"-437\" font-family=\"monospace\" font-size=\"10.00\" fill=\"#000000\">mat2_strides: &#160;&#160;&#160;&#160;&#160;&#160;&#160;(1, 64)</text>\n</g>\n<!-- 140009681377488&#45;&gt;140009680128464 -->\n<g id=\"edge6\" class=\"edge\">\n<title>140009681377488&#45;&gt;140009680128464</title>\n<path fill=\"none\" stroke=\"#000000\" d=\"M122.7344,-429.8242C106.4937,-415.8484 89.9436,-401.6062 76.2732,-389.8423\"/>\n<polygon fill=\"#000000\" stroke=\"#000000\" points=\"78.444,-387.0928 68.5812,-383.2229 73.8781,-392.3987 78.444,-387.0928\"/>\n</g>\n<!-- 140010053643872 -->\n<g id=\"node9\" class=\"node\">\n<title>140010053643872</title>\n<polygon fill=\"#ffa500\" stroke=\"#000000\" points=\"184,-377.5 107,-377.5 107,-347.5 184,-347.5 184,-377.5\"/>\n<text text-anchor=\"middle\" x=\"145.5\" y=\"-365.5\" font-family=\"monospace\" font-size=\"10.00\" fill=\"#000000\">mat1</text>\n<text text-anchor=\"middle\" x=\"145.5\" y=\"-354.5\" font-family=\"monospace\" font-size=\"10.00\" fill=\"#000000\"> (128, 64)</text>\n</g>\n<!-- 140009681377488&#45;&gt;140010053643872 -->\n<g id=\"edge7\" class=\"edge\">\n<title>140009681377488&#45;&gt;140010053643872</title>\n<path fill=\"none\" stroke=\"#000000\" d=\"M169.9815,-429.8242C162.9667,-410.5333 155.7673,-390.735 151.008,-377.6469\"/>\n</g>\n<!-- 140010053510640 -->\n<g id=\"node10\" class=\"node\">\n<title>140010053510640</title>\n<polygon fill=\"#ffa500\" stroke=\"#000000\" points=\"273,-377.5 202,-377.5 202,-347.5 273,-347.5 273,-377.5\"/>\n<text text-anchor=\"middle\" x=\"237.5\" y=\"-365.5\" font-family=\"monospace\" font-size=\"10.00\" fill=\"#000000\">mat2</text>\n<text text-anchor=\"middle\" x=\"237.5\" y=\"-354.5\" font-family=\"monospace\" font-size=\"10.00\" fill=\"#000000\"> (64, 64)</text>\n</g>\n<!-- 140009681377488&#45;&gt;140010053510640 -->\n<g id=\"edge8\" class=\"edge\">\n<title>140009681377488&#45;&gt;140010053510640</title>\n<path fill=\"none\" stroke=\"#000000\" d=\"M213.0185,-429.8242C220.0333,-410.5333 227.2327,-390.735 231.992,-377.6469\"/>\n</g>\n<!-- 140010052720528 -->\n<g id=\"node37\" class=\"node\">\n<title>140010052720528</title>\n<polygon fill=\"#d3d3d3\" stroke=\"#000000\" points=\"458,-394 291,-394 291,-331 458,-331 458,-394\"/>\n<text text-anchor=\"middle\" x=\"374.5\" y=\"-382\" font-family=\"monospace\" font-size=\"10.00\" fill=\"#000000\">MseLossBackward</text>\n<text text-anchor=\"middle\" x=\"374.5\" y=\"-371\" font-family=\"monospace\" font-size=\"10.00\" fill=\"#000000\">&#45;&#45;&#45;&#45;&#45;&#45;&#45;&#45;&#45;&#45;&#45;&#45;&#45;&#45;&#45;&#45;&#45;&#45;&#45;&#45;&#45;&#45;&#45;&#45;&#45;</text>\n<text text-anchor=\"middle\" x=\"374.5\" y=\"-360\" font-family=\"monospace\" font-size=\"10.00\" fill=\"#000000\">reduction: &#160;&#160;&#160;&#160;&#160;&#160;&#160;&#160;&#160;&#160;&#160;&#160;&#160;1</text>\n<text text-anchor=\"middle\" x=\"374.5\" y=\"-349\" font-family=\"monospace\" font-size=\"10.00\" fill=\"#000000\">self &#160;&#160;&#160;&#160;: [saved tensor]</text>\n<text text-anchor=\"middle\" x=\"374.5\" y=\"-338\" font-family=\"monospace\" font-size=\"10.00\" fill=\"#000000\">target &#160;&#160;: [saved tensor]</text>\n</g>\n<!-- 140009681377488&#45;&gt;140010052720528 -->\n<g id=\"edge38\" class=\"edge\">\n<title>140009681377488&#45;&gt;140010052720528</title>\n<path fill=\"none\" stroke=\"#000000\" d=\"M277.1062,-429.8242C291.8968,-419.6 306.8937,-409.2333 320.5423,-399.7986\"/>\n<polygon fill=\"#000000\" stroke=\"#000000\" points=\"322.6166,-402.6197 328.8523,-394.0543 318.6361,-396.8615 322.6166,-402.6197\"/>\n</g>\n<!-- 140010052829392 -->\n<g id=\"node11\" class=\"node\">\n<title>140010052829392</title>\n<polygon fill=\"#d3d3d3\" stroke=\"#000000\" points=\"131,-614 30,-614 30,-595 131,-595 131,-614\"/>\n<text text-anchor=\"middle\" x=\"80.5\" y=\"-602\" font-family=\"monospace\" font-size=\"10.00\" fill=\"#000000\">AccumulateGrad</text>\n</g>\n<!-- 140010052829392&#45;&gt;140009681377488 -->\n<g id=\"edge9\" class=\"edge\">\n<title>140010052829392&#45;&gt;140009681377488</title>\n<path fill=\"none\" stroke=\"#000000\" d=\"M89.9638,-594.6525C98.7495,-585.5106 112.6612,-571.0349 127.4023,-555.6962\"/>\n<polygon fill=\"#000000\" stroke=\"#000000\" points=\"130.2809,-557.752 134.6866,-548.1166 125.2338,-552.9015 130.2809,-557.752\"/>\n</g>\n<!-- 140010071105040 -->\n<g id=\"node12\" class=\"node\">\n<title>140010071105040</title>\n<polygon fill=\"#add8e6\" stroke=\"#000000\" points=\"123,-735 22,-735 22,-705 123,-705 123,-735\"/>\n<text text-anchor=\"middle\" x=\"72.5\" y=\"-723\" font-family=\"monospace\" font-size=\"10.00\" fill=\"#000000\">encoder.4.bias</text>\n<text text-anchor=\"middle\" x=\"72.5\" y=\"-712\" font-family=\"monospace\" font-size=\"10.00\" fill=\"#000000\"> (64)</text>\n</g>\n<!-- 140010071105040&#45;&gt;140010052829392 -->\n<g id=\"edge10\" class=\"edge\">\n<title>140010071105040&#45;&gt;140010052829392</title>\n<path fill=\"none\" stroke=\"#000000\" d=\"M73.5459,-704.9004C74.9734,-684.2903 77.5351,-647.3051 79.1191,-624.4365\"/>\n<polygon fill=\"#000000\" stroke=\"#000000\" points=\"82.6286,-624.4194 79.828,-614.2014 75.6453,-623.9356 82.6286,-624.4194\"/>\n</g>\n<!-- 140009682813776 -->\n<g id=\"node13\" class=\"node\">\n<title>140009682813776</title>\n<polygon fill=\"#d3d3d3\" stroke=\"#000000\" points=\"628,-625 491,-625 491,-584 628,-584 628,-625\"/>\n<text text-anchor=\"middle\" x=\"559.5\" y=\"-613\" font-family=\"monospace\" font-size=\"10.00\" fill=\"#000000\">ReluBackward0</text>\n<text text-anchor=\"middle\" x=\"559.5\" y=\"-602\" font-family=\"monospace\" font-size=\"10.00\" fill=\"#000000\">&#45;&#45;&#45;&#45;&#45;&#45;&#45;&#45;&#45;&#45;&#45;&#45;&#45;&#45;&#45;&#45;&#45;&#45;&#45;&#45;</text>\n<text text-anchor=\"middle\" x=\"559.5\" y=\"-591\" font-family=\"monospace\" font-size=\"10.00\" fill=\"#000000\">self: [saved tensor]</text>\n</g>\n<!-- 140009682813776&#45;&gt;140009681377488 -->\n<g id=\"edge11\" class=\"edge\">\n<title>140009682813776&#45;&gt;140009681377488</title>\n<path fill=\"none\" stroke=\"#000000\" d=\"M494.133,-583.984C438.6345,-566.5653 358.0341,-541.2682 293.9657,-521.1597\"/>\n<polygon fill=\"#000000\" stroke=\"#000000\" points=\"294.8245,-517.761 284.2352,-518.1058 292.7282,-524.4398 294.8245,-517.761\"/>\n</g>\n<!-- 140010074982912 -->\n<g id=\"node14\" class=\"node\">\n<title>140010074982912</title>\n<polygon fill=\"#ffa500\" stroke=\"#000000\" points=\"598,-504 521,-504 521,-474 598,-474 598,-504\"/>\n<text text-anchor=\"middle\" x=\"559.5\" y=\"-492\" font-family=\"monospace\" font-size=\"10.00\" fill=\"#000000\">self</text>\n<text text-anchor=\"middle\" x=\"559.5\" y=\"-481\" font-family=\"monospace\" font-size=\"10.00\" fill=\"#000000\"> (128, 64)</text>\n</g>\n<!-- 140009682813776&#45;&gt;140010074982912 -->\n<g id=\"edge12\" class=\"edge\">\n<title>140009682813776&#45;&gt;140010074982912</title>\n<path fill=\"none\" stroke=\"#000000\" d=\"M559.5,-583.8509C559.5,-561.0109 559.5,-524.744 559.5,-504.3077\"/>\n</g>\n<!-- 140010071250384 -->\n<g id=\"node15\" class=\"node\">\n<title>140010071250384</title>\n<polygon fill=\"#d3d3d3\" stroke=\"#000000\" points=\"574,-779 389,-779 389,-661 574,-661 574,-779\"/>\n<text text-anchor=\"middle\" x=\"481.5\" y=\"-767\" font-family=\"monospace\" font-size=\"10.00\" fill=\"#000000\">AddmmBackward</text>\n<text text-anchor=\"middle\" x=\"481.5\" y=\"-756\" font-family=\"monospace\" font-size=\"10.00\" fill=\"#000000\">&#45;&#45;&#45;&#45;&#45;&#45;&#45;&#45;&#45;&#45;&#45;&#45;&#45;&#45;&#45;&#45;&#45;&#45;&#45;&#45;&#45;&#45;&#45;&#45;&#45;&#45;&#45;&#45;</text>\n<text text-anchor=\"middle\" x=\"481.5\" y=\"-745\" font-family=\"monospace\" font-size=\"10.00\" fill=\"#000000\">alpha &#160;&#160;&#160;&#160;&#160;&#160;: &#160;&#160;&#160;&#160;&#160;&#160;&#160;&#160;&#160;&#160;&#160;&#160;&#160;1</text>\n<text text-anchor=\"middle\" x=\"481.5\" y=\"-734\" font-family=\"monospace\" font-size=\"10.00\" fill=\"#000000\">beta &#160;&#160;&#160;&#160;&#160;&#160;&#160;: &#160;&#160;&#160;&#160;&#160;&#160;&#160;&#160;&#160;&#160;&#160;&#160;&#160;1</text>\n<text text-anchor=\"middle\" x=\"481.5\" y=\"-723\" font-family=\"monospace\" font-size=\"10.00\" fill=\"#000000\">mat1 &#160;&#160;&#160;&#160;&#160;&#160;&#160;: [saved tensor]</text>\n<text text-anchor=\"middle\" x=\"481.5\" y=\"-712\" font-family=\"monospace\" font-size=\"10.00\" fill=\"#000000\">mat1_sizes &#160;: &#160;&#160;&#160;&#160;(128, 400)</text>\n<text text-anchor=\"middle\" x=\"481.5\" y=\"-701\" font-family=\"monospace\" font-size=\"10.00\" fill=\"#000000\">mat1_strides: &#160;&#160;&#160;&#160;&#160;&#160;(400, 1)</text>\n<text text-anchor=\"middle\" x=\"481.5\" y=\"-690\" font-family=\"monospace\" font-size=\"10.00\" fill=\"#000000\">mat2 &#160;&#160;&#160;&#160;&#160;&#160;&#160;: [saved tensor]</text>\n<text text-anchor=\"middle\" x=\"481.5\" y=\"-679\" font-family=\"monospace\" font-size=\"10.00\" fill=\"#000000\">mat2_sizes &#160;: &#160;&#160;&#160;&#160;&#160;(400, 64)</text>\n<text text-anchor=\"middle\" x=\"481.5\" y=\"-668\" font-family=\"monospace\" font-size=\"10.00\" fill=\"#000000\">mat2_strides: &#160;&#160;&#160;&#160;&#160;&#160;(1, 400)</text>\n</g>\n<!-- 140010071250384&#45;&gt;140009682813776 -->\n<g id=\"edge13\" class=\"edge\">\n<title>140010071250384&#45;&gt;140009682813776</title>\n<path fill=\"none\" stroke=\"#000000\" d=\"M521.414,-660.8966C527.8679,-651.3399 534.2884,-641.8326 539.968,-633.4224\"/>\n<polygon fill=\"#000000\" stroke=\"#000000\" points=\"542.8928,-635.3452 545.5889,-625.0991 537.0917,-631.4276 542.8928,-635.3452\"/>\n</g>\n<!-- 140010071383568 -->\n<g id=\"node16\" class=\"node\">\n<title>140010071383568</title>\n<polygon fill=\"#ffa500\" stroke=\"#000000\" points=\"473,-619.5 390,-619.5 390,-589.5 473,-589.5 473,-619.5\"/>\n<text text-anchor=\"middle\" x=\"431.5\" y=\"-607.5\" font-family=\"monospace\" font-size=\"10.00\" fill=\"#000000\">mat1</text>\n<text text-anchor=\"middle\" x=\"431.5\" y=\"-596.5\" font-family=\"monospace\" font-size=\"10.00\" fill=\"#000000\"> (128, 400)</text>\n</g>\n<!-- 140010071250384&#45;&gt;140010071383568 -->\n<g id=\"edge14\" class=\"edge\">\n<title>140010071250384&#45;&gt;140010071383568</title>\n<path fill=\"none\" stroke=\"#000000\" d=\"M455.9141,-660.8966C449.2827,-645.5781 442.7064,-630.3867 438.0527,-619.6367\"/>\n</g>\n<!-- 140009683715008 -->\n<g id=\"node17\" class=\"node\">\n<title>140009683715008</title>\n<polygon fill=\"#ffa500\" stroke=\"#000000\" points=\"372,-619.5 295,-619.5 295,-589.5 372,-589.5 372,-619.5\"/>\n<text text-anchor=\"middle\" x=\"333.5\" y=\"-607.5\" font-family=\"monospace\" font-size=\"10.00\" fill=\"#000000\">mat2</text>\n<text text-anchor=\"middle\" x=\"333.5\" y=\"-596.5\" font-family=\"monospace\" font-size=\"10.00\" fill=\"#000000\"> (400, 64)</text>\n</g>\n<!-- 140010071250384&#45;&gt;140009683715008 -->\n<g id=\"edge15\" class=\"edge\">\n<title>140010071250384&#45;&gt;140009683715008</title>\n<path fill=\"none\" stroke=\"#000000\" d=\"M405.7658,-660.8966C386.1369,-645.5781 366.6708,-630.3867 352.8959,-619.6367\"/>\n</g>\n<!-- 140009684712080 -->\n<g id=\"node18\" class=\"node\">\n<title>140009684712080</title>\n<polygon fill=\"#d3d3d3\" stroke=\"#000000\" points=\"643,-845 542,-845 542,-826 643,-826 643,-845\"/>\n<text text-anchor=\"middle\" x=\"592.5\" y=\"-833\" font-family=\"monospace\" font-size=\"10.00\" fill=\"#000000\">AccumulateGrad</text>\n</g>\n<!-- 140009684712080&#45;&gt;140010071250384 -->\n<g id=\"edge16\" class=\"edge\">\n<title>140009684712080&#45;&gt;140010071250384</title>\n<path fill=\"none\" stroke=\"#000000\" d=\"M583.0362,-825.6525C574.2505,-816.5106 560.3388,-802.0349 545.5977,-786.6962\"/>\n<polygon fill=\"#000000\" stroke=\"#000000\" points=\"547.7662,-783.9015 538.3134,-779.1166 542.7191,-788.752 547.7662,-783.9015\"/>\n</g>\n<!-- 140010071103280 -->\n<g id=\"node19\" class=\"node\">\n<title>140010071103280</title>\n<polygon fill=\"#add8e6\" stroke=\"#000000\" points=\"647,-966 546,-966 546,-936 647,-936 647,-966\"/>\n<text text-anchor=\"middle\" x=\"596.5\" y=\"-954\" font-family=\"monospace\" font-size=\"10.00\" fill=\"#000000\">encoder.2.bias</text>\n<text text-anchor=\"middle\" x=\"596.5\" y=\"-943\" font-family=\"monospace\" font-size=\"10.00\" fill=\"#000000\"> (64)</text>\n</g>\n<!-- 140010071103280&#45;&gt;140009684712080 -->\n<g id=\"edge17\" class=\"edge\">\n<title>140010071103280&#45;&gt;140009684712080</title>\n<path fill=\"none\" stroke=\"#000000\" d=\"M595.9771,-935.9004C595.2633,-915.2903 593.9824,-878.3051 593.1904,-855.4365\"/>\n<polygon fill=\"#000000\" stroke=\"#000000\" points=\"596.6801,-855.0742 592.836,-845.2014 589.6843,-855.3166 596.6801,-855.0742\"/>\n</g>\n<!-- 140009684711696 -->\n<g id=\"node20\" class=\"node\">\n<title>140009684711696</title>\n<polygon fill=\"#d3d3d3\" stroke=\"#000000\" points=\"428,-856 291,-856 291,-815 428,-815 428,-856\"/>\n<text text-anchor=\"middle\" x=\"359.5\" y=\"-844\" font-family=\"monospace\" font-size=\"10.00\" fill=\"#000000\">ReluBackward0</text>\n<text text-anchor=\"middle\" x=\"359.5\" y=\"-833\" font-family=\"monospace\" font-size=\"10.00\" fill=\"#000000\">&#45;&#45;&#45;&#45;&#45;&#45;&#45;&#45;&#45;&#45;&#45;&#45;&#45;&#45;&#45;&#45;&#45;&#45;&#45;&#45;</text>\n<text text-anchor=\"middle\" x=\"359.5\" y=\"-822\" font-family=\"monospace\" font-size=\"10.00\" fill=\"#000000\">self: [saved tensor]</text>\n</g>\n<!-- 140009684711696&#45;&gt;140010071250384 -->\n<g id=\"edge18\" class=\"edge\">\n<title>140009684711696&#45;&gt;140010071250384</title>\n<path fill=\"none\" stroke=\"#000000\" d=\"M381.3112,-814.8509C390.0819,-806.5475 400.7271,-796.4694 411.7618,-786.0226\"/>\n<polygon fill=\"#000000\" stroke=\"#000000\" points=\"414.198,-788.5359 419.0537,-779.1193 409.3855,-783.4526 414.198,-788.5359\"/>\n</g>\n<!-- 140010071067376 -->\n<g id=\"node21\" class=\"node\">\n<title>140010071067376</title>\n<polygon fill=\"#ffa500\" stroke=\"#000000\" points=\"371,-735 288,-735 288,-705 371,-705 371,-735\"/>\n<text text-anchor=\"middle\" x=\"329.5\" y=\"-723\" font-family=\"monospace\" font-size=\"10.00\" fill=\"#000000\">self</text>\n<text text-anchor=\"middle\" x=\"329.5\" y=\"-712\" font-family=\"monospace\" font-size=\"10.00\" fill=\"#000000\"> (128, 400)</text>\n</g>\n<!-- 140009684711696&#45;&gt;140010071067376 -->\n<g id=\"edge19\" class=\"edge\">\n<title>140009684711696&#45;&gt;140010071067376</title>\n<path fill=\"none\" stroke=\"#000000\" d=\"M354.1366,-814.8509C348.2041,-792.0109 338.7842,-755.744 333.476,-735.3077\"/>\n</g>\n<!-- 140009721333072 -->\n<g id=\"node22\" class=\"node\">\n<title>140009721333072</title>\n<polygon fill=\"#d3d3d3\" stroke=\"#000000\" points=\"350,-1010 165,-1010 165,-892 350,-892 350,-1010\"/>\n<text text-anchor=\"middle\" x=\"257.5\" y=\"-998\" font-family=\"monospace\" font-size=\"10.00\" fill=\"#000000\">AddmmBackward</text>\n<text text-anchor=\"middle\" x=\"257.5\" y=\"-987\" font-family=\"monospace\" font-size=\"10.00\" fill=\"#000000\">&#45;&#45;&#45;&#45;&#45;&#45;&#45;&#45;&#45;&#45;&#45;&#45;&#45;&#45;&#45;&#45;&#45;&#45;&#45;&#45;&#45;&#45;&#45;&#45;&#45;&#45;&#45;&#45;</text>\n<text text-anchor=\"middle\" x=\"257.5\" y=\"-976\" font-family=\"monospace\" font-size=\"10.00\" fill=\"#000000\">alpha &#160;&#160;&#160;&#160;&#160;&#160;: &#160;&#160;&#160;&#160;&#160;&#160;&#160;&#160;&#160;&#160;&#160;&#160;&#160;1</text>\n<text text-anchor=\"middle\" x=\"257.5\" y=\"-965\" font-family=\"monospace\" font-size=\"10.00\" fill=\"#000000\">beta &#160;&#160;&#160;&#160;&#160;&#160;&#160;: &#160;&#160;&#160;&#160;&#160;&#160;&#160;&#160;&#160;&#160;&#160;&#160;&#160;1</text>\n<text text-anchor=\"middle\" x=\"257.5\" y=\"-954\" font-family=\"monospace\" font-size=\"10.00\" fill=\"#000000\">mat1 &#160;&#160;&#160;&#160;&#160;&#160;&#160;: [saved tensor]</text>\n<text text-anchor=\"middle\" x=\"257.5\" y=\"-943\" font-family=\"monospace\" font-size=\"10.00\" fill=\"#000000\">mat1_sizes &#160;: &#160;&#160;&#160;&#160;(128, 784)</text>\n<text text-anchor=\"middle\" x=\"257.5\" y=\"-932\" font-family=\"monospace\" font-size=\"10.00\" fill=\"#000000\">mat1_strides: &#160;&#160;&#160;&#160;&#160;&#160;&#160;&#160;&#160;&#160;&#160;&#160;()</text>\n<text text-anchor=\"middle\" x=\"257.5\" y=\"-921\" font-family=\"monospace\" font-size=\"10.00\" fill=\"#000000\">mat2 &#160;&#160;&#160;&#160;&#160;&#160;&#160;: &#160;&#160;&#160;&#160;&#160;&#160;&#160;&#160;&#160;&#160;None</text>\n<text text-anchor=\"middle\" x=\"257.5\" y=\"-910\" font-family=\"monospace\" font-size=\"10.00\" fill=\"#000000\">mat2_sizes &#160;: &#160;&#160;&#160;&#160;(784, 400)</text>\n<text text-anchor=\"middle\" x=\"257.5\" y=\"-899\" font-family=\"monospace\" font-size=\"10.00\" fill=\"#000000\">mat2_strides: &#160;&#160;&#160;&#160;&#160;&#160;(1, 784)</text>\n</g>\n<!-- 140009721333072&#45;&gt;140009684711696 -->\n<g id=\"edge20\" class=\"edge\">\n<title>140009721333072&#45;&gt;140009684711696</title>\n<path fill=\"none\" stroke=\"#000000\" d=\"M309.6952,-891.8966C318.4014,-882.0381 327.0612,-872.2322 334.6588,-863.629\"/>\n<polygon fill=\"#000000\" stroke=\"#000000\" points=\"337.3125,-865.9115 341.3086,-856.0991 332.0656,-861.2779 337.3125,-865.9115\"/>\n</g>\n<!-- 140010052902816 -->\n<g id=\"node23\" class=\"node\">\n<title>140010052902816</title>\n<polygon fill=\"#ffa500\" stroke=\"#000000\" points=\"273,-850.5 190,-850.5 190,-820.5 273,-820.5 273,-850.5\"/>\n<text text-anchor=\"middle\" x=\"231.5\" y=\"-838.5\" font-family=\"monospace\" font-size=\"10.00\" fill=\"#000000\">mat1</text>\n<text text-anchor=\"middle\" x=\"231.5\" y=\"-827.5\" font-family=\"monospace\" font-size=\"10.00\" fill=\"#000000\"> (128, 784)</text>\n</g>\n<!-- 140009721333072&#45;&gt;140010052902816 -->\n<g id=\"edge21\" class=\"edge\">\n<title>140009721333072&#45;&gt;140010052902816</title>\n<path fill=\"none\" stroke=\"#000000\" d=\"M244.1953,-891.8966C240.747,-876.5781 237.3273,-861.3867 234.9074,-850.6367\"/>\n</g>\n<!-- 140009721333136 -->\n<g id=\"node24\" class=\"node\">\n<title>140009721333136</title>\n<polygon fill=\"#d3d3d3\" stroke=\"#000000\" points=\"382,-1070.5 281,-1070.5 281,-1051.5 382,-1051.5 382,-1070.5\"/>\n<text text-anchor=\"middle\" x=\"331.5\" y=\"-1058.5\" font-family=\"monospace\" font-size=\"10.00\" fill=\"#000000\">AccumulateGrad</text>\n</g>\n<!-- 140009721333136&#45;&gt;140009721333072 -->\n<g id=\"edge22\" class=\"edge\">\n<title>140009721333136&#45;&gt;140009721333072</title>\n<path fill=\"none\" stroke=\"#000000\" d=\"M324.933,-1051.2382C319.623,-1043.345 311.6299,-1031.4634 302.9835,-1018.6107\"/>\n<polygon fill=\"#000000\" stroke=\"#000000\" points=\"305.7148,-1016.4001 297.2289,-1010.0565 299.9067,-1020.3074 305.7148,-1016.4001\"/>\n</g>\n<!-- 140010071103440 -->\n<g id=\"node25\" class=\"node\">\n<title>140010071103440</title>\n<polygon fill=\"#add8e6\" stroke=\"#000000\" points=\"386,-1142 285,-1142 285,-1112 386,-1112 386,-1142\"/>\n<text text-anchor=\"middle\" x=\"335.5\" y=\"-1130\" font-family=\"monospace\" font-size=\"10.00\" fill=\"#000000\">encoder.0.bias</text>\n<text text-anchor=\"middle\" x=\"335.5\" y=\"-1119\" font-family=\"monospace\" font-size=\"10.00\" fill=\"#000000\"> (400)</text>\n</g>\n<!-- 140010071103440&#45;&gt;140009721333136 -->\n<g id=\"edge23\" class=\"edge\">\n<title>140010071103440&#45;&gt;140009721333136</title>\n<path fill=\"none\" stroke=\"#000000\" d=\"M334.5723,-1111.6924C334.0156,-1102.5067 333.3015,-1090.7245 332.7019,-1080.8312\"/>\n<polygon fill=\"#000000\" stroke=\"#000000\" points=\"336.1867,-1080.473 332.0881,-1070.7031 329.1995,-1080.8965 336.1867,-1080.473\"/>\n</g>\n<!-- 140009721334736 -->\n<g id=\"node26\" class=\"node\">\n<title>140009721334736</title>\n<polygon fill=\"#d3d3d3\" stroke=\"#000000\" points=\"259,-1070.5 188,-1070.5 188,-1051.5 259,-1051.5 259,-1070.5\"/>\n<text text-anchor=\"middle\" x=\"223.5\" y=\"-1058.5\" font-family=\"monospace\" font-size=\"10.00\" fill=\"#000000\">TBackward</text>\n</g>\n<!-- 140009721334736&#45;&gt;140009721333072 -->\n<g id=\"edge24\" class=\"edge\">\n<title>140009721334736&#45;&gt;140009721333072</title>\n<path fill=\"none\" stroke=\"#000000\" d=\"M226.5173,-1051.2382C228.8873,-1043.5705 232.4206,-1032.1391 236.2624,-1019.7099\"/>\n<polygon fill=\"#000000\" stroke=\"#000000\" points=\"239.6369,-1020.6441 239.2462,-1010.0565 232.9491,-1018.5769 239.6369,-1020.6441\"/>\n</g>\n<!-- 140009721334416 -->\n<g id=\"node27\" class=\"node\">\n<title>140009721334416</title>\n<polygon fill=\"#d3d3d3\" stroke=\"#000000\" points=\"267,-1136.5 166,-1136.5 166,-1117.5 267,-1117.5 267,-1136.5\"/>\n<text text-anchor=\"middle\" x=\"216.5\" y=\"-1124.5\" font-family=\"monospace\" font-size=\"10.00\" fill=\"#000000\">AccumulateGrad</text>\n</g>\n<!-- 140009721334416&#45;&gt;140009721334736 -->\n<g id=\"edge25\" class=\"edge\">\n<title>140009721334416&#45;&gt;140009721334736</title>\n<path fill=\"none\" stroke=\"#000000\" d=\"M217.5329,-1117.2615C218.5462,-1107.7077 220.1207,-1092.8615 221.3981,-1080.8183\"/>\n<polygon fill=\"#000000\" stroke=\"#000000\" points=\"224.8886,-1081.0919 222.4629,-1070.7785 217.9276,-1080.3535 224.8886,-1081.0919\"/>\n</g>\n<!-- 140010071102640 -->\n<g id=\"node28\" class=\"node\">\n<title>140010071102640</title>\n<polygon fill=\"#add8e6\" stroke=\"#000000\" points=\"273,-1208 160,-1208 160,-1178 273,-1178 273,-1208\"/>\n<text text-anchor=\"middle\" x=\"216.5\" y=\"-1196\" font-family=\"monospace\" font-size=\"10.00\" fill=\"#000000\">encoder.0.weight</text>\n<text text-anchor=\"middle\" x=\"216.5\" y=\"-1185\" font-family=\"monospace\" font-size=\"10.00\" fill=\"#000000\"> (400, 784)</text>\n</g>\n<!-- 140010071102640&#45;&gt;140009721334416 -->\n<g id=\"edge26\" class=\"edge\">\n<title>140010071102640&#45;&gt;140009721334416</title>\n<path fill=\"none\" stroke=\"#000000\" d=\"M216.5,-1177.6924C216.5,-1168.5067 216.5,-1156.7245 216.5,-1146.8312\"/>\n<polygon fill=\"#000000\" stroke=\"#000000\" points=\"220.0001,-1146.703 216.5,-1136.7031 213.0001,-1146.7031 220.0001,-1146.703\"/>\n</g>\n<!-- 140009721335376 -->\n<g id=\"node29\" class=\"node\">\n<title>140009721335376</title>\n<polygon fill=\"#d3d3d3\" stroke=\"#000000\" points=\"517,-845 446,-845 446,-826 517,-826 517,-845\"/>\n<text text-anchor=\"middle\" x=\"481.5\" y=\"-833\" font-family=\"monospace\" font-size=\"10.00\" fill=\"#000000\">TBackward</text>\n</g>\n<!-- 140009721335376&#45;&gt;140010071250384 -->\n<g id=\"edge27\" class=\"edge\">\n<title>140009721335376&#45;&gt;140010071250384</title>\n<path fill=\"none\" stroke=\"#000000\" d=\"M481.5,-825.6525C481.5,-817.0093 481.5,-803.5982 481.5,-789.1978\"/>\n<polygon fill=\"#000000\" stroke=\"#000000\" points=\"485.0001,-789.1166 481.5,-779.1166 478.0001,-789.1167 485.0001,-789.1166\"/>\n</g>\n<!-- 140009721335184 -->\n<g id=\"node30\" class=\"node\">\n<title>140009721335184</title>\n<polygon fill=\"#d3d3d3\" stroke=\"#000000\" points=\"528,-960.5 427,-960.5 427,-941.5 528,-941.5 528,-960.5\"/>\n<text text-anchor=\"middle\" x=\"477.5\" y=\"-948.5\" font-family=\"monospace\" font-size=\"10.00\" fill=\"#000000\">AccumulateGrad</text>\n</g>\n<!-- 140009721335184&#45;&gt;140009721335376 -->\n<g id=\"edge28\" class=\"edge\">\n<title>140009721335184&#45;&gt;140009721335376</title>\n<path fill=\"none\" stroke=\"#000000\" d=\"M477.841,-941.1525C478.4964,-922.2295 479.9432,-880.453 480.8082,-855.4746\"/>\n<polygon fill=\"#000000\" stroke=\"#000000\" points=\"484.3115,-855.4377 481.1598,-845.3225 477.3157,-855.1954 484.3115,-855.4377\"/>\n</g>\n<!-- 140010071104400 -->\n<g id=\"node31\" class=\"node\">\n<title>140010071104400</title>\n<polygon fill=\"#add8e6\" stroke=\"#000000\" points=\"534,-1076 421,-1076 421,-1046 534,-1046 534,-1076\"/>\n<text text-anchor=\"middle\" x=\"477.5\" y=\"-1064\" font-family=\"monospace\" font-size=\"10.00\" fill=\"#000000\">encoder.2.weight</text>\n<text text-anchor=\"middle\" x=\"477.5\" y=\"-1053\" font-family=\"monospace\" font-size=\"10.00\" fill=\"#000000\"> (64, 400)</text>\n</g>\n<!-- 140010071104400&#45;&gt;140009721335184 -->\n<g id=\"edge29\" class=\"edge\">\n<title>140010071104400&#45;&gt;140009721335184</title>\n<path fill=\"none\" stroke=\"#000000\" d=\"M477.5,-1045.705C477.5,-1026.1894 477.5,-992.3931 477.5,-970.8934\"/>\n<polygon fill=\"#000000\" stroke=\"#000000\" points=\"481.0001,-970.6473 477.5,-960.6473 474.0001,-970.6474 481.0001,-970.6473\"/>\n</g>\n<!-- 140010071250128 -->\n<g id=\"node32\" class=\"node\">\n<title>140010071250128</title>\n<polygon fill=\"#d3d3d3\" stroke=\"#000000\" points=\"227,-614 156,-614 156,-595 227,-595 227,-614\"/>\n<text text-anchor=\"middle\" x=\"191.5\" y=\"-602\" font-family=\"monospace\" font-size=\"10.00\" fill=\"#000000\">TBackward</text>\n</g>\n<!-- 140010071250128&#45;&gt;140009681377488 -->\n<g id=\"edge30\" class=\"edge\">\n<title>140010071250128&#45;&gt;140009681377488</title>\n<path fill=\"none\" stroke=\"#000000\" d=\"M191.5,-594.6525C191.5,-586.0093 191.5,-572.5982 191.5,-558.1978\"/>\n<polygon fill=\"#000000\" stroke=\"#000000\" points=\"195.0001,-558.1166 191.5,-548.1166 188.0001,-558.1167 195.0001,-558.1166\"/>\n</g>\n<!-- 140009684710160 -->\n<g id=\"node33\" class=\"node\">\n<title>140009684710160</title>\n<polygon fill=\"#d3d3d3\" stroke=\"#000000\" points=\"242,-729.5 141,-729.5 141,-710.5 242,-710.5 242,-729.5\"/>\n<text text-anchor=\"middle\" x=\"191.5\" y=\"-717.5\" font-family=\"monospace\" font-size=\"10.00\" fill=\"#000000\">AccumulateGrad</text>\n</g>\n<!-- 140009684710160&#45;&gt;140010071250128 -->\n<g id=\"edge31\" class=\"edge\">\n<title>140009684710160&#45;&gt;140010071250128</title>\n<path fill=\"none\" stroke=\"#000000\" d=\"M191.5,-710.1525C191.5,-691.2295 191.5,-649.453 191.5,-624.4746\"/>\n<polygon fill=\"#000000\" stroke=\"#000000\" points=\"195.0001,-624.3225 191.5,-614.3225 188.0001,-624.3226 195.0001,-624.3225\"/>\n</g>\n<!-- 140010071102720 -->\n<g id=\"node34\" class=\"node\">\n<title>140010071102720</title>\n<polygon fill=\"#add8e6\" stroke=\"#000000\" points=\"172,-850.5 59,-850.5 59,-820.5 172,-820.5 172,-850.5\"/>\n<text text-anchor=\"middle\" x=\"115.5\" y=\"-838.5\" font-family=\"monospace\" font-size=\"10.00\" fill=\"#000000\">encoder.4.weight</text>\n<text text-anchor=\"middle\" x=\"115.5\" y=\"-827.5\" font-family=\"monospace\" font-size=\"10.00\" fill=\"#000000\"> (64, 64)</text>\n</g>\n<!-- 140010071102720&#45;&gt;140009684710160 -->\n<g id=\"edge32\" class=\"edge\">\n<title>140010071102720&#45;&gt;140009684710160</title>\n<path fill=\"none\" stroke=\"#000000\" d=\"M125.4357,-820.4004C139.3689,-799.2256 164.6755,-760.7662 179.5971,-738.0893\"/>\n<polygon fill=\"#000000\" stroke=\"#000000\" points=\"182.5433,-739.9791 185.1164,-729.7014 176.6957,-736.1313 182.5433,-739.9791\"/>\n</g>\n<!-- 140009720846800 -->\n<g id=\"node35\" class=\"node\">\n<title>140009720846800</title>\n<polygon fill=\"#d3d3d3\" stroke=\"#000000\" points=\"510,-295 367,-295 367,-243 510,-243 510,-295\"/>\n<text text-anchor=\"middle\" x=\"438.5\" y=\"-283\" font-family=\"monospace\" font-size=\"10.00\" fill=\"#000000\">MulBackward0</text>\n<text text-anchor=\"middle\" x=\"438.5\" y=\"-272\" font-family=\"monospace\" font-size=\"10.00\" fill=\"#000000\">&#45;&#45;&#45;&#45;&#45;&#45;&#45;&#45;&#45;&#45;&#45;&#45;&#45;&#45;&#45;&#45;&#45;&#45;&#45;&#45;&#45;</text>\n<text text-anchor=\"middle\" x=\"438.5\" y=\"-261\" font-family=\"monospace\" font-size=\"10.00\" fill=\"#000000\">other: [saved tensor]</text>\n<text text-anchor=\"middle\" x=\"438.5\" y=\"-250\" font-family=\"monospace\" font-size=\"10.00\" fill=\"#000000\">self : &#160;&#160;&#160;&#160;&#160;&#160;&#160;&#160;&#160;&#160;None</text>\n</g>\n<!-- 140009720846800&#45;&gt;140009681840208 -->\n<g id=\"edge33\" class=\"edge\">\n<title>140009720846800&#45;&gt;140009681840208</title>\n<path fill=\"none\" stroke=\"#000000\" d=\"M435.5079,-242.9719C432.3612,-217.5661 426.8452,-177.8953 419.5,-144 417.6427,-135.4291 415.2269,-126.2386 412.8378,-117.8127\"/>\n<polygon fill=\"#000000\" stroke=\"#000000\" points=\"416.1376,-116.6261 409.976,-108.0072 409.4179,-118.5873 416.1376,-116.6261\"/>\n</g>\n<!-- 140009682503792 -->\n<g id=\"node36\" class=\"node\">\n<title>140009682503792</title>\n<polygon fill=\"#ffa500\" stroke=\"#000000\" points=\"410.5,-190.5 356.5,-190.5 356.5,-160.5 410.5,-160.5 410.5,-190.5\"/>\n<text text-anchor=\"middle\" x=\"383.5\" y=\"-178.5\" font-family=\"monospace\" font-size=\"10.00\" fill=\"#000000\">other</text>\n<text text-anchor=\"middle\" x=\"383.5\" y=\"-167.5\" font-family=\"monospace\" font-size=\"10.00\" fill=\"#000000\"> ()</text>\n</g>\n<!-- 140009720846800&#45;&gt;140009682503792 -->\n<g id=\"edge34\" class=\"edge\">\n<title>140009720846800&#45;&gt;140009682503792</title>\n<path fill=\"none\" stroke=\"#000000\" d=\"M423.1794,-242.955C413.2624,-226.0961 400.6973,-204.7354 392.394,-190.6198\"/>\n</g>\n<!-- 140010052720528&#45;&gt;140009720846800 -->\n<g id=\"edge35\" class=\"edge\">\n<title>140010052720528&#45;&gt;140009720846800</title>\n<path fill=\"none\" stroke=\"#000000\" d=\"M396.1675,-330.8452C402.2133,-322.0126 408.8103,-312.3748 414.9585,-303.3926\"/>\n<polygon fill=\"#000000\" stroke=\"#000000\" points=\"417.9228,-305.2584 420.6831,-295.0294 412.1464,-301.3045 417.9228,-305.2584\"/>\n</g>\n<!-- 140009721281584 -->\n<g id=\"node38\" class=\"node\">\n<title>140009721281584</title>\n<polygon fill=\"#ffa500\" stroke=\"#000000\" points=\"254,-284 177,-284 177,-254 254,-254 254,-284\"/>\n<text text-anchor=\"middle\" x=\"215.5\" y=\"-272\" font-family=\"monospace\" font-size=\"10.00\" fill=\"#000000\">self</text>\n<text text-anchor=\"middle\" x=\"215.5\" y=\"-261\" font-family=\"monospace\" font-size=\"10.00\" fill=\"#000000\"> (128, 64)</text>\n</g>\n<!-- 140010052720528&#45;&gt;140009721281584 -->\n<g id=\"edge36\" class=\"edge\">\n<title>140010052720528&#45;&gt;140009721281584</title>\n<path fill=\"none\" stroke=\"#000000\" d=\"M320.6699,-330.8452C293.8224,-315.0575 262.5997,-296.697 241.1896,-284.1068\"/>\n</g>\n<!-- 140009721282224 -->\n<g id=\"node39\" class=\"node\">\n<title>140009721282224</title>\n<polygon fill=\"#ffa500\" stroke=\"#000000\" points=\"349,-284 272,-284 272,-254 349,-254 349,-284\"/>\n<text text-anchor=\"middle\" x=\"310.5\" y=\"-272\" font-family=\"monospace\" font-size=\"10.00\" fill=\"#000000\">target</text>\n<text text-anchor=\"middle\" x=\"310.5\" y=\"-261\" font-family=\"monospace\" font-size=\"10.00\" fill=\"#000000\"> (128, 64)</text>\n</g>\n<!-- 140010052720528&#45;&gt;140009721282224 -->\n<g id=\"edge37\" class=\"edge\">\n<title>140010052720528&#45;&gt;140009721282224</title>\n<path fill=\"none\" stroke=\"#000000\" d=\"M352.8325,-330.8452C342.026,-315.0575 329.4584,-296.697 320.8405,-284.1068\"/>\n</g>\n</g>\n</svg>\n",
            "text/plain": [
              "<graphviz.dot.Digraph at 0x7f56a1781890>"
            ]
          },
          "execution_count": 149,
          "metadata": {},
          "output_type": "execute_result"
        }
      ],
      "source": [
        "from torchviz import make_dot, make_dot_from_trace\n",
        "model.eval()\n",
        "# with torch.no_grad():\n",
        "for batch, (X, y) in enumerate(train_dataloader):\n",
        "    X, y = X.to(device), y.to(device)\n",
        "    x, pred, loss = model(X)\n",
        "    print(pred)\n",
        "    break\n",
        "make_dot(loss, params=dict(model.named_parameters()), show_attrs=True, show_saved=True)\n"
      ]
    },
    {
      "cell_type": "code",
      "execution_count": null,
      "metadata": {
        "colab": {
          "base_uri": "https://localhost:8080/",
          "height": 1000
        },
        "id": "SxqyxNgVI3yP",
        "outputId": "ca2674af-24fc-4ede-f710-dd1df439db2f"
      },
      "outputs": [
        {
          "name": "stdout",
          "output_type": "stream",
          "text": [
            "tensor([[[[0.0000, 0.0000, 0.0000,  ..., 0.0000, 0.0000, 0.0000],\n",
            "          [0.0000, 0.0000, 0.0000,  ..., 0.0000, 0.0000, 0.0000],\n",
            "          [0.0000, 0.0000, 0.0000,  ..., 0.0000, 0.0000, 0.0000],\n",
            "          ...,\n",
            "          [0.0000, 0.0000, 0.0000,  ..., 0.0000, 0.0000, 0.0000],\n",
            "          [0.0000, 0.0000, 0.0000,  ..., 0.0000, 0.0000, 0.0000],\n",
            "          [0.0000, 0.0000, 0.0000,  ..., 0.0000, 0.0000, 0.0000]]],\n",
            "\n",
            "\n",
            "        [[[0.0000, 0.0000, 0.0000,  ..., 0.0000, 0.0000, 0.0000],\n",
            "          [0.0000, 0.0000, 0.0000,  ..., 0.0000, 0.0000, 0.0000],\n",
            "          [0.0000, 0.0000, 0.0000,  ..., 0.0000, 0.0000, 0.0000],\n",
            "          ...,\n",
            "          [0.0000, 0.0000, 0.0000,  ..., 0.0000, 0.0000, 0.0000],\n",
            "          [0.0000, 0.0000, 0.0000,  ..., 0.0000, 0.0000, 0.0000],\n",
            "          [0.0000, 0.0000, 0.0000,  ..., 0.0000, 0.0000, 0.0000]]],\n",
            "\n",
            "\n",
            "        [[[0.0000, 0.0000, 0.0000,  ..., 0.0000, 0.0000, 0.0000],\n",
            "          [0.0000, 0.0000, 0.0000,  ..., 0.0000, 0.0000, 0.0000],\n",
            "          [0.0000, 0.0000, 0.0000,  ..., 0.0000, 0.0000, 0.0000],\n",
            "          ...,\n",
            "          [0.0000, 0.0000, 0.0000,  ..., 0.0000, 0.0000, 0.0000],\n",
            "          [0.0000, 0.0000, 0.0000,  ..., 0.0000, 0.0000, 0.0000],\n",
            "          [0.0000, 0.0000, 0.0000,  ..., 0.0000, 0.0000, 0.0000]]],\n",
            "\n",
            "\n",
            "        ...,\n",
            "\n",
            "\n",
            "        [[[0.0000, 0.0000, 0.0000,  ..., 0.0000, 0.0000, 0.0000],\n",
            "          [0.0000, 0.0000, 0.0000,  ..., 0.0000, 0.0000, 0.0000],\n",
            "          [0.0000, 0.0000, 0.0000,  ..., 0.0000, 0.0000, 0.0000],\n",
            "          ...,\n",
            "          [0.0000, 0.0000, 0.0000,  ..., 0.0000, 0.0000, 0.0000],\n",
            "          [0.0000, 0.0000, 0.0000,  ..., 0.0000, 0.0000, 0.0000],\n",
            "          [0.0000, 0.0000, 0.0000,  ..., 0.0000, 0.0000, 0.0000]]],\n",
            "\n",
            "\n",
            "        [[[0.0000, 0.0000, 0.0000,  ..., 0.0000, 0.0000, 0.0000],\n",
            "          [0.0000, 0.0000, 0.0000,  ..., 0.0000, 0.0000, 0.0000],\n",
            "          [0.0000, 0.0000, 0.0000,  ..., 0.0000, 0.0000, 0.0000],\n",
            "          ...,\n",
            "          [0.0078, 0.0000, 0.0000,  ..., 0.7216, 0.5922, 0.0000],\n",
            "          [0.0039, 0.0000, 0.0000,  ..., 0.0431, 0.0000, 0.0000],\n",
            "          [0.0000, 0.0039, 0.0000,  ..., 0.0000, 0.0431, 0.0000]]],\n",
            "\n",
            "\n",
            "        [[[0.0000, 0.0000, 0.0000,  ..., 0.0000, 0.0000, 0.0000],\n",
            "          [0.0000, 0.0000, 0.0000,  ..., 0.0000, 0.0000, 0.0000],\n",
            "          [0.0000, 0.0000, 0.0000,  ..., 0.0000, 0.0000, 0.0000],\n",
            "          ...,\n",
            "          [0.0000, 0.0000, 0.0000,  ..., 0.0000, 0.0000, 0.0000],\n",
            "          [0.0000, 0.0000, 0.0000,  ..., 0.0000, 0.0000, 0.0000],\n",
            "          [0.0000, 0.0000, 0.0000,  ..., 0.0000, 0.0000, 0.0000]]]])\n",
            "tensor([[0., 0., 0.,  ..., 0., 0., 0.],\n",
            "        [0., 0., 0.,  ..., 0., 0., 0.],\n",
            "        [0., 0., 0.,  ..., 0., 0., 0.],\n",
            "        ...,\n",
            "        [0., 0., 0.,  ..., 0., 0., 0.],\n",
            "        [0., 0., 0.,  ..., 0., 0., 0.],\n",
            "        [0., 0., 0.,  ..., 0., 0., 0.]])\n",
            "tensor([[[[0., 0., 0.,  ..., 0., 0., 0.],\n",
            "          [0., 0., 0.,  ..., 0., 0., 0.],\n",
            "          [0., 0., 0.,  ..., 0., 0., 0.],\n",
            "          ...,\n",
            "          [0., 0., 0.,  ..., 0., 0., 0.],\n",
            "          [0., 0., 0.,  ..., 0., 0., 0.],\n",
            "          [0., 0., 0.,  ..., 0., 0., 0.]]],\n",
            "\n",
            "\n",
            "        [[[0., 0., 0.,  ..., 0., 0., 0.],\n",
            "          [0., 0., 0.,  ..., 0., 0., 0.],\n",
            "          [0., 0., 0.,  ..., 0., 0., 0.],\n",
            "          ...,\n",
            "          [0., 0., 0.,  ..., 0., 0., 0.],\n",
            "          [0., 0., 0.,  ..., 0., 0., 0.],\n",
            "          [0., 0., 0.,  ..., 0., 0., 0.]]],\n",
            "\n",
            "\n",
            "        [[[0., 0., 0.,  ..., 0., 0., 0.],\n",
            "          [0., 0., 0.,  ..., 0., 0., 0.],\n",
            "          [0., 0., 0.,  ..., 0., 0., 0.],\n",
            "          ...,\n",
            "          [0., 0., 0.,  ..., 0., 0., 0.],\n",
            "          [0., 0., 0.,  ..., 0., 0., 0.],\n",
            "          [0., 0., 0.,  ..., 0., 0., 0.]]],\n",
            "\n",
            "\n",
            "        ...,\n",
            "\n",
            "\n",
            "        [[[0., 0., 0.,  ..., 0., 0., 0.],\n",
            "          [0., 0., 0.,  ..., 0., 0., 0.],\n",
            "          [0., 0., 0.,  ..., 0., 0., 0.],\n",
            "          ...,\n",
            "          [0., 0., 0.,  ..., 0., 0., 0.],\n",
            "          [0., 0., 0.,  ..., 0., 0., 0.],\n",
            "          [0., 0., 0.,  ..., 0., 0., 0.]]],\n",
            "\n",
            "\n",
            "        [[[0., 0., 0.,  ..., 0., 0., 0.],\n",
            "          [0., 0., 0.,  ..., 0., 0., 0.],\n",
            "          [0., 0., 0.,  ..., 0., 0., 0.],\n",
            "          ...,\n",
            "          [0., 0., 0.,  ..., 0., 0., 0.],\n",
            "          [0., 0., 0.,  ..., 0., 0., 0.],\n",
            "          [0., 0., 0.,  ..., 0., 0., 0.]]],\n",
            "\n",
            "\n",
            "        [[[0., 0., 0.,  ..., 0., 0., 0.],\n",
            "          [0., 0., 0.,  ..., 0., 0., 0.],\n",
            "          [0., 0., 0.,  ..., 0., 0., 0.],\n",
            "          ...,\n",
            "          [0., 0., 0.,  ..., 0., 0., 0.],\n",
            "          [0., 0., 0.,  ..., 0., 0., 0.],\n",
            "          [0., 0., 0.,  ..., 0., 0., 0.]]]])\n",
            "tensor([[0., 0., 0.,  ..., 0., 0., 0.],\n",
            "        [0., 0., 0.,  ..., 0., 0., 0.],\n",
            "        [0., 0., 0.,  ..., 0., 0., 0.],\n",
            "        ...,\n",
            "        [0., 0., 0.,  ..., 0., 0., 0.],\n",
            "        [0., 0., 0.,  ..., 0., 0., 0.],\n",
            "        [0., 0., 0.,  ..., 0., 0., 0.]])\n",
            "tensor([[[[0.0000, 0.0000, 0.0000,  ..., 0.0000, 0.0000, 0.0000],\n",
            "          [0.0000, 0.0000, 0.0000,  ..., 0.0000, 0.0000, 0.0000],\n",
            "          [0.0000, 0.0000, 0.0000,  ..., 0.0000, 0.0000, 0.0000],\n",
            "          ...,\n",
            "          [0.0000, 0.0000, 0.0000,  ..., 0.0000, 0.0000, 0.0000],\n",
            "          [0.0000, 0.0000, 0.0000,  ..., 0.0000, 0.0000, 0.0000],\n",
            "          [0.0000, 0.0000, 0.0000,  ..., 0.0000, 0.0000, 0.0000]]],\n",
            "\n",
            "\n",
            "        [[[0.0000, 0.0000, 0.0000,  ..., 0.0000, 0.0000, 0.0000],\n",
            "          [0.0000, 0.0000, 0.0000,  ..., 0.0000, 0.0000, 0.0000],\n",
            "          [0.0000, 0.0000, 0.0000,  ..., 0.0000, 0.0000, 0.0000],\n",
            "          ...,\n",
            "          [0.0000, 0.0000, 0.0000,  ..., 0.0000, 0.0000, 0.0000],\n",
            "          [0.0000, 0.0000, 0.0000,  ..., 0.0000, 0.0000, 0.0000],\n",
            "          [0.0000, 0.0000, 0.0000,  ..., 0.0000, 0.0000, 0.0000]]],\n",
            "\n",
            "\n",
            "        [[[0.0000, 0.0000, 0.0000,  ..., 0.0000, 0.0000, 0.0000],\n",
            "          [0.0000, 0.0000, 0.0000,  ..., 0.0000, 0.0000, 0.0000],\n",
            "          [0.0000, 0.0000, 0.0000,  ..., 0.0000, 0.0000, 0.0000],\n",
            "          ...,\n",
            "          [0.0000, 0.0000, 0.0000,  ..., 0.0000, 0.0000, 0.0000],\n",
            "          [0.0000, 0.0000, 0.0000,  ..., 0.0000, 0.0000, 0.0000],\n",
            "          [0.0000, 0.0000, 0.0000,  ..., 0.0000, 0.0000, 0.0000]]],\n",
            "\n",
            "\n",
            "        ...,\n",
            "\n",
            "\n",
            "        [[[0.0000, 0.0157, 0.0039,  ..., 0.0039, 0.0000, 0.0000],\n",
            "          [0.0000, 0.0039, 0.0000,  ..., 0.0000, 0.0000, 0.0000],\n",
            "          [0.0000, 0.0000, 0.0039,  ..., 0.0000, 0.0000, 0.0000],\n",
            "          ...,\n",
            "          [0.0000, 0.0000, 0.0000,  ..., 0.0000, 0.0000, 0.0000],\n",
            "          [0.0000, 0.0000, 0.0000,  ..., 0.0000, 0.0000, 0.0000],\n",
            "          [0.0000, 0.0000, 0.0000,  ..., 0.0000, 0.0000, 0.0000]]],\n",
            "\n",
            "\n",
            "        [[[0.0000, 0.0000, 0.0000,  ..., 0.0000, 0.0000, 0.0000],\n",
            "          [0.0000, 0.0000, 0.0000,  ..., 0.0000, 0.0000, 0.0000],\n",
            "          [0.0000, 0.0000, 0.0000,  ..., 0.0000, 0.0000, 0.0000],\n",
            "          ...,\n",
            "          [0.0000, 0.0000, 0.0000,  ..., 0.0000, 0.0000, 0.0000],\n",
            "          [0.0000, 0.0000, 0.0000,  ..., 0.0000, 0.0000, 0.0000],\n",
            "          [0.0000, 0.0000, 0.0000,  ..., 0.0000, 0.0000, 0.0000]]],\n",
            "\n",
            "\n",
            "        [[[0.0000, 0.0000, 0.0000,  ..., 0.0000, 0.0000, 0.0000],\n",
            "          [0.0000, 0.0000, 0.0000,  ..., 0.0000, 0.0000, 0.0000],\n",
            "          [0.0000, 0.0000, 0.0000,  ..., 0.0000, 0.0000, 0.0000],\n",
            "          ...,\n",
            "          [0.0000, 0.0000, 0.0000,  ..., 0.0000, 0.0000, 0.0000],\n",
            "          [0.0000, 0.0000, 0.0000,  ..., 0.0000, 0.0000, 0.0000],\n",
            "          [0.0000, 0.0000, 0.0000,  ..., 0.0000, 0.0000, 0.0000]]]])\n",
            "tensor([[0., 0., 0.,  ..., 0., 0., 0.],\n",
            "        [0., 0., 0.,  ..., 0., 0., 0.],\n",
            "        [0., 0., 0.,  ..., 0., 0., 0.],\n",
            "        ...,\n",
            "        [0., 0., 0.,  ..., 0., 0., 0.],\n",
            "        [0., 0., 0.,  ..., 0., 0., 0.],\n",
            "        [0., 0., 0.,  ..., 0., 0., 0.]])\n",
            "tensor([[[[0.0000, 0.0000, 0.0000,  ..., 0.0000, 0.0039, 0.0000],\n",
            "          [0.0000, 0.0000, 0.0000,  ..., 0.0039, 0.0000, 0.0000],\n",
            "          [0.0000, 0.0000, 0.0000,  ..., 0.0000, 0.0000, 0.0000],\n",
            "          ...,\n",
            "          [0.0000, 0.0000, 0.0000,  ..., 0.7843, 0.3686, 0.0000],\n",
            "          [0.0000, 0.0000, 0.0000,  ..., 0.7961, 0.3843, 0.0000],\n",
            "          [0.0000, 0.0000, 0.0000,  ..., 0.3137, 0.0588, 0.0000]]],\n",
            "\n",
            "\n",
            "        [[[0.0000, 0.0000, 0.0000,  ..., 0.0000, 0.0000, 0.0000],\n",
            "          [0.0000, 0.0000, 0.0000,  ..., 0.0000, 0.0000, 0.0000],\n",
            "          [0.0000, 0.0000, 0.0000,  ..., 0.0000, 0.0000, 0.0000],\n",
            "          ...,\n",
            "          [0.0000, 0.0000, 0.0000,  ..., 0.0000, 0.0000, 0.0000],\n",
            "          [0.0000, 0.0000, 0.0000,  ..., 0.0000, 0.0000, 0.0000],\n",
            "          [0.0000, 0.0000, 0.0000,  ..., 0.0000, 0.0000, 0.0000]]],\n",
            "\n",
            "\n",
            "        [[[0.0000, 0.0000, 0.0000,  ..., 0.0000, 0.0000, 0.0000],\n",
            "          [0.0000, 0.0000, 0.0000,  ..., 0.0000, 0.0000, 0.0000],\n",
            "          [0.0000, 0.0000, 0.0000,  ..., 0.0000, 0.0000, 0.0000],\n",
            "          ...,\n",
            "          [0.0000, 0.0000, 0.0000,  ..., 0.0000, 0.0000, 0.0000],\n",
            "          [0.0000, 0.0000, 0.0000,  ..., 0.0000, 0.0000, 0.0000],\n",
            "          [0.0000, 0.0000, 0.0000,  ..., 0.0000, 0.0000, 0.0000]]],\n",
            "\n",
            "\n",
            "        ...,\n",
            "\n",
            "\n",
            "        [[[0.0000, 0.0000, 0.0000,  ..., 0.0000, 0.0000, 0.0000],\n",
            "          [0.0000, 0.0000, 0.0000,  ..., 0.0000, 0.0000, 0.0000],\n",
            "          [0.0000, 0.0000, 0.0039,  ..., 0.0039, 0.0000, 0.0000],\n",
            "          ...,\n",
            "          [0.0000, 0.0000, 0.4235,  ..., 0.2980, 0.0000, 0.0000],\n",
            "          [0.0000, 0.0000, 0.3490,  ..., 0.2353, 0.0000, 0.0000],\n",
            "          [0.0000, 0.0000, 0.0824,  ..., 0.0588, 0.0000, 0.0000]]],\n",
            "\n",
            "\n",
            "        [[[0.0000, 0.0000, 0.0000,  ..., 0.0000, 0.0000, 0.0000],\n",
            "          [0.0000, 0.0000, 0.0000,  ..., 0.0000, 0.0000, 0.0000],\n",
            "          [0.0000, 0.0000, 0.0000,  ..., 0.0000, 0.0000, 0.0000],\n",
            "          ...,\n",
            "          [0.0000, 0.0000, 0.0000,  ..., 0.0000, 0.0000, 0.0000],\n",
            "          [0.0000, 0.0000, 0.0000,  ..., 0.0000, 0.0000, 0.0000],\n",
            "          [0.0000, 0.0000, 0.0000,  ..., 0.0000, 0.0000, 0.0000]]],\n",
            "\n",
            "\n",
            "        [[[0.0000, 0.0000, 0.0000,  ..., 0.0000, 0.0000, 0.0000],\n",
            "          [0.0000, 0.0000, 0.0000,  ..., 0.0000, 0.0000, 0.0000],\n",
            "          [0.0000, 0.0000, 0.0000,  ..., 0.0000, 0.0000, 0.0000],\n",
            "          ...,\n",
            "          [0.0000, 0.0000, 0.0000,  ..., 0.0000, 0.0000, 0.0000],\n",
            "          [0.0000, 0.0000, 0.0000,  ..., 0.0000, 0.0000, 0.0000],\n",
            "          [0.0000, 0.0000, 0.0000,  ..., 0.0000, 0.0000, 0.0000]]]])\n",
            "tensor([[0., 0., 0.,  ..., 0., 0., 0.],\n",
            "        [0., 0., 0.,  ..., 0., 0., 0.],\n",
            "        [0., 0., 0.,  ..., 0., 0., 0.],\n",
            "        ...,\n",
            "        [0., 0., 0.,  ..., 0., 0., 0.],\n",
            "        [0., 0., 0.,  ..., 0., 0., 0.],\n",
            "        [0., 0., 0.,  ..., 0., 0., 0.]])\n",
            "tensor([[[[0.0000, 0.0000, 0.0000,  ..., 0.0000, 0.0000, 0.0000],\n",
            "          [0.0000, 0.0000, 0.0000,  ..., 0.0000, 0.0000, 0.0000],\n",
            "          [0.0000, 0.0000, 0.0000,  ..., 0.0039, 0.0000, 0.0000],\n",
            "          ...,\n",
            "          [0.0000, 0.0000, 0.0000,  ..., 0.0000, 0.0000, 0.0000],\n",
            "          [0.0000, 0.0000, 0.0000,  ..., 0.0000, 0.0000, 0.0000],\n",
            "          [0.0000, 0.0000, 0.0000,  ..., 0.0000, 0.0000, 0.0000]]],\n",
            "\n",
            "\n",
            "        [[[0.0000, 0.0000, 0.0000,  ..., 0.0000, 0.0000, 0.0000],\n",
            "          [0.0000, 0.0000, 0.0000,  ..., 0.0000, 0.0000, 0.0000],\n",
            "          [0.0000, 0.0000, 0.0000,  ..., 0.0000, 0.0000, 0.0000],\n",
            "          ...,\n",
            "          [0.0000, 0.0000, 0.0000,  ..., 0.0000, 0.0000, 0.0000],\n",
            "          [0.0000, 0.0000, 0.0000,  ..., 0.0000, 0.0000, 0.0000],\n",
            "          [0.0000, 0.0000, 0.0000,  ..., 0.0000, 0.0000, 0.0000]]],\n",
            "\n",
            "\n",
            "        [[[0.0000, 0.0000, 0.0000,  ..., 0.0000, 0.0000, 0.0000],\n",
            "          [0.0000, 0.0000, 0.0000,  ..., 0.0000, 0.0000, 0.0000],\n",
            "          [0.0000, 0.0000, 0.0000,  ..., 0.0000, 0.0000, 0.0000],\n",
            "          ...,\n",
            "          [0.0000, 0.0000, 0.0000,  ..., 0.0000, 0.0000, 0.0000],\n",
            "          [0.0000, 0.0000, 0.0000,  ..., 0.0000, 0.0000, 0.0000],\n",
            "          [0.0000, 0.0000, 0.0000,  ..., 0.0000, 0.0000, 0.0000]]],\n",
            "\n",
            "\n",
            "        ...,\n",
            "\n",
            "\n",
            "        [[[0.0000, 0.0000, 0.0000,  ..., 0.0000, 0.0000, 0.0000],\n",
            "          [0.0000, 0.0000, 0.0000,  ..., 0.0000, 0.0000, 0.0000],\n",
            "          [0.0000, 0.0000, 0.0000,  ..., 0.0000, 0.0000, 0.0000],\n",
            "          ...,\n",
            "          [0.0000, 0.0000, 0.0000,  ..., 0.0000, 0.0000, 0.0000],\n",
            "          [0.0000, 0.0000, 0.0000,  ..., 0.0000, 0.0000, 0.0000],\n",
            "          [0.0000, 0.0000, 0.0000,  ..., 0.0000, 0.0000, 0.0000]]],\n",
            "\n",
            "\n",
            "        [[[0.0000, 0.0000, 0.0000,  ..., 0.0000, 0.0000, 0.0000],\n",
            "          [0.0000, 0.0000, 0.0000,  ..., 0.0000, 0.0000, 0.0000],\n",
            "          [0.0000, 0.0000, 0.0000,  ..., 0.0000, 0.0000, 0.0000],\n",
            "          ...,\n",
            "          [0.0000, 0.0000, 0.0000,  ..., 0.0000, 0.0000, 0.0000],\n",
            "          [0.0000, 0.0000, 0.0000,  ..., 0.0000, 0.0000, 0.0000],\n",
            "          [0.0000, 0.0000, 0.0000,  ..., 0.0000, 0.0000, 0.0000]]],\n",
            "\n",
            "\n",
            "        [[[0.0000, 0.0000, 0.0118,  ..., 0.0000, 0.0000, 0.0000],\n",
            "          [0.0000, 0.0000, 0.0000,  ..., 0.0000, 0.0000, 0.0000],\n",
            "          [0.0000, 0.0000, 0.0000,  ..., 0.0000, 0.0000, 0.0000],\n",
            "          ...,\n",
            "          [0.0000, 0.0000, 0.6784,  ..., 0.7765, 0.4941, 0.0000],\n",
            "          [0.0000, 0.0000, 0.5059,  ..., 0.8118, 0.4902, 0.0000],\n",
            "          [0.0000, 0.0000, 0.1686,  ..., 0.6706, 0.2706, 0.0000]]]])\n",
            "tensor([[0., 0., 0.,  ..., 0., 0., 0.],\n",
            "        [0., 0., 0.,  ..., 0., 0., 0.],\n",
            "        [0., 0., 0.,  ..., 0., 0., 0.],\n",
            "        ...,\n",
            "        [0., 0., 0.,  ..., 0., 0., 0.],\n",
            "        [0., 0., 0.,  ..., 0., 0., 0.],\n",
            "        [0., 0., 0.,  ..., 0., 0., 0.]])\n",
            "tensor([[[[0.0000, 0.0000, 0.0000,  ..., 0.0000, 0.0000, 0.0000],\n",
            "          [0.0000, 0.0000, 0.0000,  ..., 0.0000, 0.0000, 0.0000],\n",
            "          [0.0000, 0.0000, 0.0000,  ..., 0.0000, 0.0000, 0.0000],\n",
            "          ...,\n",
            "          [0.0000, 0.0000, 0.0000,  ..., 0.0000, 0.0000, 0.0000],\n",
            "          [0.0000, 0.0000, 0.0000,  ..., 0.0000, 0.0000, 0.0000],\n",
            "          [0.0000, 0.0000, 0.0000,  ..., 0.0000, 0.0000, 0.0000]]],\n",
            "\n",
            "\n",
            "        [[[0.0000, 0.0000, 0.0000,  ..., 0.0000, 0.0000, 0.0000],\n",
            "          [0.0000, 0.0000, 0.0000,  ..., 0.0000, 0.0000, 0.0000],\n",
            "          [0.0000, 0.0000, 0.0000,  ..., 0.0000, 0.0000, 0.0000],\n",
            "          ...,\n",
            "          [0.0000, 0.0000, 0.0000,  ..., 0.0000, 0.0000, 0.0000],\n",
            "          [0.0000, 0.0000, 0.0000,  ..., 0.0000, 0.0000, 0.0000],\n",
            "          [0.0000, 0.0000, 0.0000,  ..., 0.0000, 0.0000, 0.0000]]],\n",
            "\n",
            "\n",
            "        [[[0.0000, 0.0000, 0.0000,  ..., 0.0000, 0.0000, 0.0000],\n",
            "          [0.0000, 0.0000, 0.0000,  ..., 0.0000, 0.0000, 0.0000],\n",
            "          [0.0000, 0.0000, 0.0000,  ..., 0.0000, 0.0000, 0.0000],\n",
            "          ...,\n",
            "          [0.0000, 0.0000, 0.6667,  ..., 0.7216, 0.8471, 0.4118],\n",
            "          [0.0000, 0.0000, 0.6902,  ..., 0.8902, 0.7490, 0.0000],\n",
            "          [0.0000, 0.0000, 0.1216,  ..., 0.0000, 0.0000, 0.0000]]],\n",
            "\n",
            "\n",
            "        ...,\n",
            "\n",
            "\n",
            "        [[[0.0000, 0.0000, 0.0000,  ..., 0.0000, 0.0000, 0.0000],\n",
            "          [0.0000, 0.0000, 0.0000,  ..., 0.0000, 0.0000, 0.0000],\n",
            "          [0.0000, 0.0000, 0.0000,  ..., 0.0000, 0.0000, 0.0000],\n",
            "          ...,\n",
            "          [0.0000, 0.0000, 0.0000,  ..., 0.0000, 0.0000, 0.0000],\n",
            "          [0.0000, 0.0000, 0.0000,  ..., 0.0000, 0.0000, 0.0000],\n",
            "          [0.0000, 0.0000, 0.0000,  ..., 0.0000, 0.0000, 0.0000]]],\n",
            "\n",
            "\n",
            "        [[[0.0000, 0.0000, 0.0000,  ..., 0.0000, 0.0000, 0.0000],\n",
            "          [0.0000, 0.0000, 0.0000,  ..., 0.0000, 0.0000, 0.0000],\n",
            "          [0.0000, 0.0000, 0.0000,  ..., 0.0000, 0.0000, 0.0000],\n",
            "          ...,\n",
            "          [0.0000, 0.0000, 0.0000,  ..., 0.0000, 0.0000, 0.0000],\n",
            "          [0.0000, 0.0000, 0.0000,  ..., 0.0000, 0.0000, 0.0000],\n",
            "          [0.0000, 0.0000, 0.0000,  ..., 0.0000, 0.0000, 0.0000]]],\n",
            "\n",
            "\n",
            "        [[[0.0000, 0.0000, 0.0000,  ..., 0.0000, 0.0000, 0.0000],\n",
            "          [0.0000, 0.0000, 0.0000,  ..., 0.0000, 0.0000, 0.0000],\n",
            "          [0.0000, 0.0000, 0.0000,  ..., 0.0000, 0.0000, 0.0000],\n",
            "          ...,\n",
            "          [0.0000, 0.0000, 0.0000,  ..., 0.0000, 0.0000, 0.0000],\n",
            "          [0.0000, 0.0000, 0.0000,  ..., 0.0000, 0.0000, 0.0000],\n",
            "          [0.0000, 0.0000, 0.0000,  ..., 0.0000, 0.0000, 0.0000]]]])\n",
            "tensor([[0., 0., 0.,  ..., 0., 0., 0.],\n",
            "        [0., 0., 0.,  ..., 0., 0., 0.],\n",
            "        [0., 0., 0.,  ..., 0., 0., 0.],\n",
            "        ...,\n",
            "        [0., 0., 0.,  ..., 0., 0., 0.],\n",
            "        [0., 0., 0.,  ..., 0., 0., 0.],\n",
            "        [0., 0., 0.,  ..., 0., 0., 0.]])\n"
          ]
        },
        {
          "data": {
            "image/png": "[encoded data removed]",
            "text/plain": [
              "<Figure size 432x288 with 1 Axes>"
            ]
          },
          "metadata": {},
          "output_type": "display_data"
        },
        {
          "data": {
            "image/png": "[encoded data removed]",
            "text/plain": [
              "<Figure size 432x288 with 1 Axes>"
            ]
          },
          "metadata": {},
          "output_type": "display_data"
        },
        {
          "data": {
            "image/png": "[encoded data removed]",
            "text/plain": [
              "<Figure size 432x288 with 1 Axes>"
            ]
          },
          "metadata": {},
          "output_type": "display_data"
        },
        {
          "data": {
            "image/png": "[encoded data removed]",
            "text/plain": [
              "<Figure size 432x288 with 1 Axes>"
            ]
          },
          "metadata": {},
          "output_type": "display_data"
        },
        {
          "data": {
            "image/png": "[encoded data removed]",
            "text/plain": [
              "<Figure size 432x288 with 1 Axes>"
            ]
          },
          "metadata": {},
          "output_type": "display_data"
        },
        {
          "data": {
            "image/png": "[encoded data removed]",
            "text/plain": [
              "<Figure size 432x288 with 1 Axes>"
            ]
          },
          "metadata": {},
          "output_type": "display_data"
        },
        {
          "data": {
            "image/png": "[encoded data removed]",
            "text/plain": [
              "<Figure size 432x288 with 1 Axes>"
            ]
          },
          "metadata": {},
          "output_type": "display_data"
        },
        {
          "data": {
            "image/png": "[encoded data removed]",
            "text/plain": [
              "<Figure size 432x288 with 1 Axes>"
            ]
          },
          "metadata": {},
          "output_type": "display_data"
        },
        {
          "data": {
            "image/png": "[encoded data removed]",
            "text/plain": [
              "<Figure size 432x288 with 1 Axes>"
            ]
          },
          "metadata": {},
          "output_type": "display_data"
        },
        {
          "data": {
            "image/png": "[encoded data removed]",
            "text/plain": [
              "<Figure size 432x288 with 1 Axes>"
            ]
          },
          "metadata": {},
          "output_type": "display_data"
        },
        {
          "data": {
            "image/png": "[encoded data removed]",
            "text/plain": [
              "<Figure size 432x288 with 1 Axes>"
            ]
          },
          "metadata": {},
          "output_type": "display_data"
        },
        {
          "data": {
            "image/png": "[encoded data removed]",
            "text/plain": [
              "<Figure size 432x288 with 1 Axes>"
            ]
          },
          "metadata": {},
          "output_type": "display_data"
        }
      ],
      "source": [
        "def plot(dataloader, model):\n",
        "    i = 0\n",
        "    size = len(dataloader.dataset)\n",
        "    num_batches = len(dataloader)\n",
        "    model.eval()\n",
        "    test_loss, correct = 0, 0\n",
        "    with torch.no_grad():\n",
        "        for X, y in dataloader:\n",
        "            i += 1\n",
        "            print(X)\n",
        "            X, y = X.to(device), y.to(device)\n",
        "            pred, loss = model(X)\n",
        "            print(pred)\n",
        "            plt.figure()\n",
        "            plt.imshow(  X.cpu()[0].squeeze()  )\n",
        "            plt.figure()\n",
        "            plt.imshow(  pred.cpu().unflatten(1, torch.Size([28, 28]))[0]  )\n",
        "            if i > 5:\n",
        "              break\n",
        "plot(test_dataloader, model)"
      ]
    },
    {
      "cell_type": "markdown",
      "metadata": {
        "id": "vfY-vDJVthJz"
      },
      "source": [
        "## Refrences for implementation for for checking correctness\n",
        "\n",
        "https://arxiv.org/abs/1711.00937\n",
        "\n",
        "https://lilianweng.github.io/lil-log/2018/08/12/from-autoencoder-to-beta-vae.html\n",
        "https://github.com/deepmind/sonnet/blob/v2/sonnet/src/nets/vqvae.py\n",
        "https://colab.research.google.com/gist/tomhennigan/62edee62a4638e0d0ab9738a757043ed/tf2_vq_vae_training_example.ipynb#scrollTo=cIRl2ZtxoKNz\n",
        "https://github.com/nadavbh12/VQ-VAE/blob/master/main.py\n",
        "https://colab.research.google.com/github/zalandoresearch/pytorch-vq-vae/blob/master/vq-vae.ipynb#scrollTo=-uqLy_taUUbI\n",
        "https://github.com/MishaLaskin/vqvae"
      ]
    },
    {
      "cell_type": "code",
      "execution_count": null,
      "metadata": {
        "id": "16AWtSwjt3Ob"
      },
      "outputs": [],
      "source": []
    }
  ],
  "metadata": {
    "accelerator": "GPU",
    "colab": {
      "provenance": [],
      "authorship_tag": "ABX9TyNiXZ+KhPqi0jaS9M5FHzHg",
      "include_colab_link": true
    },
    "kernelspec": {
      "display_name": "Python 3",
      "name": "python3"
    },
    "language_info": {
      "name": "python"
    },
    "widgets": {
      "application/vnd.jupyter.widget-state+json": {
        "02986a7c8c9047638fccac9cc6d1e8e2": {
          "model_module": "@jupyter-widgets/controls",
          "model_module_version": "1.5.0",
          "model_name": "DescriptionStyleModel",
          "state": {
            "_model_module": "@jupyter-widgets/controls",
            "_model_module_version": "1.5.0",
            "_model_name": "DescriptionStyleModel",
            "_view_count": null,
            "_view_module": "@jupyter-widgets/base",
            "_view_module_version": "1.2.0",
            "_view_name": "StyleView",
            "description_width": ""
          }
        },
        "03daeb7a53b64423b86e25f89c63c48c": {
          "model_module": "@jupyter-widgets/base",
          "model_module_version": "1.2.0",
          "model_name": "LayoutModel",
          "state": {
            "_model_module": "@jupyter-widgets/base",
            "_model_module_version": "1.2.0",
            "_model_name": "LayoutModel",
            "_view_count": null,
            "_view_module": "@jupyter-widgets/base",
            "_view_module_version": "1.2.0",
            "_view_name": "LayoutView",
            "align_content": null,
            "align_items": null,
            "align_self": null,
            "border": null,
            "bottom": null,
            "display": null,
            "flex": null,
            "flex_flow": null,
            "grid_area": null,
            "grid_auto_columns": null,
            "grid_auto_flow": null,
            "grid_auto_rows": null,
            "grid_column": null,
            "grid_gap": null,
            "grid_row": null,
            "grid_template_areas": null,
            "grid_template_columns": null,
            "grid_template_rows": null,
            "height": null,
            "justify_content": null,
            "justify_items": null,
            "left": null,
            "margin": null,
            "max_height": null,
            "max_width": null,
            "min_height": null,
            "min_width": null,
            "object_fit": null,
            "object_position": null,
            "order": null,
            "overflow": null,
            "overflow_x": null,
            "overflow_y": null,
            "padding": null,
            "right": null,
            "top": null,
            "visibility": null,
            "width": null
          }
        },
        "05aa6d2a7ffe43c8b16914cd93263b1d": {
          "model_module": "@jupyter-widgets/controls",
          "model_module_version": "1.5.0",
          "model_name": "DescriptionStyleModel",
          "state": {
            "_model_module": "@jupyter-widgets/controls",
            "_model_module_version": "1.5.0",
            "_model_name": "DescriptionStyleModel",
            "_view_count": null,
            "_view_module": "@jupyter-widgets/base",
            "_view_module_version": "1.2.0",
            "_view_name": "StyleView",
            "description_width": ""
          }
        },
        "11083decace148beafa6b63082327368": {
          "model_module": "@jupyter-widgets/base",
          "model_module_version": "1.2.0",
          "model_name": "LayoutModel",
          "state": {
            "_model_module": "@jupyter-widgets/base",
            "_model_module_version": "1.2.0",
            "_model_name": "LayoutModel",
            "_view_count": null,
            "_view_module": "@jupyter-widgets/base",
            "_view_module_version": "1.2.0",
            "_view_name": "LayoutView",
            "align_content": null,
            "align_items": null,
            "align_self": null,
            "border": null,
            "bottom": null,
            "display": null,
            "flex": null,
            "flex_flow": null,
            "grid_area": null,
            "grid_auto_columns": null,
            "grid_auto_flow": null,
            "grid_auto_rows": null,
            "grid_column": null,
            "grid_gap": null,
            "grid_row": null,
            "grid_template_areas": null,
            "grid_template_columns": null,
            "grid_template_rows": null,
            "height": null,
            "justify_content": null,
            "justify_items": null,
            "left": null,
            "margin": null,
            "max_height": null,
            "max_width": null,
            "min_height": null,
            "min_width": null,
            "object_fit": null,
            "object_position": null,
            "order": null,
            "overflow": null,
            "overflow_x": null,
            "overflow_y": null,
            "padding": null,
            "right": null,
            "top": null,
            "visibility": null,
            "width": null
          }
        },
        "11f362dd24824b4089a98f8c0aea2b37": {
          "model_module": "@jupyter-widgets/base",
          "model_module_version": "1.2.0",
          "model_name": "LayoutModel",
          "state": {
            "_model_module": "@jupyter-widgets/base",
            "_model_module_version": "1.2.0",
            "_model_name": "LayoutModel",
            "_view_count": null,
            "_view_module": "@jupyter-widgets/base",
            "_view_module_version": "1.2.0",
            "_view_name": "LayoutView",
            "align_content": null,
            "align_items": null,
            "align_self": null,
            "border": null,
            "bottom": null,
            "display": null,
            "flex": null,
            "flex_flow": null,
            "grid_area": null,
            "grid_auto_columns": null,
            "grid_auto_flow": null,
            "grid_auto_rows": null,
            "grid_column": null,
            "grid_gap": null,
            "grid_row": null,
            "grid_template_areas": null,
            "grid_template_columns": null,
            "grid_template_rows": null,
            "height": null,
            "justify_content": null,
            "justify_items": null,
            "left": null,
            "margin": null,
            "max_height": null,
            "max_width": null,
            "min_height": null,
            "min_width": null,
            "object_fit": null,
            "object_position": null,
            "order": null,
            "overflow": null,
            "overflow_x": null,
            "overflow_y": null,
            "padding": null,
            "right": null,
            "top": null,
            "visibility": null,
            "width": null
          }
        },
        "1645a7ca7ec54405910271bb44d1fed7": {
          "model_module": "@jupyter-widgets/controls",
          "model_module_version": "1.5.0",
          "model_name": "HTMLModel",
          "state": {
            "_dom_classes": [],
            "_model_module": "@jupyter-widgets/controls",
            "_model_module_version": "1.5.0",
            "_model_name": "HTMLModel",
            "_view_count": null,
            "_view_module": "@jupyter-widgets/controls",
            "_view_module_version": "1.5.0",
            "_view_name": "HTMLView",
            "description": "",
            "description_tooltip": null,
            "layout": "IPY_MODEL_11f362dd24824b4089a98f8c0aea2b37",
            "placeholder": "​",
            "style": "IPY_MODEL_5600b32f9d9d42a4a4a6e38c15e85b9b",
            "value": ""
          }
        },
        "190f4249480a44ef9fd6babdb6272394": {
          "model_module": "@jupyter-widgets/base",
          "model_module_version": "1.2.0",
          "model_name": "LayoutModel",
          "state": {
            "_model_module": "@jupyter-widgets/base",
            "_model_module_version": "1.2.0",
            "_model_name": "LayoutModel",
            "_view_count": null,
            "_view_module": "@jupyter-widgets/base",
            "_view_module_version": "1.2.0",
            "_view_name": "LayoutView",
            "align_content": null,
            "align_items": null,
            "align_self": null,
            "border": null,
            "bottom": null,
            "display": null,
            "flex": null,
            "flex_flow": null,
            "grid_area": null,
            "grid_auto_columns": null,
            "grid_auto_flow": null,
            "grid_auto_rows": null,
            "grid_column": null,
            "grid_gap": null,
            "grid_row": null,
            "grid_template_areas": null,
            "grid_template_columns": null,
            "grid_template_rows": null,
            "height": null,
            "justify_content": null,
            "justify_items": null,
            "left": null,
            "margin": null,
            "max_height": null,
            "max_width": null,
            "min_height": null,
            "min_width": null,
            "object_fit": null,
            "object_position": null,
            "order": null,
            "overflow": null,
            "overflow_x": null,
            "overflow_y": null,
            "padding": null,
            "right": null,
            "top": null,
            "visibility": null,
            "width": null
          }
        },
        "1c7289ea6ea0466b9cf1e18fbd3bf285": {
          "model_module": "@jupyter-widgets/controls",
          "model_module_version": "1.5.0",
          "model_name": "ProgressStyleModel",
          "state": {
            "_model_module": "@jupyter-widgets/controls",
            "_model_module_version": "1.5.0",
            "_model_name": "ProgressStyleModel",
            "_view_count": null,
            "_view_module": "@jupyter-widgets/base",
            "_view_module_version": "1.2.0",
            "_view_name": "StyleView",
            "bar_color": null,
            "description_width": ""
          }
        },
        "243b0b9c88564e6aafadb1c7cc33189d": {
          "model_module": "@jupyter-widgets/controls",
          "model_module_version": "1.5.0",
          "model_name": "FloatProgressModel",
          "state": {
            "_dom_classes": [],
            "_model_module": "@jupyter-widgets/controls",
            "_model_module_version": "1.5.0",
            "_model_name": "FloatProgressModel",
            "_view_count": null,
            "_view_module": "@jupyter-widgets/controls",
            "_view_module_version": "1.5.0",
            "_view_name": "ProgressView",
            "bar_style": "success",
            "description": "",
            "description_tooltip": null,
            "layout": "IPY_MODEL_6dd40c83d50147f49ec2a16b6d4862b8",
            "max": 29515,
            "min": 0,
            "orientation": "horizontal",
            "style": "IPY_MODEL_b5ed4956f4b2456a8ed037720dafb330",
            "value": 29515
          }
        },
        "25e73e0a56eb49f0841b4a066046e670": {
          "model_module": "@jupyter-widgets/controls",
          "model_module_version": "1.5.0",
          "model_name": "DescriptionStyleModel",
          "state": {
            "_model_module": "@jupyter-widgets/controls",
            "_model_module_version": "1.5.0",
            "_model_name": "DescriptionStyleModel",
            "_view_count": null,
            "_view_module": "@jupyter-widgets/base",
            "_view_module_version": "1.2.0",
            "_view_name": "StyleView",
            "description_width": ""
          }
        },
        "2d0f9f10518b4e5ea95783044d9fcb44": {
          "model_module": "@jupyter-widgets/base",
          "model_module_version": "1.2.0",
          "model_name": "LayoutModel",
          "state": {
            "_model_module": "@jupyter-widgets/base",
            "_model_module_version": "1.2.0",
            "_model_name": "LayoutModel",
            "_view_count": null,
            "_view_module": "@jupyter-widgets/base",
            "_view_module_version": "1.2.0",
            "_view_name": "LayoutView",
            "align_content": null,
            "align_items": null,
            "align_self": null,
            "border": null,
            "bottom": null,
            "display": null,
            "flex": null,
            "flex_flow": null,
            "grid_area": null,
            "grid_auto_columns": null,
            "grid_auto_flow": null,
            "grid_auto_rows": null,
            "grid_column": null,
            "grid_gap": null,
            "grid_row": null,
            "grid_template_areas": null,
            "grid_template_columns": null,
            "grid_template_rows": null,
            "height": null,
            "justify_content": null,
            "justify_items": null,
            "left": null,
            "margin": null,
            "max_height": null,
            "max_width": null,
            "min_height": null,
            "min_width": null,
            "object_fit": null,
            "object_position": null,
            "order": null,
            "overflow": null,
            "overflow_x": null,
            "overflow_y": null,
            "padding": null,
            "right": null,
            "top": null,
            "visibility": null,
            "width": null
          }
        },
        "2d6a5b4c0fe246aa9ed4071c0c1c8517": {
          "model_module": "@jupyter-widgets/controls",
          "model_module_version": "1.5.0",
          "model_name": "HBoxModel",
          "state": {
            "_dom_classes": [],
            "_model_module": "@jupyter-widgets/controls",
            "_model_module_version": "1.5.0",
            "_model_name": "HBoxModel",
            "_view_count": null,
            "_view_module": "@jupyter-widgets/controls",
            "_view_module_version": "1.5.0",
            "_view_name": "HBoxView",
            "box_style": "",
            "children": [
              "IPY_MODEL_1645a7ca7ec54405910271bb44d1fed7",
              "IPY_MODEL_a301125b28234843b39159a74cb6550d",
              "IPY_MODEL_b291d306517544b58d892201a9f7c212"
            ],
            "layout": "IPY_MODEL_bf0588c0322945019f81893a37b2d668"
          }
        },
        "3cc70b4ebd43496b817f7ba6c518ee5d": {
          "model_module": "@jupyter-widgets/base",
          "model_module_version": "1.2.0",
          "model_name": "LayoutModel",
          "state": {
            "_model_module": "@jupyter-widgets/base",
            "_model_module_version": "1.2.0",
            "_model_name": "LayoutModel",
            "_view_count": null,
            "_view_module": "@jupyter-widgets/base",
            "_view_module_version": "1.2.0",
            "_view_name": "LayoutView",
            "align_content": null,
            "align_items": null,
            "align_self": null,
            "border": null,
            "bottom": null,
            "display": null,
            "flex": null,
            "flex_flow": null,
            "grid_area": null,
            "grid_auto_columns": null,
            "grid_auto_flow": null,
            "grid_auto_rows": null,
            "grid_column": null,
            "grid_gap": null,
            "grid_row": null,
            "grid_template_areas": null,
            "grid_template_columns": null,
            "grid_template_rows": null,
            "height": null,
            "justify_content": null,
            "justify_items": null,
            "left": null,
            "margin": null,
            "max_height": null,
            "max_width": null,
            "min_height": null,
            "min_width": null,
            "object_fit": null,
            "object_position": null,
            "order": null,
            "overflow": null,
            "overflow_x": null,
            "overflow_y": null,
            "padding": null,
            "right": null,
            "top": null,
            "visibility": null,
            "width": null
          }
        },
        "3f753206fcb84dc1b279a599061cf6a3": {
          "model_module": "@jupyter-widgets/controls",
          "model_module_version": "1.5.0",
          "model_name": "DescriptionStyleModel",
          "state": {
            "_model_module": "@jupyter-widgets/controls",
            "_model_module_version": "1.5.0",
            "_model_name": "DescriptionStyleModel",
            "_view_count": null,
            "_view_module": "@jupyter-widgets/base",
            "_view_module_version": "1.2.0",
            "_view_name": "StyleView",
            "description_width": ""
          }
        },
        "5600b32f9d9d42a4a4a6e38c15e85b9b": {
          "model_module": "@jupyter-widgets/controls",
          "model_module_version": "1.5.0",
          "model_name": "DescriptionStyleModel",
          "state": {
            "_model_module": "@jupyter-widgets/controls",
            "_model_module_version": "1.5.0",
            "_model_name": "DescriptionStyleModel",
            "_view_count": null,
            "_view_module": "@jupyter-widgets/base",
            "_view_module_version": "1.2.0",
            "_view_name": "StyleView",
            "description_width": ""
          }
        },
        "586b94d26984498c8a25ed6d528c4294": {
          "model_module": "@jupyter-widgets/controls",
          "model_module_version": "1.5.0",
          "model_name": "HBoxModel",
          "state": {
            "_dom_classes": [],
            "_model_module": "@jupyter-widgets/controls",
            "_model_module_version": "1.5.0",
            "_model_name": "HBoxModel",
            "_view_count": null,
            "_view_module": "@jupyter-widgets/controls",
            "_view_module_version": "1.5.0",
            "_view_name": "HBoxView",
            "box_style": "",
            "children": [
              "IPY_MODEL_65b99912d65a4badb9e02d06b864b73e",
              "IPY_MODEL_c5817d8ba420421fa257921bb1c14e1c",
              "IPY_MODEL_d1890906668d4263b64c51c1e2db79f6"
            ],
            "layout": "IPY_MODEL_3cc70b4ebd43496b817f7ba6c518ee5d"
          }
        },
        "609a2dd96967481c956babc68c809cc8": {
          "model_module": "@jupyter-widgets/base",
          "model_module_version": "1.2.0",
          "model_name": "LayoutModel",
          "state": {
            "_model_module": "@jupyter-widgets/base",
            "_model_module_version": "1.2.0",
            "_model_name": "LayoutModel",
            "_view_count": null,
            "_view_module": "@jupyter-widgets/base",
            "_view_module_version": "1.2.0",
            "_view_name": "LayoutView",
            "align_content": null,
            "align_items": null,
            "align_self": null,
            "border": null,
            "bottom": null,
            "display": null,
            "flex": null,
            "flex_flow": null,
            "grid_area": null,
            "grid_auto_columns": null,
            "grid_auto_flow": null,
            "grid_auto_rows": null,
            "grid_column": null,
            "grid_gap": null,
            "grid_row": null,
            "grid_template_areas": null,
            "grid_template_columns": null,
            "grid_template_rows": null,
            "height": null,
            "justify_content": null,
            "justify_items": null,
            "left": null,
            "margin": null,
            "max_height": null,
            "max_width": null,
            "min_height": null,
            "min_width": null,
            "object_fit": null,
            "object_position": null,
            "order": null,
            "overflow": null,
            "overflow_x": null,
            "overflow_y": null,
            "padding": null,
            "right": null,
            "top": null,
            "visibility": null,
            "width": null
          }
        },
        "61f069807b8542b1ae4ccb3f9d9e2436": {
          "model_module": "@jupyter-widgets/controls",
          "model_module_version": "1.5.0",
          "model_name": "HTMLModel",
          "state": {
            "_dom_classes": [],
            "_model_module": "@jupyter-widgets/controls",
            "_model_module_version": "1.5.0",
            "_model_name": "HTMLModel",
            "_view_count": null,
            "_view_module": "@jupyter-widgets/controls",
            "_view_module_version": "1.5.0",
            "_view_name": "HTMLView",
            "description": "",
            "description_tooltip": null,
            "layout": "IPY_MODEL_2d0f9f10518b4e5ea95783044d9fcb44",
            "placeholder": "​",
            "style": "IPY_MODEL_05aa6d2a7ffe43c8b16914cd93263b1d",
            "value": " 4422656/? [00:01&lt;00:00, 5364109.69it/s]"
          }
        },
        "65b99912d65a4badb9e02d06b864b73e": {
          "model_module": "@jupyter-widgets/controls",
          "model_module_version": "1.5.0",
          "model_name": "HTMLModel",
          "state": {
            "_dom_classes": [],
            "_model_module": "@jupyter-widgets/controls",
            "_model_module_version": "1.5.0",
            "_model_name": "HTMLModel",
            "_view_count": null,
            "_view_module": "@jupyter-widgets/controls",
            "_view_module_version": "1.5.0",
            "_view_name": "HTMLView",
            "description": "",
            "description_tooltip": null,
            "layout": "IPY_MODEL_03daeb7a53b64423b86e25f89c63c48c",
            "placeholder": "​",
            "style": "IPY_MODEL_c954ed4bfc494ba892fa87fa1bb6f505",
            "value": ""
          }
        },
        "6dd40c83d50147f49ec2a16b6d4862b8": {
          "model_module": "@jupyter-widgets/base",
          "model_module_version": "1.2.0",
          "model_name": "LayoutModel",
          "state": {
            "_model_module": "@jupyter-widgets/base",
            "_model_module_version": "1.2.0",
            "_model_name": "LayoutModel",
            "_view_count": null,
            "_view_module": "@jupyter-widgets/base",
            "_view_module_version": "1.2.0",
            "_view_name": "LayoutView",
            "align_content": null,
            "align_items": null,
            "align_self": null,
            "border": null,
            "bottom": null,
            "display": null,
            "flex": null,
            "flex_flow": null,
            "grid_area": null,
            "grid_auto_columns": null,
            "grid_auto_flow": null,
            "grid_auto_rows": null,
            "grid_column": null,
            "grid_gap": null,
            "grid_row": null,
            "grid_template_areas": null,
            "grid_template_columns": null,
            "grid_template_rows": null,
            "height": null,
            "justify_content": null,
            "justify_items": null,
            "left": null,
            "margin": null,
            "max_height": null,
            "max_width": null,
            "min_height": null,
            "min_width": null,
            "object_fit": null,
            "object_position": null,
            "order": null,
            "overflow": null,
            "overflow_x": null,
            "overflow_y": null,
            "padding": null,
            "right": null,
            "top": null,
            "visibility": null,
            "width": null
          }
        },
        "777034e8c7ce4e2380def1094f19c7e1": {
          "model_module": "@jupyter-widgets/controls",
          "model_module_version": "1.5.0",
          "model_name": "HTMLModel",
          "state": {
            "_dom_classes": [],
            "_model_module": "@jupyter-widgets/controls",
            "_model_module_version": "1.5.0",
            "_model_name": "HTMLModel",
            "_view_count": null,
            "_view_module": "@jupyter-widgets/controls",
            "_view_module_version": "1.5.0",
            "_view_name": "HTMLView",
            "description": "",
            "description_tooltip": null,
            "layout": "IPY_MODEL_af010894241d439487f6945110acbfe7",
            "placeholder": "​",
            "style": "IPY_MODEL_02986a7c8c9047638fccac9cc6d1e8e2",
            "value": " 29696/? [00:00&lt;00:00, 104065.46it/s]"
          }
        },
        "85605d9a875749559aec06ae02c108ea": {
          "model_module": "@jupyter-widgets/base",
          "model_module_version": "1.2.0",
          "model_name": "LayoutModel",
          "state": {
            "_model_module": "@jupyter-widgets/base",
            "_model_module_version": "1.2.0",
            "_model_name": "LayoutModel",
            "_view_count": null,
            "_view_module": "@jupyter-widgets/base",
            "_view_module_version": "1.2.0",
            "_view_name": "LayoutView",
            "align_content": null,
            "align_items": null,
            "align_self": null,
            "border": null,
            "bottom": null,
            "display": null,
            "flex": null,
            "flex_flow": null,
            "grid_area": null,
            "grid_auto_columns": null,
            "grid_auto_flow": null,
            "grid_auto_rows": null,
            "grid_column": null,
            "grid_gap": null,
            "grid_row": null,
            "grid_template_areas": null,
            "grid_template_columns": null,
            "grid_template_rows": null,
            "height": null,
            "justify_content": null,
            "justify_items": null,
            "left": null,
            "margin": null,
            "max_height": null,
            "max_width": null,
            "min_height": null,
            "min_width": null,
            "object_fit": null,
            "object_position": null,
            "order": null,
            "overflow": null,
            "overflow_x": null,
            "overflow_y": null,
            "padding": null,
            "right": null,
            "top": null,
            "visibility": null,
            "width": null
          }
        },
        "866d912a51bf483c8bfb5b64b42e42b7": {
          "model_module": "@jupyter-widgets/controls",
          "model_module_version": "1.5.0",
          "model_name": "DescriptionStyleModel",
          "state": {
            "_model_module": "@jupyter-widgets/controls",
            "_model_module_version": "1.5.0",
            "_model_name": "DescriptionStyleModel",
            "_view_count": null,
            "_view_module": "@jupyter-widgets/base",
            "_view_module_version": "1.2.0",
            "_view_name": "StyleView",
            "description_width": ""
          }
        },
        "9e627f8449d44e17926ee2369349523a": {
          "model_module": "@jupyter-widgets/controls",
          "model_module_version": "1.5.0",
          "model_name": "HTMLModel",
          "state": {
            "_dom_classes": [],
            "_model_module": "@jupyter-widgets/controls",
            "_model_module_version": "1.5.0",
            "_model_name": "HTMLModel",
            "_view_count": null,
            "_view_module": "@jupyter-widgets/controls",
            "_view_module_version": "1.5.0",
            "_view_name": "HTMLView",
            "description": "",
            "description_tooltip": null,
            "layout": "IPY_MODEL_a1ed304c23d14b7aae8aab35f0d570f2",
            "placeholder": "​",
            "style": "IPY_MODEL_866d912a51bf483c8bfb5b64b42e42b7",
            "value": ""
          }
        },
        "a1ed304c23d14b7aae8aab35f0d570f2": {
          "model_module": "@jupyter-widgets/base",
          "model_module_version": "1.2.0",
          "model_name": "LayoutModel",
          "state": {
            "_model_module": "@jupyter-widgets/base",
            "_model_module_version": "1.2.0",
            "_model_name": "LayoutModel",
            "_view_count": null,
            "_view_module": "@jupyter-widgets/base",
            "_view_module_version": "1.2.0",
            "_view_name": "LayoutView",
            "align_content": null,
            "align_items": null,
            "align_self": null,
            "border": null,
            "bottom": null,
            "display": null,
            "flex": null,
            "flex_flow": null,
            "grid_area": null,
            "grid_auto_columns": null,
            "grid_auto_flow": null,
            "grid_auto_rows": null,
            "grid_column": null,
            "grid_gap": null,
            "grid_row": null,
            "grid_template_areas": null,
            "grid_template_columns": null,
            "grid_template_rows": null,
            "height": null,
            "justify_content": null,
            "justify_items": null,
            "left": null,
            "margin": null,
            "max_height": null,
            "max_width": null,
            "min_height": null,
            "min_width": null,
            "object_fit": null,
            "object_position": null,
            "order": null,
            "overflow": null,
            "overflow_x": null,
            "overflow_y": null,
            "padding": null,
            "right": null,
            "top": null,
            "visibility": null,
            "width": null
          }
        },
        "a301125b28234843b39159a74cb6550d": {
          "model_module": "@jupyter-widgets/controls",
          "model_module_version": "1.5.0",
          "model_name": "FloatProgressModel",
          "state": {
            "_dom_classes": [],
            "_model_module": "@jupyter-widgets/controls",
            "_model_module_version": "1.5.0",
            "_model_name": "FloatProgressModel",
            "_view_count": null,
            "_view_module": "@jupyter-widgets/controls",
            "_view_module_version": "1.5.0",
            "_view_name": "ProgressView",
            "bar_style": "success",
            "description": "",
            "description_tooltip": null,
            "layout": "IPY_MODEL_85605d9a875749559aec06ae02c108ea",
            "max": 26421880,
            "min": 0,
            "orientation": "horizontal",
            "style": "IPY_MODEL_1c7289ea6ea0466b9cf1e18fbd3bf285",
            "value": 26421880
          }
        },
        "a6a2b9f64009421d9cf6f9831138b419": {
          "model_module": "@jupyter-widgets/base",
          "model_module_version": "1.2.0",
          "model_name": "LayoutModel",
          "state": {
            "_model_module": "@jupyter-widgets/base",
            "_model_module_version": "1.2.0",
            "_model_name": "LayoutModel",
            "_view_count": null,
            "_view_module": "@jupyter-widgets/base",
            "_view_module_version": "1.2.0",
            "_view_name": "LayoutView",
            "align_content": null,
            "align_items": null,
            "align_self": null,
            "border": null,
            "bottom": null,
            "display": null,
            "flex": null,
            "flex_flow": null,
            "grid_area": null,
            "grid_auto_columns": null,
            "grid_auto_flow": null,
            "grid_auto_rows": null,
            "grid_column": null,
            "grid_gap": null,
            "grid_row": null,
            "grid_template_areas": null,
            "grid_template_columns": null,
            "grid_template_rows": null,
            "height": null,
            "justify_content": null,
            "justify_items": null,
            "left": null,
            "margin": null,
            "max_height": null,
            "max_width": null,
            "min_height": null,
            "min_width": null,
            "object_fit": null,
            "object_position": null,
            "order": null,
            "overflow": null,
            "overflow_x": null,
            "overflow_y": null,
            "padding": null,
            "right": null,
            "top": null,
            "visibility": null,
            "width": null
          }
        },
        "af010894241d439487f6945110acbfe7": {
          "model_module": "@jupyter-widgets/base",
          "model_module_version": "1.2.0",
          "model_name": "LayoutModel",
          "state": {
            "_model_module": "@jupyter-widgets/base",
            "_model_module_version": "1.2.0",
            "_model_name": "LayoutModel",
            "_view_count": null,
            "_view_module": "@jupyter-widgets/base",
            "_view_module_version": "1.2.0",
            "_view_name": "LayoutView",
            "align_content": null,
            "align_items": null,
            "align_self": null,
            "border": null,
            "bottom": null,
            "display": null,
            "flex": null,
            "flex_flow": null,
            "grid_area": null,
            "grid_auto_columns": null,
            "grid_auto_flow": null,
            "grid_auto_rows": null,
            "grid_column": null,
            "grid_gap": null,
            "grid_row": null,
            "grid_template_areas": null,
            "grid_template_columns": null,
            "grid_template_rows": null,
            "height": null,
            "justify_content": null,
            "justify_items": null,
            "left": null,
            "margin": null,
            "max_height": null,
            "max_width": null,
            "min_height": null,
            "min_width": null,
            "object_fit": null,
            "object_position": null,
            "order": null,
            "overflow": null,
            "overflow_x": null,
            "overflow_y": null,
            "padding": null,
            "right": null,
            "top": null,
            "visibility": null,
            "width": null
          }
        },
        "b291d306517544b58d892201a9f7c212": {
          "model_module": "@jupyter-widgets/controls",
          "model_module_version": "1.5.0",
          "model_name": "HTMLModel",
          "state": {
            "_dom_classes": [],
            "_model_module": "@jupyter-widgets/controls",
            "_model_module_version": "1.5.0",
            "_model_name": "HTMLModel",
            "_view_count": null,
            "_view_module": "@jupyter-widgets/controls",
            "_view_module_version": "1.5.0",
            "_view_name": "HTMLView",
            "description": "",
            "description_tooltip": null,
            "layout": "IPY_MODEL_d277813362a04616a06bde9119d0ea10",
            "placeholder": "​",
            "style": "IPY_MODEL_d1f21653e1874d11ad286b5af760037a",
            "value": " 26422272/? [00:02&lt;00:00, 15952455.73it/s]"
          }
        },
        "b5ed4956f4b2456a8ed037720dafb330": {
          "model_module": "@jupyter-widgets/controls",
          "model_module_version": "1.5.0",
          "model_name": "ProgressStyleModel",
          "state": {
            "_model_module": "@jupyter-widgets/controls",
            "_model_module_version": "1.5.0",
            "_model_name": "ProgressStyleModel",
            "_view_count": null,
            "_view_module": "@jupyter-widgets/base",
            "_view_module_version": "1.2.0",
            "_view_name": "StyleView",
            "bar_color": null,
            "description_width": ""
          }
        },
        "b8159f41613c401fbe50eb2329259ed8": {
          "model_module": "@jupyter-widgets/controls",
          "model_module_version": "1.5.0",
          "model_name": "HBoxModel",
          "state": {
            "_dom_classes": [],
            "_model_module": "@jupyter-widgets/controls",
            "_model_module_version": "1.5.0",
            "_model_name": "HBoxModel",
            "_view_count": null,
            "_view_module": "@jupyter-widgets/controls",
            "_view_module_version": "1.5.0",
            "_view_name": "HBoxView",
            "box_style": "",
            "children": [
              "IPY_MODEL_db9c35fc015d4d68b036a98a07d1cde9",
              "IPY_MODEL_d3e3fec060534cf3b5dfa37549024f4d",
              "IPY_MODEL_61f069807b8542b1ae4ccb3f9d9e2436"
            ],
            "layout": "IPY_MODEL_a6a2b9f64009421d9cf6f9831138b419"
          }
        },
        "bf0588c0322945019f81893a37b2d668": {
          "model_module": "@jupyter-widgets/base",
          "model_module_version": "1.2.0",
          "model_name": "LayoutModel",
          "state": {
            "_model_module": "@jupyter-widgets/base",
            "_model_module_version": "1.2.0",
            "_model_name": "LayoutModel",
            "_view_count": null,
            "_view_module": "@jupyter-widgets/base",
            "_view_module_version": "1.2.0",
            "_view_name": "LayoutView",
            "align_content": null,
            "align_items": null,
            "align_self": null,
            "border": null,
            "bottom": null,
            "display": null,
            "flex": null,
            "flex_flow": null,
            "grid_area": null,
            "grid_auto_columns": null,
            "grid_auto_flow": null,
            "grid_auto_rows": null,
            "grid_column": null,
            "grid_gap": null,
            "grid_row": null,
            "grid_template_areas": null,
            "grid_template_columns": null,
            "grid_template_rows": null,
            "height": null,
            "justify_content": null,
            "justify_items": null,
            "left": null,
            "margin": null,
            "max_height": null,
            "max_width": null,
            "min_height": null,
            "min_width": null,
            "object_fit": null,
            "object_position": null,
            "order": null,
            "overflow": null,
            "overflow_x": null,
            "overflow_y": null,
            "padding": null,
            "right": null,
            "top": null,
            "visibility": null,
            "width": null
          }
        },
        "c5817d8ba420421fa257921bb1c14e1c": {
          "model_module": "@jupyter-widgets/controls",
          "model_module_version": "1.5.0",
          "model_name": "FloatProgressModel",
          "state": {
            "_dom_classes": [],
            "_model_module": "@jupyter-widgets/controls",
            "_model_module_version": "1.5.0",
            "_model_name": "FloatProgressModel",
            "_view_count": null,
            "_view_module": "@jupyter-widgets/controls",
            "_view_module_version": "1.5.0",
            "_view_name": "ProgressView",
            "bar_style": "success",
            "description": "",
            "description_tooltip": null,
            "layout": "IPY_MODEL_11083decace148beafa6b63082327368",
            "max": 5148,
            "min": 0,
            "orientation": "horizontal",
            "style": "IPY_MODEL_d000578a40fc449cbe6898c7d36ebd0d",
            "value": 5148
          }
        },
        "c7688e9d0c2c4d77993ba34fa76ddc65": {
          "model_module": "@jupyter-widgets/controls",
          "model_module_version": "1.5.0",
          "model_name": "ProgressStyleModel",
          "state": {
            "_model_module": "@jupyter-widgets/controls",
            "_model_module_version": "1.5.0",
            "_model_name": "ProgressStyleModel",
            "_view_count": null,
            "_view_module": "@jupyter-widgets/base",
            "_view_module_version": "1.2.0",
            "_view_name": "StyleView",
            "bar_color": null,
            "description_width": ""
          }
        },
        "c954ed4bfc494ba892fa87fa1bb6f505": {
          "model_module": "@jupyter-widgets/controls",
          "model_module_version": "1.5.0",
          "model_name": "DescriptionStyleModel",
          "state": {
            "_model_module": "@jupyter-widgets/controls",
            "_model_module_version": "1.5.0",
            "_model_name": "DescriptionStyleModel",
            "_view_count": null,
            "_view_module": "@jupyter-widgets/base",
            "_view_module_version": "1.2.0",
            "_view_name": "StyleView",
            "description_width": ""
          }
        },
        "ca9fbbc3b95f4b1d9e4c47c28efa7fca": {
          "model_module": "@jupyter-widgets/base",
          "model_module_version": "1.2.0",
          "model_name": "LayoutModel",
          "state": {
            "_model_module": "@jupyter-widgets/base",
            "_model_module_version": "1.2.0",
            "_model_name": "LayoutModel",
            "_view_count": null,
            "_view_module": "@jupyter-widgets/base",
            "_view_module_version": "1.2.0",
            "_view_name": "LayoutView",
            "align_content": null,
            "align_items": null,
            "align_self": null,
            "border": null,
            "bottom": null,
            "display": null,
            "flex": null,
            "flex_flow": null,
            "grid_area": null,
            "grid_auto_columns": null,
            "grid_auto_flow": null,
            "grid_auto_rows": null,
            "grid_column": null,
            "grid_gap": null,
            "grid_row": null,
            "grid_template_areas": null,
            "grid_template_columns": null,
            "grid_template_rows": null,
            "height": null,
            "justify_content": null,
            "justify_items": null,
            "left": null,
            "margin": null,
            "max_height": null,
            "max_width": null,
            "min_height": null,
            "min_width": null,
            "object_fit": null,
            "object_position": null,
            "order": null,
            "overflow": null,
            "overflow_x": null,
            "overflow_y": null,
            "padding": null,
            "right": null,
            "top": null,
            "visibility": null,
            "width": null
          }
        },
        "d000578a40fc449cbe6898c7d36ebd0d": {
          "model_module": "@jupyter-widgets/controls",
          "model_module_version": "1.5.0",
          "model_name": "ProgressStyleModel",
          "state": {
            "_model_module": "@jupyter-widgets/controls",
            "_model_module_version": "1.5.0",
            "_model_name": "ProgressStyleModel",
            "_view_count": null,
            "_view_module": "@jupyter-widgets/base",
            "_view_module_version": "1.2.0",
            "_view_name": "StyleView",
            "bar_color": null,
            "description_width": ""
          }
        },
        "d1890906668d4263b64c51c1e2db79f6": {
          "model_module": "@jupyter-widgets/controls",
          "model_module_version": "1.5.0",
          "model_name": "HTMLModel",
          "state": {
            "_dom_classes": [],
            "_model_module": "@jupyter-widgets/controls",
            "_model_module_version": "1.5.0",
            "_model_name": "HTMLModel",
            "_view_count": null,
            "_view_module": "@jupyter-widgets/controls",
            "_view_module_version": "1.5.0",
            "_view_name": "HTMLView",
            "description": "",
            "description_tooltip": null,
            "layout": "IPY_MODEL_ff84cc59f61a48dfa79eb8edde06740f",
            "placeholder": "​",
            "style": "IPY_MODEL_3f753206fcb84dc1b279a599061cf6a3",
            "value": " 6144/? [00:00&lt;00:00, 166423.22it/s]"
          }
        },
        "d1f21653e1874d11ad286b5af760037a": {
          "model_module": "@jupyter-widgets/controls",
          "model_module_version": "1.5.0",
          "model_name": "DescriptionStyleModel",
          "state": {
            "_model_module": "@jupyter-widgets/controls",
            "_model_module_version": "1.5.0",
            "_model_name": "DescriptionStyleModel",
            "_view_count": null,
            "_view_module": "@jupyter-widgets/base",
            "_view_module_version": "1.2.0",
            "_view_name": "StyleView",
            "description_width": ""
          }
        },
        "d277813362a04616a06bde9119d0ea10": {
          "model_module": "@jupyter-widgets/base",
          "model_module_version": "1.2.0",
          "model_name": "LayoutModel",
          "state": {
            "_model_module": "@jupyter-widgets/base",
            "_model_module_version": "1.2.0",
            "_model_name": "LayoutModel",
            "_view_count": null,
            "_view_module": "@jupyter-widgets/base",
            "_view_module_version": "1.2.0",
            "_view_name": "LayoutView",
            "align_content": null,
            "align_items": null,
            "align_self": null,
            "border": null,
            "bottom": null,
            "display": null,
            "flex": null,
            "flex_flow": null,
            "grid_area": null,
            "grid_auto_columns": null,
            "grid_auto_flow": null,
            "grid_auto_rows": null,
            "grid_column": null,
            "grid_gap": null,
            "grid_row": null,
            "grid_template_areas": null,
            "grid_template_columns": null,
            "grid_template_rows": null,
            "height": null,
            "justify_content": null,
            "justify_items": null,
            "left": null,
            "margin": null,
            "max_height": null,
            "max_width": null,
            "min_height": null,
            "min_width": null,
            "object_fit": null,
            "object_position": null,
            "order": null,
            "overflow": null,
            "overflow_x": null,
            "overflow_y": null,
            "padding": null,
            "right": null,
            "top": null,
            "visibility": null,
            "width": null
          }
        },
        "d3e3fec060534cf3b5dfa37549024f4d": {
          "model_module": "@jupyter-widgets/controls",
          "model_module_version": "1.5.0",
          "model_name": "FloatProgressModel",
          "state": {
            "_dom_classes": [],
            "_model_module": "@jupyter-widgets/controls",
            "_model_module_version": "1.5.0",
            "_model_name": "FloatProgressModel",
            "_view_count": null,
            "_view_module": "@jupyter-widgets/controls",
            "_view_module_version": "1.5.0",
            "_view_name": "ProgressView",
            "bar_style": "success",
            "description": "",
            "description_tooltip": null,
            "layout": "IPY_MODEL_609a2dd96967481c956babc68c809cc8",
            "max": 4422102,
            "min": 0,
            "orientation": "horizontal",
            "style": "IPY_MODEL_c7688e9d0c2c4d77993ba34fa76ddc65",
            "value": 4422102
          }
        },
        "dae7f00907d64dcb847fe9c692ff0a73": {
          "model_module": "@jupyter-widgets/controls",
          "model_module_version": "1.5.0",
          "model_name": "HBoxModel",
          "state": {
            "_dom_classes": [],
            "_model_module": "@jupyter-widgets/controls",
            "_model_module_version": "1.5.0",
            "_model_name": "HBoxModel",
            "_view_count": null,
            "_view_module": "@jupyter-widgets/controls",
            "_view_module_version": "1.5.0",
            "_view_name": "HBoxView",
            "box_style": "",
            "children": [
              "IPY_MODEL_9e627f8449d44e17926ee2369349523a",
              "IPY_MODEL_243b0b9c88564e6aafadb1c7cc33189d",
              "IPY_MODEL_777034e8c7ce4e2380def1094f19c7e1"
            ],
            "layout": "IPY_MODEL_ca9fbbc3b95f4b1d9e4c47c28efa7fca"
          }
        },
        "db9c35fc015d4d68b036a98a07d1cde9": {
          "model_module": "@jupyter-widgets/controls",
          "model_module_version": "1.5.0",
          "model_name": "HTMLModel",
          "state": {
            "_dom_classes": [],
            "_model_module": "@jupyter-widgets/controls",
            "_model_module_version": "1.5.0",
            "_model_name": "HTMLModel",
            "_view_count": null,
            "_view_module": "@jupyter-widgets/controls",
            "_view_module_version": "1.5.0",
            "_view_name": "HTMLView",
            "description": "",
            "description_tooltip": null,
            "layout": "IPY_MODEL_190f4249480a44ef9fd6babdb6272394",
            "placeholder": "​",
            "style": "IPY_MODEL_25e73e0a56eb49f0841b4a066046e670",
            "value": ""
          }
        },
        "ff84cc59f61a48dfa79eb8edde06740f": {
          "model_module": "@jupyter-widgets/base",
          "model_module_version": "1.2.0",
          "model_name": "LayoutModel",
          "state": {
            "_model_module": "@jupyter-widgets/base",
            "_model_module_version": "1.2.0",
            "_model_name": "LayoutModel",
            "_view_count": null,
            "_view_module": "@jupyter-widgets/base",
            "_view_module_version": "1.2.0",
            "_view_name": "LayoutView",
            "align_content": null,
            "align_items": null,
            "align_self": null,
            "border": null,
            "bottom": null,
            "display": null,
            "flex": null,
            "flex_flow": null,
            "grid_area": null,
            "grid_auto_columns": null,
            "grid_auto_flow": null,
            "grid_auto_rows": null,
            "grid_column": null,
            "grid_gap": null,
            "grid_row": null,
            "grid_template_areas": null,
            "grid_template_columns": null,
            "grid_template_rows": null,
            "height": null,
            "justify_content": null,
            "justify_items": null,
            "left": null,
            "margin": null,
            "max_height": null,
            "max_width": null,
            "min_height": null,
            "min_width": null,
            "object_fit": null,
            "object_position": null,
            "order": null,
            "overflow": null,
            "overflow_x": null,
            "overflow_y": null,
            "padding": null,
            "right": null,
            "top": null,
            "visibility": null,
            "width": null
          }
        }
      }
    }
  },
  "nbformat": 4,
  "nbformat_minor": 0
}